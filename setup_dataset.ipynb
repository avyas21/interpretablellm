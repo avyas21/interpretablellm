{
 "cells": [
  {
   "cell_type": "code",
   "execution_count": 24,
   "id": "da24d55b-2a5f-4b1a-9047-4d834bc22c7c",
   "metadata": {},
   "outputs": [],
   "source": [
    "import json\n",
    "import numpy as np\n",
    "import random\n",
    "import csv"
   ]
  },
  {
   "cell_type": "code",
   "execution_count": 25,
   "id": "cdbdcf0f-5b6a-4fcb-8d88-57a5bb5fe5dd",
   "metadata": {},
   "outputs": [],
   "source": [
    "#Make sure these are divisible by 4\n",
    "TRAIN_DATA_POINTS = 8000\n",
    "TEST_DATA_POINTS = 2000\n",
    "TOTAL_EXAMPLES = TRAIN_DATA_POINTS + TEST_DATA_POINTS\n",
    "MAX_RATING = 5\n",
    "\n",
    "assert TRAIN_DATA_POINTS % 4 == 0\n",
    "assert TEST_DATA_POINTS % 4 == 0"
   ]
  },
  {
   "cell_type": "code",
   "execution_count": 33,
   "id": "1d0761b9-e395-4e7b-9aa1-3558a9a57596",
   "metadata": {},
   "outputs": [],
   "source": [
    "file = \"Books.jsonl\"\n",
    "train_example_cnts = np.zeros(MAX_RATING + 1)\n",
    "test_example_cnts = np.zeros(MAX_RATING + 1)\n",
    "\n",
    "train_data = [\n",
    "    ['Review', 'Sentiment']\n",
    "]\n",
    "\n",
    "test_data = [\n",
    "    ['Review', 'Sentiment']\n",
    "]\n",
    "\n",
    "with open(file, 'r') as fp:\n",
    "    for line in fp:\n",
    "        train_data_done = np.sum(train_example_cnts) >= TRAIN_DATA_POINTS\n",
    "        test_data_done = np.sum(test_example_cnts) >= TEST_DATA_POINTS\n",
    "        \n",
    "        if train_data_done and test_data_done:\n",
    "            break\n",
    "            \n",
    "        review = json.loads(line.strip())\n",
    "        rating = int(review[\"rating\"])\n",
    "        text = review[\"text\"]\n",
    "        \n",
    "        if (review[\"rating\"] != 3):\n",
    "            #randomnly pick train or test\n",
    "            dataset_choice = random.choice([0, 1])\n",
    "            if (not train_data_done) and dataset_choice == 0 and (train_example_cnts[rating] != (TRAIN_DATA_POINTS / 4)):\n",
    "                train_example_cnts[rating] += 1\n",
    "                sentiment = \"Positive\" if rating > 3 else \"Negative\"\n",
    "                train_data.append([text, sentiment])\n",
    "            elif (not test_data_done) and (test_example_cnts[rating] != (TEST_DATA_POINTS / 4)):\n",
    "                test_example_cnts[rating] += 1\n",
    "                sentiment = \"Positive\" if rating > 3 else \"Negative\"\n",
    "                test_data.append([text, sentiment])\n",
    "\n",
    "assert len(train_data) == TRAIN_DATA_POINTS + 1\n",
    "assert len(test_data)  == TEST_DATA_POINTS + 1\n",
    "\n",
    "train_csv = 'data/train_data.csv'\n",
    "\n",
    "with open(train_csv, 'w', newline='') as file:\n",
    "    writer = csv.writer(file)\n",
    "    writer.writerows(train_data)\n",
    "\n",
    "test_csv = 'data/test_data.csv'\n",
    "\n",
    "with open(test_csv, 'w', newline='') as file:\n",
    "    writer = csv.writer(file)\n",
    "    writer.writerows(test_data)"
   ]
  },
  {
   "cell_type": "code",
   "execution_count": null,
   "id": "96003f47-ebfe-4b11-8294-92f759bf2ba6",
   "metadata": {},
   "outputs": [],
   "source": []
  }
 ],
 "metadata": {
  "kernelspec": {
   "display_name": "Python 3 (ipykernel)",
   "language": "python",
   "name": "python3"
  },
  "language_info": {
   "codemirror_mode": {
    "name": "ipython",
    "version": 3
   },
   "file_extension": ".py",
   "mimetype": "text/x-python",
   "name": "python",
   "nbconvert_exporter": "python",
   "pygments_lexer": "ipython3",
   "version": "3.10.12"
  }
 },
 "nbformat": 4,
 "nbformat_minor": 5
}
