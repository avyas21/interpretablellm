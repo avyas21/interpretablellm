{
 "cells": [
  {
   "cell_type": "code",
   "execution_count": 21,
   "id": "da24d55b-2a5f-4b1a-9047-4d834bc22c7c",
   "metadata": {},
   "outputs": [],
   "source": [
    "import json\n",
    "import numpy as np\n",
    "import random\n",
    "from transformers import BertTokenizer\n",
    "import pandas as pd"
   ]
  },
  {
   "cell_type": "code",
   "execution_count": 8,
   "id": "cdbdcf0f-5b6a-4fcb-8d88-57a5bb5fe5dd",
   "metadata": {},
   "outputs": [],
   "source": [
    "#Make sure these are divisible by 4\n",
    "with open(\"baseline_prompt.txt\", \"r\") as file:\n",
    "    prompt = file.read()\n",
    "\n",
    "tokenizer = BertTokenizer.from_pretrained(\"bert-base-uncased\")\n",
    "encoded_input = tokenizer(prompt, return_tensors=\"pt\")\n",
    "\n",
    "PROMPT_OVERHEAD = encoded_input['input_ids'].shape[1]\n",
    "TRAIN_DATA_POINTS = 8000\n",
    "TEST_DATA_POINTS = 2000\n",
    "TOTAL_EXAMPLES = TRAIN_DATA_POINTS + TEST_DATA_POINTS\n",
    "MAX_RATING = 5\n",
    "MAX_TOKENS = 512 - PROMPT_OVERHEAD\n",
    "\n",
    "assert TRAIN_DATA_POINTS % 4 == 0\n",
    "assert TEST_DATA_POINTS % 4 == 0"
   ]
  },
  {
   "cell_type": "code",
   "execution_count": 35,
   "id": "1d0761b9-e395-4e7b-9aa1-3558a9a57596",
   "metadata": {},
   "outputs": [
    {
     "ename": "AssertionError",
     "evalue": "",
     "output_type": "error",
     "traceback": [
      "\u001b[0;31m---------------------------------------------------------------------------\u001b[0m",
      "\u001b[0;31mAssertionError\u001b[0m                            Traceback (most recent call last)",
      "Cell \u001b[0;32mIn[35], line 38\u001b[0m\n\u001b[1;32m     35\u001b[0m                 sentiment \u001b[38;5;241m=\u001b[39m \u001b[38;5;124m\"\u001b[39m\u001b[38;5;124mpositive\u001b[39m\u001b[38;5;124m\"\u001b[39m \u001b[38;5;28;01mif\u001b[39;00m rating \u001b[38;5;241m>\u001b[39m \u001b[38;5;241m3\u001b[39m \u001b[38;5;28;01melse\u001b[39;00m \u001b[38;5;124m\"\u001b[39m\u001b[38;5;124mnegative\u001b[39m\u001b[38;5;124m\"\u001b[39m\n\u001b[1;32m     36\u001b[0m                 test_data\u001b[38;5;241m.\u001b[39mappend([text, sentiment])\n\u001b[0;32m---> 38\u001b[0m \u001b[38;5;28;01massert\u001b[39;00m \u001b[38;5;28mlen\u001b[39m(train_data) \u001b[38;5;241m==\u001b[39m TRAIN_DATA_POINTS \u001b[38;5;241m+\u001b[39m \u001b[38;5;241m1\u001b[39m\n\u001b[1;32m     39\u001b[0m \u001b[38;5;28;01massert\u001b[39;00m \u001b[38;5;28mlen\u001b[39m(test_data)  \u001b[38;5;241m==\u001b[39m TEST_DATA_POINTS \u001b[38;5;241m+\u001b[39m \u001b[38;5;241m1\u001b[39m\n",
      "\u001b[0;31mAssertionError\u001b[0m: "
     ]
    }
   ],
   "source": [
    "file = \"Books.jsonl\"\n",
    "train_example_cnts = np.zeros(MAX_RATING + 1)\n",
    "test_example_cnts = np.zeros(MAX_RATING + 1)\n",
    "\n",
    "train_data = []\n",
    "\n",
    "test_data = []\n",
    "\n",
    "with open(file, 'r') as fp:\n",
    "    for line in fp:\n",
    "            \n",
    "        train_data_done = np.sum(train_example_cnts) >= TRAIN_DATA_POINTS\n",
    "        test_data_done = np.sum(test_example_cnts) >= TEST_DATA_POINTS\n",
    "        \n",
    "        if train_data_done and test_data_done:\n",
    "            break\n",
    "            \n",
    "        review = json.loads(line.strip())\n",
    "        rating = int(review[\"rating\"])\n",
    "        text = review[\"text\"]\n",
    "        encoded_input = tokenizer(text, return_tensors=\"pt\")\n",
    "        \n",
    "        if (encoded_input['input_ids'].shape[1] > MAX_TOKENS):\n",
    "            continue    \n",
    "        \n",
    "        if (review[\"rating\"] != 3):\n",
    "            #randomnly pick train or test\n",
    "            dataset_choice = random.choice([0, 1])\n",
    "            if (not train_data_done) and dataset_choice == 0 and (train_example_cnts[rating] != (TRAIN_DATA_POINTS / 4)):\n",
    "                train_example_cnts[rating] += 1\n",
    "                sentiment = \"positive\" if rating > 3 else \"negative\"\n",
    "                train_data.append([text, sentiment])\n",
    "            elif (not test_data_done) and (test_example_cnts[rating] != (TEST_DATA_POINTS / 4)):\n",
    "                test_example_cnts[rating] += 1\n",
    "                sentiment = \"positive\" if rating > 3 else \"negative\"\n",
    "                test_data.append([text, sentiment])\n",
    "\n",
    "assert len(train_data) == TRAIN_DATA_POINTS\n",
    "assert len(test_data)  == TEST_DATA_POINTS"
   ]
  },
  {
   "cell_type": "code",
   "execution_count": 42,
   "id": "dcf5ae08-9e15-4fca-909b-c51d5ffcf5cd",
   "metadata": {},
   "outputs": [],
   "source": [
    "train_df = pd.DataFrame(train_data, columns=['Review', 'Sentiment'])\n",
    "train_df = train_df.sample(frac=1).reset_index(drop=True)\n",
    "\n",
    "test_df = pd.DataFrame(test_data, columns=['Review', 'Sentiment'])\n",
    "test_df = test_df.sample(frac=1).reset_index(drop=True)"
   ]
  },
  {
   "cell_type": "code",
   "execution_count": 44,
   "id": "07388c4e-4488-4c0a-8d0a-3acdd3e1af62",
   "metadata": {},
   "outputs": [],
   "source": [
    "train_df.to_csv('data/train_data.csv', index=False)\n",
    "test_df.to_csv('data/test_data.csv', index=False)"
   ]
  },
  {
   "cell_type": "code",
   "execution_count": null,
   "id": "d6f1b4b2-08f7-47ec-a6da-c4434b02de2d",
   "metadata": {},
   "outputs": [],
   "source": []
  }
 ],
 "metadata": {
  "kernelspec": {
   "display_name": "Python 3 (ipykernel)",
   "language": "python",
   "name": "python3"
  },
  "language_info": {
   "codemirror_mode": {
    "name": "ipython",
    "version": 3
   },
   "file_extension": ".py",
   "mimetype": "text/x-python",
   "name": "python",
   "nbconvert_exporter": "python",
   "pygments_lexer": "ipython3",
   "version": "3.10.12"
  }
 },
 "nbformat": 4,
 "nbformat_minor": 5
}
