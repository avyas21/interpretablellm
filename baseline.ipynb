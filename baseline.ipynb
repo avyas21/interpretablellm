{
  "cells": [
    {
      "cell_type": "code",
      "execution_count": 1,
      "id": "f343ad35-e195-4859-a3a7-35e4120d1b69",
      "metadata": {
        "colab": {
          "base_uri": "https://localhost:8080/"
        },
        "collapsed": true,
        "id": "f343ad35-e195-4859-a3a7-35e4120d1b69",
        "jupyter": {
          "outputs_hidden": true
        },
        "outputId": "eb63ec30-dbf5-4aba-ec0c-d59059feb119"
      },
      "outputs": [
        {
          "output_type": "stream",
          "name": "stdout",
          "text": [
            "Collecting torchinfo\n",
            "  Downloading torchinfo-1.8.0-py3-none-any.whl.metadata (21 kB)\n",
            "Downloading torchinfo-1.8.0-py3-none-any.whl (23 kB)\n",
            "Installing collected packages: torchinfo\n",
            "Successfully installed torchinfo-1.8.0\n"
          ]
        }
      ],
      "source": [
        "# !pip install transformers\n",
        "# !pip install numpy==1.26.0\n",
        "# !pip install tensorflow[and-cuda]\n",
        "# !pip install torch torchvision torchaudio\n",
        "# !pip install --upgrade ipywidgets\n",
        "# !pip install tf-keras\n",
        "# !pip install pandas\n",
        "# !pip install scikit-learn\n",
        "!pip install torchinfo"
      ]
    },
    {
      "cell_type": "code",
      "execution_count": null,
      "id": "2962b9d0-ba93-4ffa-bf14-18aa63fedea6",
      "metadata": {
        "colab": {
          "base_uri": "https://localhost:8080/"
        },
        "id": "2962b9d0-ba93-4ffa-bf14-18aa63fedea6",
        "outputId": "bd7a40fb-66da-4ff6-a777-828a13980d3d"
      },
      "outputs": [
        {
          "name": "stdout",
          "output_type": "stream",
          "text": [
            "/bin/bash: line 1: nvidia-smi: command not found\n"
          ]
        }
      ],
      "source": [
        "!nvidia-smi"
      ]
    },
    {
      "cell_type": "code",
      "source": [
        "!git clone https://github.com/avyas21/interpretablellm.git"
      ],
      "metadata": {
        "colab": {
          "base_uri": "https://localhost:8080/"
        },
        "id": "n-j8_3zq1UT6",
        "outputId": "8234c17b-d21f-489d-8876-79df9e56b68b"
      },
      "id": "n-j8_3zq1UT6",
      "execution_count": 2,
      "outputs": [
        {
          "output_type": "stream",
          "name": "stdout",
          "text": [
            "Cloning into 'interpretablellm'...\n",
            "remote: Enumerating objects: 49, done.\u001b[K\n",
            "remote: Counting objects: 100% (49/49), done.\u001b[K\n",
            "remote: Compressing objects: 100% (40/40), done.\u001b[K\n",
            "remote: Total 49 (delta 14), reused 33 (delta 8), pack-reused 0 (from 0)\u001b[K\n",
            "Receiving objects: 100% (49/49), 6.43 MiB | 5.99 MiB/s, done.\n",
            "Resolving deltas: 100% (14/14), done.\n"
          ]
        }
      ]
    },
    {
      "cell_type": "code",
      "source": [
        "%cd interpretablellm\n",
        "!ls"
      ],
      "metadata": {
        "colab": {
          "base_uri": "https://localhost:8080/"
        },
        "id": "srClFliF1d4O",
        "outputId": "f84e7b14-1d13-4053-81d2-c77bf2827b9d"
      },
      "id": "srClFliF1d4O",
      "execution_count": 3,
      "outputs": [
        {
          "output_type": "stream",
          "name": "stdout",
          "text": [
            "/content/interpretablellm\n",
            "baseline.ipynb\tbaseline_prompt.txt  data  README.md  setup_dataset.ipynb\n"
          ]
        }
      ]
    },
    {
      "cell_type": "markdown",
      "id": "9b82dd9f-e6d6-46ac-9843-ca25199683dc",
      "metadata": {
        "id": "9b82dd9f-e6d6-46ac-9843-ca25199683dc"
      },
      "source": [
        "## Data Preprocessing"
      ]
    },
    {
      "cell_type": "code",
      "execution_count": 4,
      "id": "4d09ed15-aedc-4fc2-818f-a72d9d98c52f",
      "metadata": {
        "id": "4d09ed15-aedc-4fc2-818f-a72d9d98c52f"
      },
      "outputs": [],
      "source": [
        "import pandas as pd"
      ]
    },
    {
      "cell_type": "code",
      "execution_count": 5,
      "id": "b76f9c22-366a-4a15-a179-4c5383ebc244",
      "metadata": {
        "id": "b76f9c22-366a-4a15-a179-4c5383ebc244"
      },
      "outputs": [],
      "source": [
        "train_data = pd.read_csv(\"data/train_data.csv\")\n",
        "test_data = pd.read_csv(\"data/test_data.csv\")"
      ]
    },
    {
      "cell_type": "code",
      "execution_count": 6,
      "id": "42f93876-e2bf-4b48-b96e-49f03c8593b2",
      "metadata": {
        "id": "42f93876-e2bf-4b48-b96e-49f03c8593b2"
      },
      "outputs": [],
      "source": [
        "POSITIVE_WORDS = [\"positive\", \"great\", \"good\", \"happy\", \"amazing\", \"fantastic\", \"yes\"]\n",
        "NEGATIVE_WORDS = [\"negative\", \"bad\", \"sad\", \"terrible\", \"horrible\", \"no\", \"critical\"]"
      ]
    },
    {
      "cell_type": "code",
      "execution_count": 7,
      "id": "48213dc3-68d1-4b8b-a454-ec5deed1ee28",
      "metadata": {
        "id": "48213dc3-68d1-4b8b-a454-ec5deed1ee28"
      },
      "outputs": [],
      "source": [
        "def convert_lbl_to_int(label):\n",
        "    if label.lower() in POSITIVE_WORDS:\n",
        "        return 1\n",
        "    if label.lower() in NEGATIVE_WORDS:\n",
        "        return 0\n",
        "    return -1"
      ]
    },
    {
      "cell_type": "markdown",
      "id": "c594c372-0387-4956-b9e6-a362de13ab1b",
      "metadata": {
        "id": "c594c372-0387-4956-b9e6-a362de13ab1b"
      },
      "source": [
        "## Baseline Model"
      ]
    },
    {
      "cell_type": "code",
      "execution_count": 8,
      "id": "dcc1073e-f664-4053-a2a0-6a866a8ba2b0",
      "metadata": {
        "colab": {
          "base_uri": "https://localhost:8080/"
        },
        "id": "dcc1073e-f664-4053-a2a0-6a866a8ba2b0",
        "outputId": "b43b3e19-d335-4acb-a573-d44a2859234f"
      },
      "outputs": [
        {
          "output_type": "stream",
          "name": "stdout",
          "text": [
            "1.26.4\n"
          ]
        }
      ],
      "source": [
        "import numpy as np\n",
        "print(np.__version__)\n",
        "from transformers import BertModel, BertTokenizer, BertForSequenceClassification, BertConfig\n",
        "from transformers import pipeline\n",
        "from sklearn.metrics import f1_score\n",
        "from torchinfo import summary\n",
        "import random"
      ]
    },
    {
      "cell_type": "code",
      "execution_count": 9,
      "id": "04d9d4b2-68ac-433e-933f-407c97a5807b",
      "metadata": {
        "colab": {
          "base_uri": "https://localhost:8080/"
        },
        "id": "04d9d4b2-68ac-433e-933f-407c97a5807b",
        "outputId": "cef3e80f-ee7f-4c33-a4c5-01f79ed2ae3f"
      },
      "outputs": [
        {
          "output_type": "stream",
          "name": "stdout",
          "text": [
            "Given a book review, classify it as expressing a positive or negative sentiment.\n",
            "Review: Test Prompt\n",
            "This review is either positive or negative sentiment. If one had to chosen, the sentiment in the review is [MASK].\n",
            "\n"
          ]
        }
      ],
      "source": [
        "def get_prompt(review):\n",
        "  with open(\"baseline_prompt.txt\", \"r\") as file:\n",
        "    prompt = file.read()\n",
        "  prompt = prompt.replace(\"<REVIEW>\", review)\n",
        "  return prompt\n",
        "\n",
        "print(get_prompt(\"Test Prompt\"))"
      ]
    },
    {
      "cell_type": "code",
      "execution_count": 10,
      "id": "943dccdc-d64d-438c-8285-42ae4cac65aa",
      "metadata": {
        "colab": {
          "base_uri": "https://localhost:8080/",
          "height": 440,
          "referenced_widgets": [
            "7bc6cff71f9c42878e8f825a53f6ff1d",
            "f3d0234fa91f4ed69bbc984b5c8c099f",
            "5b872c97a45d4cf4b814d1a7eb822b14",
            "2ccb651f54024cff96f893189f59d1f3",
            "c0cc5bdecef34cbb98a3ff122042a6ae",
            "222846375df845179305ac513c3e54c0",
            "be19e3ea023b4a60a1966ec8f0f373ce",
            "83ed2639822b4a708552fcc812726b58",
            "d67a67ad46e64632bcc84cbd86149929",
            "4d6c99d3845144488e405301da3de697",
            "05503881c9ff4c049f0e1a12f3a3031c",
            "7e7909d838a44c7091b52c2cc3a1a2cd",
            "1eba0915b60342359ddc9e31b883c8a1",
            "070a410863864640bea359934b302d9f",
            "2e27990d3b0841c097b69111baebf80e",
            "dbcf0cf3cef84411949cd08933eddb62",
            "73ec635eb8c746528038704017085de2",
            "6be6b0d3a1044f1296a4e25b2101944f",
            "35f6cc3d9e9946d893dd24a887bf11b0",
            "9b379bb62df740cda000ec2aabf31e3e",
            "fcd83f3b9345406b987030c77736ce76",
            "f352aa39352e4117bf1fc9f0ce884622",
            "9895f70914a549e39ee73888213e3ec9",
            "6fd0ebecd00f4008b27ef9c56428c093",
            "2595533b53ad43be95680a7426a2f3ae",
            "64788482a63f43aabbcdb1b7fd65acd8",
            "a02790fc03714b5d96cf3c177795eedc",
            "9f5b19485b1f4c10a0886d6d08c6c1e4",
            "4d9e32bf1dd24bffae454fb41021c9d4",
            "342994c7286a436eaa716d85881b2776",
            "f373e6953ca545ec9427df43dea934cd",
            "4919d1b039c04f8383df194c7c28e6ca",
            "d31669e3f54549048c10718db8b863f1",
            "9ec06ea3a6a04e5cb255e58f99134fdc",
            "626332fd2a4040228c5ba422cff06b40",
            "634ae19ee38c4ed192ce6efd823459cf",
            "6ea6d860a5c54aa28b95e46fea6118d3",
            "fc1c98e13b5e4e0caa1f859f07afff3c",
            "83664b79977d42e6a834317add066e85",
            "f2c9c7d2277d46618679d9f392717ca2",
            "c11418dfd6e340e39d22539f4f2d0601",
            "919fbfee24d841eab62de41be826ff36",
            "1221d9afabb5482c9c89c079b4e0a1ef",
            "b8529b52f9ef453fa942113c45a5f325",
            "7d3df6c8d849418bb5a2ce83a0196888",
            "0b0e4084814e4d85b98c9ae9a8ef1122",
            "33e28fc0d9854b72bd786d1df850aeee",
            "179826cd16bd4dc8a19583b7f8e226ee",
            "20e0eb04d5b343778fa676c8d0cda359",
            "78f74bc1dbac4a67abd200538260e8e9",
            "cf7e5cd14d194ebab442a9306469fc07",
            "bcbfc59ab5bb4341ad05662eb507c435",
            "a2b7b6513e1c4f43909345500cea1755",
            "36b3e06c527147278142c14219695759",
            "c266231020b946a19347b374efb17c15"
          ]
        },
        "id": "943dccdc-d64d-438c-8285-42ae4cac65aa",
        "outputId": "c1d7533d-8cdf-4508-f564-8375c0ef71ba"
      },
      "outputs": [
        {
          "output_type": "stream",
          "name": "stderr",
          "text": [
            "/usr/local/lib/python3.11/dist-packages/huggingface_hub/utils/_auth.py:94: UserWarning: \n",
            "The secret `HF_TOKEN` does not exist in your Colab secrets.\n",
            "To authenticate with the Hugging Face Hub, create a token in your settings tab (https://huggingface.co/settings/tokens), set it as secret in your Google Colab and restart your session.\n",
            "You will be able to reuse this secret in all of your notebooks.\n",
            "Please note that authentication is recommended but still optional to access public models or datasets.\n",
            "  warnings.warn(\n"
          ]
        },
        {
          "output_type": "display_data",
          "data": {
            "text/plain": [
              "config.json:   0%|          | 0.00/570 [00:00<?, ?B/s]"
            ],
            "application/vnd.jupyter.widget-view+json": {
              "version_major": 2,
              "version_minor": 0,
              "model_id": "7bc6cff71f9c42878e8f825a53f6ff1d"
            }
          },
          "metadata": {}
        },
        {
          "output_type": "display_data",
          "data": {
            "text/plain": [
              "model.safetensors:   0%|          | 0.00/440M [00:00<?, ?B/s]"
            ],
            "application/vnd.jupyter.widget-view+json": {
              "version_major": 2,
              "version_minor": 0,
              "model_id": "7e7909d838a44c7091b52c2cc3a1a2cd"
            }
          },
          "metadata": {}
        },
        {
          "output_type": "display_data",
          "data": {
            "text/plain": [
              "tokenizer_config.json:   0%|          | 0.00/48.0 [00:00<?, ?B/s]"
            ],
            "application/vnd.jupyter.widget-view+json": {
              "version_major": 2,
              "version_minor": 0,
              "model_id": "9895f70914a549e39ee73888213e3ec9"
            }
          },
          "metadata": {}
        },
        {
          "output_type": "display_data",
          "data": {
            "text/plain": [
              "vocab.txt:   0%|          | 0.00/232k [00:00<?, ?B/s]"
            ],
            "application/vnd.jupyter.widget-view+json": {
              "version_major": 2,
              "version_minor": 0,
              "model_id": "9ec06ea3a6a04e5cb255e58f99134fdc"
            }
          },
          "metadata": {}
        },
        {
          "output_type": "display_data",
          "data": {
            "text/plain": [
              "tokenizer.json:   0%|          | 0.00/466k [00:00<?, ?B/s]"
            ],
            "application/vnd.jupyter.widget-view+json": {
              "version_major": 2,
              "version_minor": 0,
              "model_id": "7d3df6c8d849418bb5a2ce83a0196888"
            }
          },
          "metadata": {}
        },
        {
          "output_type": "stream",
          "name": "stderr",
          "text": [
            "BertForMaskedLM has generative capabilities, as `prepare_inputs_for_generation` is explicitly overwritten. However, it doesn't directly inherit from `GenerationMixin`. From 👉v4.50👈 onwards, `PreTrainedModel` will NOT inherit from `GenerationMixin`, and this model will lose the ability to call `generate` and other related functions.\n",
            "  - If you're using `trust_remote_code=True`, you can get rid of this warning by loading the model with an auto class. See https://huggingface.co/docs/transformers/en/model_doc/auto#auto-classes\n",
            "  - If you are the owner of the model architecture code, please modify your model class such that it inherits from `GenerationMixin` (after `PreTrainedModel`, otherwise you'll get an exception).\n",
            "  - If you are not the owner of the model architecture class, please contact the model code owner to update it.\n",
            "Some weights of the model checkpoint at bert-base-uncased were not used when initializing BertForMaskedLM: ['bert.pooler.dense.bias', 'bert.pooler.dense.weight', 'cls.seq_relationship.bias', 'cls.seq_relationship.weight']\n",
            "- This IS expected if you are initializing BertForMaskedLM from the checkpoint of a model trained on another task or with another architecture (e.g. initializing a BertForSequenceClassification model from a BertForPreTraining model).\n",
            "- This IS NOT expected if you are initializing BertForMaskedLM from the checkpoint of a model that you expect to be exactly identical (initializing a BertForSequenceClassification model from a BertForSequenceClassification model).\n",
            "Device set to use cuda:0\n"
          ]
        }
      ],
      "source": [
        "# Load the BERT model and tokenizer\n",
        "baseline_model = BertModel.from_pretrained(\"bert-base-uncased\")\n",
        "baseline_tokenizer = BertTokenizer.from_pretrained(\"bert-base-uncased\")\n",
        "baseline_unmasker = pipeline('fill-mask', model='bert-base-uncased')"
      ]
    },
    {
      "cell_type": "code",
      "execution_count": 11,
      "id": "36e84017-3c95-4195-a64e-872de86aa27d",
      "metadata": {
        "id": "36e84017-3c95-4195-a64e-872de86aa27d"
      },
      "outputs": [],
      "source": [
        "def predict(review, unmasker):\n",
        "  prompt = get_prompt(review)\n",
        "  predictions = unmasker(prompt)\n",
        "  valid_predictions = POSITIVE_WORDS + NEGATIVE_WORDS\n",
        "\n",
        "  for prediction in predictions:\n",
        "    if(prediction['token_str'] in valid_predictions):\n",
        "      return prediction['token_str']\n",
        "\n",
        "  for prediction in predictions:\n",
        "    print(prediction['token_str'])\n",
        "\n",
        "  sentiment = [\"positive\", \"negative\"]\n",
        "  #If not found, lets predict random\n",
        "  return \"NOT FOUND\" #random.choice(sentiment)"
      ]
    },
    {
      "cell_type": "code",
      "execution_count": null,
      "id": "3efd9030-e3ac-4c20-92b5-a82df8b63a4b",
      "metadata": {
        "id": "3efd9030-e3ac-4c20-92b5-a82df8b63a4b"
      },
      "outputs": [],
      "source": [
        "def predict_baseline(df, model, tokenizer, unmasker):\n",
        "    predictions = []\n",
        "    labels = []\n",
        "    for idx, row in df.iterrows():\n",
        "        input_text = row['Review']\n",
        "        prediction = predict(input_text, unmasker)\n",
        "        predictions.append(convert_lbl_to_int(prediction))\n",
        "        labels.append(convert_lbl_to_int(row['Sentiment']))\n",
        "    return predictions, labels\n",
        "\n"
      ]
    },
    {
      "cell_type": "code",
      "execution_count": null,
      "id": "9DhDookCV4cA",
      "metadata": {
        "id": "9DhDookCV4cA"
      },
      "outputs": [],
      "source": [
        "def score_baseline(baseline_model, df, baseline_tokenizer, baseline_unmasker):\n",
        "    predictions, labels = predict_baseline(df, baseline_model, baseline_tokenizer, baseline_unmasker)\n",
        "    values, counts = np.unique(np.array(predictions), return_counts=True)\n",
        "\n",
        "    for v, c in zip(values, counts):\n",
        "        print(f\"Value: {v}, Count: {c}\")\n",
        "\n",
        "    return f1_score(labels, predictions, average='micro')\n",
        ""
      ]
    },
    {
      "cell_type": "code",
      "execution_count": null,
      "id": "85f05cf6-0511-4f27-90fc-207b5e4678ef",
      "metadata": {
        "id": "85f05cf6-0511-4f27-90fc-207b5e4678ef",
        "outputId": "2249c498-e0a9-4ef6-aef0-ccfd0f9858a0"
      },
      "outputs": [
        {
          "name": "stderr",
          "output_type": "stream",
          "text": [
            "You seem to be using the pipelines sequentially on GPU. In order to maximize efficiency please use a dataset\n"
          ]
        },
        {
          "name": "stdout",
          "output_type": "stream",
          "text": [
            "ridiculous\n",
            "wrong\n",
            "silly\n",
            "right\n",
            "absurd\n",
            "Value: -1, Count: 1\n",
            "Value: 0, Count: 4542\n",
            "Value: 1, Count: 3457\n",
            "0.67075\n"
          ]
        }
      ],
      "source": [
        "train_baseline_f1 = score_baseline(baseline_model, train_data, baseline_tokenizer, baseline_unmasker)\n",
        "print(train_baseline_f1)"
      ]
    },
    {
      "cell_type": "code",
      "execution_count": null,
      "id": "d0f61be6-17ee-42cd-ab37-024e26f63319",
      "metadata": {
        "id": "d0f61be6-17ee-42cd-ab37-024e26f63319",
        "outputId": "b9a93d8c-1935-4438-97ec-316a83e10f63"
      },
      "outputs": [
        {
          "name": "stdout",
          "output_type": "stream",
          "text": [
            "Value: 0, Count: 1143\n",
            "Value: 1, Count: 857\n",
            "0.6425\n"
          ]
        }
      ],
      "source": [
        "test_baseline_f1 = score_baseline(baseline_model, test_data, baseline_tokenizer, baseline_unmasker)\n",
        "print(test_baseline_f1)"
      ]
    },
    {
      "cell_type": "markdown",
      "id": "89b6d9a2-b1cc-438c-bdf2-7cddba7ce1a7",
      "metadata": {
        "id": "89b6d9a2-b1cc-438c-bdf2-7cddba7ce1a7"
      },
      "source": [
        "## Probe Models"
      ]
    },
    {
      "cell_type": "code",
      "execution_count": 49,
      "id": "hs9tJr6xUte3",
      "metadata": {
        "id": "hs9tJr6xUte3"
      },
      "outputs": [],
      "source": [
        "import torch.nn as nn\n",
        "import torch\n",
        "from transformers import AutoTokenizer, BertModel\n",
        "import pandas as pd\n",
        "\n",
        "class CustomBERTModel(nn.Module):\n",
        "    def __init__(self, n):\n",
        "        super(CustomBERTModel, self).__init__()\n",
        "\n",
        "        self.bert=  BertModel.from_pretrained(\"bert-base-uncased\")\n",
        "        self.bert.encoder.layer = nn.ModuleList(self.bert.encoder.layer[:n])\n",
        "\n",
        "        for param in self.bert.parameters():\n",
        "            param.requires_grad = False\n",
        "\n",
        "        self.dropout = nn.Dropout(0.5)\n",
        "\n",
        "        ### New layers:\n",
        "        self.linear1 = nn.Linear(768, 256)\n",
        "        self.linear2 = nn.Linear(256, 1)\n",
        "        self.sigmoid = nn.Sigmoid()\n",
        "\n",
        "    def forward(self, ids, mask):\n",
        "        output = self.bert(input_ids=ids, attention_mask=mask, output_hidden_states=True)\n",
        "\n",
        "        linear1_output = self.linear1(output.last_hidden_state[:,0,:])\n",
        "        linear2_output = self.linear2(self.dropout(linear1_output))\n",
        "        sigmoid_output = self.sigmoid(linear2_output)\n",
        "        return sigmoid_output\n"
      ]
    },
    {
      "cell_type": "code",
      "execution_count": 50,
      "id": "6a62027a-0f6f-4059-a36d-51ef161bfdc8",
      "metadata": {
        "id": "6a62027a-0f6f-4059-a36d-51ef161bfdc8"
      },
      "outputs": [],
      "source": [
        "def get_custom_bert_model(num_bert_layers):\n",
        "  gpu_available = torch.cuda.is_available()\n",
        "  model = CustomBERTModel(num_bert_layers)\n",
        "\n",
        "  if gpu_available:\n",
        "    return model.to(torch.device(\"cuda\"))\n",
        "  return model"
      ]
    },
    {
      "cell_type": "code",
      "execution_count": 51,
      "id": "3c3e9cee-6067-4933-ab0a-2a8de05ccc0b",
      "metadata": {
        "colab": {
          "base_uri": "https://localhost:8080/"
        },
        "id": "3c3e9cee-6067-4933-ab0a-2a8de05ccc0b",
        "outputId": "cd599dc9-5f6e-4c9a-f90b-7273ed8e6a2f"
      },
      "outputs": [
        {
          "output_type": "execute_result",
          "data": {
            "text/plain": [
              "=====================================================================================\n",
              "Layer (type:depth-idx)                                       Param #\n",
              "=====================================================================================\n",
              "CustomBERTModel                                              --\n",
              "├─BertModel: 1-1                                             --\n",
              "│    └─BertEmbeddings: 2-1                                   --\n",
              "│    │    └─Embedding: 3-1                                   (23,440,896)\n",
              "│    │    └─Embedding: 3-2                                   (393,216)\n",
              "│    │    └─Embedding: 3-3                                   (1,536)\n",
              "│    │    └─LayerNorm: 3-4                                   (1,536)\n",
              "│    │    └─Dropout: 3-5                                     --\n",
              "│    └─BertEncoder: 2-2                                      --\n",
              "│    │    └─ModuleList: 3-6                                  (28,351,488)\n",
              "│    └─BertPooler: 2-3                                       --\n",
              "│    │    └─Linear: 3-7                                      (590,592)\n",
              "│    │    └─Tanh: 3-8                                        --\n",
              "├─Dropout: 1-2                                               --\n",
              "├─Linear: 1-3                                                196,864\n",
              "├─Linear: 1-4                                                257\n",
              "├─Sigmoid: 1-5                                               --\n",
              "=====================================================================================\n",
              "Total params: 52,976,385\n",
              "Trainable params: 197,121\n",
              "Non-trainable params: 52,779,264\n",
              "====================================================================================="
            ]
          },
          "metadata": {},
          "execution_count": 51
        }
      ],
      "source": [
        "summary(get_custom_bert_model(4))"
      ]
    },
    {
      "cell_type": "code",
      "execution_count": 52,
      "id": "ZuLuCEEqWxpF",
      "metadata": {
        "id": "ZuLuCEEqWxpF"
      },
      "outputs": [],
      "source": [
        "def get_inputs_labels(df):\n",
        "    inputs = []\n",
        "    labels = []\n",
        "    for idx, row in train_data.iterrows():\n",
        "        input_text = row['Review']\n",
        "        inputs.append(input_text)\n",
        "        labels.append(1 if row['Sentiment'] == 'positive' else 0)\n",
        "    return inputs, labels\n"
      ]
    },
    {
      "cell_type": "code",
      "execution_count": 53,
      "id": "485XykGLie_x",
      "metadata": {
        "id": "485XykGLie_x"
      },
      "outputs": [],
      "source": [
        "import torch\n",
        "from torch.utils.data import Dataset, DataLoader\n",
        "\n",
        "class TextDataset(Dataset):\n",
        "    def __init__(self, texts, labels, tokenizer, max_length):\n",
        "        self.texts = texts\n",
        "        self.labels = labels\n",
        "        self.tokenizer = tokenizer\n",
        "        self.max_length = max_length\n",
        "\n",
        "    def __len__(self):\n",
        "        return len(self.texts)\n",
        "\n",
        "    def __getitem__(self, idx):\n",
        "        text = self.texts[idx]\n",
        "        label = self.labels[idx]\n",
        "        encoding = self.tokenizer(\n",
        "            text,\n",
        "            add_special_tokens=True,\n",
        "            max_length=self.max_length,\n",
        "            padding='max_length',\n",
        "            truncation=True,\n",
        "            return_tensors='pt'\n",
        "        )\n",
        "        return {\n",
        "            'input_ids': encoding['input_ids'].flatten(),\n",
        "            'attention_mask': encoding['attention_mask'].flatten(),\n",
        "            'label': torch.tensor(label)\n",
        "        }"
      ]
    },
    {
      "cell_type": "code",
      "execution_count": 54,
      "id": "L53zFoGWaT0q",
      "metadata": {
        "id": "L53zFoGWaT0q"
      },
      "outputs": [],
      "source": [
        "tokenizer = BertTokenizer.from_pretrained(\"bert-base-uncased\")\n",
        "inputs, labels = get_inputs_labels(train_data)\n",
        "dataset = TextDataset(inputs, labels, tokenizer, 512)\n",
        "dataloader = DataLoader(dataset, batch_size=128, shuffle=True)"
      ]
    },
    {
      "cell_type": "code",
      "execution_count": 55,
      "id": "qVWM7p9W7FkT",
      "metadata": {
        "id": "qVWM7p9W7FkT"
      },
      "outputs": [],
      "source": [
        "def predict(model, df):\n",
        "    model.eval()\n",
        "    predictions = []\n",
        "    labels = []\n",
        "    gpu_available = torch.cuda.is_available()\n",
        "    with torch.no_grad():\n",
        "        for idx, row in df.iterrows():\n",
        "            input_text = row['Review']\n",
        "            encoding = tokenizer(input_text, add_special_tokens=True, max_length = 512, padding='max_length', truncation=True, return_tensors='pt')\n",
        "            if gpu_available:\n",
        "              input_ids = encoding['input_ids'].cuda()\n",
        "              attention_mask = encoding['attention_mask'].cuda()\n",
        "              prediction = model(encoding['input_ids'].cuda(), encoding['attention_mask'].cuda())\n",
        "            else:\n",
        "              input_ids = encoding['input_ids']\n",
        "              attention_mask = encoding['attention_mask']\n",
        "              prediction = model(encoding['input_ids'], encoding['attention_mask'])\n",
        "            predictions.append(1 if prediction > 0.5 else 0)\n",
        "            labels.append(convert_lbl_to_int(row['Sentiment']))\n",
        "\n",
        "    return predictions, labels"
      ]
    },
    {
      "cell_type": "code",
      "execution_count": 56,
      "id": "151ed761-27be-4990-942f-841d0b741037",
      "metadata": {
        "id": "151ed761-27be-4990-942f-841d0b741037"
      },
      "outputs": [],
      "source": [
        "def score_model(model, train_df, test_df):\n",
        "    train_f1 = None\n",
        "    test_f1 = None\n",
        "\n",
        "    if train_df is not None:\n",
        "        train_predictions, train_labels = predict(model, train_df)\n",
        "        train_f1 = f1_score(train_labels, train_predictions, average='micro')\n",
        "\n",
        "    if test_df is not None:\n",
        "        test_predictions, test_labels = predict(model, test_df)\n",
        "        test_f1 = f1_score(test_labels, test_predictions, average='micro')\n",
        "\n",
        "    return train_f1, test_f1\n",
        "\n",
        "# print(score_custom_model(model, train_data, test_data))"
      ]
    },
    {
      "cell_type": "code",
      "execution_count": 57,
      "id": "6a39bd50-3426-4627-8071-f22a47a73545",
      "metadata": {
        "id": "6a39bd50-3426-4627-8071-f22a47a73545"
      },
      "outputs": [],
      "source": [
        "def get_loss(model, df):\n",
        "    inputs, labels = get_inputs_labels(df)\n",
        ""
      ]
    },
    {
      "cell_type": "code",
      "source": [
        "print(torch.cuda.is_available())"
      ],
      "metadata": {
        "colab": {
          "base_uri": "https://localhost:8080/"
        },
        "id": "ZGn4ZHtQ3Xum",
        "outputId": "a1320575-78d9-4490-a513-240c47082cb0"
      },
      "id": "ZGn4ZHtQ3Xum",
      "execution_count": 58,
      "outputs": [
        {
          "output_type": "stream",
          "name": "stdout",
          "text": [
            "True\n"
          ]
        }
      ]
    },
    {
      "cell_type": "code",
      "execution_count": 59,
      "id": "q9hGOXhcfrs4",
      "metadata": {
        "id": "q9hGOXhcfrs4"
      },
      "outputs": [],
      "source": [
        "def train_model(model, epochs, dataloader, train_df, learning_rate = 1e-3, calc_train_f1 = True):\n",
        "    criterion = nn.BCELoss() ## If required define your own criterion\n",
        "    optimizer = torch.optim.Adam(filter(lambda p: p.requires_grad, model.parameters()), lr = learning_rate)\n",
        "    gpu_available = torch.cuda.is_available()\n",
        "\n",
        "    for epoch in range(epochs):\n",
        "        for batch in dataloader:\n",
        "            targets = np.array(batch['label'])\n",
        "            targets = torch.tensor(np.expand_dims(targets,axis=1)).float()\n",
        "            optimizer.zero_grad()\n",
        "            input_ids = batch['input_ids']\n",
        "            attention_mask = batch['attention_mask']\n",
        "\n",
        "            if gpu_available:\n",
        "              targets = targets.cuda()\n",
        "              input_ids = input_ids.cuda()\n",
        "              attention_mask = attention_mask.cuda()\n",
        "\n",
        "            outputs = model(input_ids, attention_mask)\n",
        "            loss = criterion(outputs, targets)\n",
        "            loss.backward()\n",
        "            optimizer.step()\n",
        "\n",
        "        if calc_train_f1:\n",
        "          train_f1, _ = score_model(model, train_df, None)\n",
        "          print(\"Epoch: \" + str(epoch) + \" F1: \" + str(train_f1) + \" LOSS: \" + str(loss))"
      ]
    },
    {
      "cell_type": "code",
      "execution_count": 60,
      "id": "5bb3b666-1ec1-41f8-b58f-ae6d265b533a",
      "metadata": {
        "id": "5bb3b666-1ec1-41f8-b58f-ae6d265b533a"
      },
      "outputs": [],
      "source": [
        "def score_all_probe_models(dataloader, train_df, test_df, epochs, max_n, learning_rate = 1e-3):\n",
        "    model_scores = []\n",
        "    for n in range(1,max_n + 1):\n",
        "        print(\"N: \" + str(n))\n",
        "        model = get_custom_bert_model(n)\n",
        "        train_model(model, epochs, dataloader, train_df, learning_rate)\n",
        "        _, test_f1 = score_model(model, None, test_df)\n",
        "        print(\"TEST F1: \" + str(test_f1))\n",
        "        model_scores.append([n, test_f1])\n",
        "\n",
        "    return model_scores"
      ]
    },
    {
      "cell_type": "code",
      "execution_count": null,
      "id": "2a1949ee-a200-460d-a868-68e3a313b19e",
      "metadata": {
        "colab": {
          "base_uri": "https://localhost:8080/"
        },
        "id": "2a1949ee-a200-460d-a868-68e3a313b19e",
        "outputId": "79be5e9a-f8a0-44d9-a88c-3194f550b537"
      },
      "outputs": [
        {
          "output_type": "stream",
          "name": "stdout",
          "text": [
            "N: 1\n",
            "Epoch: 0 F1: 0.599625 LOSS: tensor(0.6749, device='cuda:0', grad_fn=<BinaryCrossEntropyBackward0>)\n",
            "Epoch: 1 F1: 0.569625 LOSS: tensor(0.5993, device='cuda:0', grad_fn=<BinaryCrossEntropyBackward0>)\n",
            "Epoch: 2 F1: 0.727375 LOSS: tensor(0.6129, device='cuda:0', grad_fn=<BinaryCrossEntropyBackward0>)\n",
            "Epoch: 3 F1: 0.73175 LOSS: tensor(0.5552, device='cuda:0', grad_fn=<BinaryCrossEntropyBackward0>)\n",
            "Epoch: 4 F1: 0.672125 LOSS: tensor(0.6830, device='cuda:0', grad_fn=<BinaryCrossEntropyBackward0>)\n",
            "Epoch: 5 F1: 0.73 LOSS: tensor(0.4395, device='cuda:0', grad_fn=<BinaryCrossEntropyBackward0>)\n",
            "Epoch: 6 F1: 0.766875 LOSS: tensor(0.5392, device='cuda:0', grad_fn=<BinaryCrossEntropyBackward0>)\n",
            "Epoch: 7 F1: 0.774375 LOSS: tensor(0.4845, device='cuda:0', grad_fn=<BinaryCrossEntropyBackward0>)\n",
            "Epoch: 8 F1: 0.78 LOSS: tensor(0.5844, device='cuda:0', grad_fn=<BinaryCrossEntropyBackward0>)\n",
            "Epoch: 9 F1: 0.742 LOSS: tensor(0.4444, device='cuda:0', grad_fn=<BinaryCrossEntropyBackward0>)\n",
            "Epoch: 10 F1: 0.612125 LOSS: tensor(0.5428, device='cuda:0', grad_fn=<BinaryCrossEntropyBackward0>)\n",
            "Epoch: 11 F1: 0.78225 LOSS: tensor(0.5795, device='cuda:0', grad_fn=<BinaryCrossEntropyBackward0>)\n",
            "Epoch: 12 F1: 0.737125 LOSS: tensor(0.5228, device='cuda:0', grad_fn=<BinaryCrossEntropyBackward0>)\n",
            "Epoch: 13 F1: 0.796875 LOSS: tensor(0.4871, device='cuda:0', grad_fn=<BinaryCrossEntropyBackward0>)\n",
            "Epoch: 14 F1: 0.76575 LOSS: tensor(0.3784, device='cuda:0', grad_fn=<BinaryCrossEntropyBackward0>)\n",
            "Epoch: 15 F1: 0.729125 LOSS: tensor(0.5465, device='cuda:0', grad_fn=<BinaryCrossEntropyBackward0>)\n",
            "Epoch: 16 F1: 0.769875 LOSS: tensor(0.4881, device='cuda:0', grad_fn=<BinaryCrossEntropyBackward0>)\n",
            "Epoch: 17 F1: 0.7975 LOSS: tensor(0.5297, device='cuda:0', grad_fn=<BinaryCrossEntropyBackward0>)\n",
            "Epoch: 18 F1: 0.6405 LOSS: tensor(0.5976, device='cuda:0', grad_fn=<BinaryCrossEntropyBackward0>)\n",
            "Epoch: 19 F1: 0.75375 LOSS: tensor(0.5671, device='cuda:0', grad_fn=<BinaryCrossEntropyBackward0>)\n",
            "Epoch: 20 F1: 0.740125 LOSS: tensor(0.4983, device='cuda:0', grad_fn=<BinaryCrossEntropyBackward0>)\n",
            "Epoch: 21 F1: 0.793375 LOSS: tensor(0.5020, device='cuda:0', grad_fn=<BinaryCrossEntropyBackward0>)\n"
          ]
        }
      ],
      "source": [
        "model_scores = score_all_probe_models(dataloader, train_data, test_data, 30, 10, learning_rate = 1e-2)"
      ]
    },
    {
      "cell_type": "markdown",
      "source": [
        "## Scalar Mixing Weights"
      ],
      "metadata": {
        "id": "8lTdl-n_zyXY"
      },
      "id": "8lTdl-n_zyXY"
    },
    {
      "cell_type": "code",
      "source": [
        "import torch.nn as nn\n",
        "import torch\n",
        "from transformers import AutoTokenizer, BertModel\n",
        "import pandas as pd\n",
        "\n",
        "class ScalarMixingWeightModel(nn.Module):\n",
        "    def __init__(self, n):\n",
        "        super(ScalarMixingWeightModel, self).__init__()\n",
        "\n",
        "        self.bert=  BertModel.from_pretrained(\"bert-base-uncased\")\n",
        "        self.bert.encoder.layer = nn.ModuleList(self.bert.encoder.layer[:n])\n",
        "        self.n = n\n",
        "        self.layer_weights = nn.Parameter(torch.ones(3))\n",
        "        self.softmax = nn.Softmax(dim=0)\n",
        "\n",
        "        self.gamma = nn.Parameter(torch.ones(1))\n",
        "        self.dropout = nn.Dropout(0.5)\n",
        "\n",
        "        for param in self.bert.parameters():\n",
        "            param.requires_grad = False\n",
        "\n",
        "        ### New layers:\n",
        "        self.linear1 = nn.Linear(768, 1)\n",
        "        self.sigmoid = nn.Sigmoid()\n",
        "\n",
        "    def forward(self, ids, mask):\n",
        "        outputs = self.bert(input_ids=ids, attention_mask=mask, output_hidden_states=True)\n",
        "\n",
        "        hidden_states = outputs.hidden_states[1:1 + self.n]\n",
        "\n",
        "        normalized_weights = self.softmax(self.layer_weights)\n",
        "        scalar_mixing_weight = self.gamma * sum(normalized_weights[i] * hidden_states[i] for i in range(3))\n",
        "\n",
        "        linear1_output = self.dropout(self.linear1(scalar_mixing_weight[:, 0, :]))\n",
        "        sigmoid_output = self.sigmoid(linear1_output)\n",
        "        return sigmoid_output\n"
      ],
      "metadata": {
        "id": "Ltfx0_XMzxeh"
      },
      "id": "Ltfx0_XMzxeh",
      "execution_count": 43,
      "outputs": []
    },
    {
      "cell_type": "code",
      "source": [
        "def get_scalar_mixing_model(num_bert_layers):\n",
        "  gpu_available = torch.cuda.is_available()\n",
        "  model = ScalarMixingWeightModel(num_bert_layers)\n",
        "\n",
        "  if gpu_available:\n",
        "    return model.to(torch.device(\"cuda\"))\n",
        "\n",
        "  return model"
      ],
      "metadata": {
        "id": "lGp5exkZ17M_"
      },
      "id": "lGp5exkZ17M_",
      "execution_count": 44,
      "outputs": []
    },
    {
      "cell_type": "code",
      "source": [
        "test_scalar = get_scalar_mixing_model(3)\n",
        "summary(test_scalar)"
      ],
      "metadata": {
        "colab": {
          "base_uri": "https://localhost:8080/"
        },
        "id": "uhSJ9GBk1__M",
        "outputId": "c8443d91-c809-4570-d69a-16aabdc68eb1"
      },
      "id": "uhSJ9GBk1__M",
      "execution_count": 45,
      "outputs": [
        {
          "output_type": "execute_result",
          "data": {
            "text/plain": [
              "=====================================================================================\n",
              "Layer (type:depth-idx)                                       Param #\n",
              "=====================================================================================\n",
              "ScalarMixingWeightModel                                      4\n",
              "├─BertModel: 1-1                                             --\n",
              "│    └─BertEmbeddings: 2-1                                   --\n",
              "│    │    └─Embedding: 3-1                                   (23,440,896)\n",
              "│    │    └─Embedding: 3-2                                   (393,216)\n",
              "│    │    └─Embedding: 3-3                                   (1,536)\n",
              "│    │    └─LayerNorm: 3-4                                   (1,536)\n",
              "│    │    └─Dropout: 3-5                                     --\n",
              "│    └─BertEncoder: 2-2                                      --\n",
              "│    │    └─ModuleList: 3-6                                  (21,263,616)\n",
              "│    └─BertPooler: 2-3                                       --\n",
              "│    │    └─Linear: 3-7                                      (590,592)\n",
              "│    │    └─Tanh: 3-8                                        --\n",
              "├─Softmax: 1-2                                               --\n",
              "├─Dropout: 1-3                                               --\n",
              "├─Linear: 1-4                                                769\n",
              "├─Sigmoid: 1-5                                               --\n",
              "=====================================================================================\n",
              "Total params: 45,692,165\n",
              "Trainable params: 773\n",
              "Non-trainable params: 45,691,392\n",
              "====================================================================================="
            ]
          },
          "metadata": {},
          "execution_count": 45
        }
      ]
    },
    {
      "cell_type": "code",
      "source": [
        "train_model(test_scalar, 10, dataloader, train_data, learning_rate = 0.1)"
      ],
      "metadata": {
        "colab": {
          "base_uri": "https://localhost:8080/"
        },
        "id": "aKIpKbA_2XW7",
        "outputId": "c3e725f8-d98e-4d07-c5bb-8e18b033d76e"
      },
      "id": "aKIpKbA_2XW7",
      "execution_count": 47,
      "outputs": [
        {
          "output_type": "stream",
          "name": "stdout",
          "text": [
            "Epoch: 0 F1: 0.6215 LOSS: tensor(0.6571, device='cuda:0', grad_fn=<BinaryCrossEntropyBackward0>)\n",
            "Epoch: 1 F1: 0.76125 LOSS: tensor(0.5647, device='cuda:0', grad_fn=<BinaryCrossEntropyBackward0>)\n",
            "Epoch: 2 F1: 0.79125 LOSS: tensor(0.4581, device='cuda:0', grad_fn=<BinaryCrossEntropyBackward0>)\n",
            "Epoch: 3 F1: 0.80625 LOSS: tensor(0.5279, device='cuda:0', grad_fn=<BinaryCrossEntropyBackward0>)\n",
            "Epoch: 4 F1: 0.8195 LOSS: tensor(0.3817, device='cuda:0', grad_fn=<BinaryCrossEntropyBackward0>)\n",
            "Epoch: 5 F1: 0.8065 LOSS: tensor(0.4314, device='cuda:0', grad_fn=<BinaryCrossEntropyBackward0>)\n",
            "Epoch: 6 F1: 0.794 LOSS: tensor(0.4566, device='cuda:0', grad_fn=<BinaryCrossEntropyBackward0>)\n",
            "Epoch: 7 F1: 0.814 LOSS: tensor(0.4949, device='cuda:0', grad_fn=<BinaryCrossEntropyBackward0>)\n",
            "Epoch: 8 F1: 0.814625 LOSS: tensor(0.3236, device='cuda:0', grad_fn=<BinaryCrossEntropyBackward0>)\n",
            "Epoch: 9 F1: 0.820375 LOSS: tensor(0.2730, device='cuda:0', grad_fn=<BinaryCrossEntropyBackward0>)\n"
          ]
        }
      ]
    },
    {
      "cell_type": "code",
      "source": [
        "print(test_scalar.layer_weights)"
      ],
      "metadata": {
        "colab": {
          "base_uri": "https://localhost:8080/"
        },
        "id": "sOUireq897Xe",
        "outputId": "e8dc7874-cb70-43cc-f5a8-6a3312763ab7"
      },
      "id": "sOUireq897Xe",
      "execution_count": 48,
      "outputs": [
        {
          "output_type": "stream",
          "name": "stdout",
          "text": [
            "Parameter containing:\n",
            "tensor([-3.1333,  4.9387, -2.9840], device='cuda:0', requires_grad=True)\n"
          ]
        }
      ]
    },
    {
      "cell_type": "markdown",
      "id": "40f8f63b-329d-4066-b72b-2354e3efc9e2",
      "metadata": {
        "id": "40f8f63b-329d-4066-b72b-2354e3efc9e2"
      },
      "source": [
        "## Analysis"
      ]
    },
    {
      "cell_type": "code",
      "execution_count": null,
      "id": "2c1b985c-3ce7-41f2-90cb-a4a8059794d6",
      "metadata": {
        "id": "2c1b985c-3ce7-41f2-90cb-a4a8059794d6",
        "outputId": "94e5ebe3-9b8b-4fbe-fb8b-718d9d38212d"
      },
      "outputs": [
        {
          "data": {
            "text/plain": [
              "================================================================================\n",
              "Layer (type:depth-idx)                                  Param #\n",
              "================================================================================\n",
              "BertModel                                               --\n",
              "├─BertEmbeddings: 1-1                                   --\n",
              "│    └─Embedding: 2-1                                   (23,440,896)\n",
              "│    └─Embedding: 2-2                                   (393,216)\n",
              "│    └─Embedding: 2-3                                   (1,536)\n",
              "│    └─LayerNorm: 2-4                                   (1,536)\n",
              "│    └─Dropout: 2-5                                     --\n",
              "├─BertEncoder: 1-2                                      --\n",
              "│    └─ModuleList: 2-6                                  --\n",
              "│    │    └─BertLayer: 3-1                              (7,087,872)\n",
              "│    │    └─BertLayer: 3-2                              (7,087,872)\n",
              "│    │    └─BertLayer: 3-3                              (7,087,872)\n",
              "│    │    └─BertLayer: 3-4                              (7,087,872)\n",
              "│    │    └─BertLayer: 3-5                              (7,087,872)\n",
              "│    │    └─BertLayer: 3-6                              (7,087,872)\n",
              "│    │    └─BertLayer: 3-7                              (7,087,872)\n",
              "│    │    └─BertLayer: 3-8                              (7,087,872)\n",
              "│    │    └─BertLayer: 3-9                              (7,087,872)\n",
              "│    │    └─BertLayer: 3-10                             (7,087,872)\n",
              "│    │    └─BertLayer: 3-11                             7,087,872\n",
              "│    │    └─BertLayer: 3-12                             7,087,872\n",
              "├─BertPooler: 1-3                                       --\n",
              "│    └─Linear: 2-7                                      590,592\n",
              "│    └─Tanh: 2-8                                        --\n",
              "================================================================================\n",
              "Total params: 109,482,240\n",
              "Trainable params: 14,766,336\n",
              "Non-trainable params: 94,715,904\n",
              "================================================================================"
            ]
          },
          "execution_count": 26,
          "metadata": {},
          "output_type": "execute_result"
        }
      ],
      "source": [
        "summary(baseline_model)"
      ]
    },
    {
      "cell_type": "code",
      "execution_count": null,
      "id": "0c58c62b-6c11-4810-bd52-b3d58aa7f853",
      "metadata": {
        "id": "0c58c62b-6c11-4810-bd52-b3d58aa7f853",
        "outputId": "30c9add2-5227-4935-942a-1a5d847cac67"
      },
      "outputs": [
        {
          "data": {
            "text/plain": [
              "===========================================================================\n",
              "Layer (type:depth-idx)                             Param #\n",
              "===========================================================================\n",
              "CustomBERTModel                                    --\n",
              "├─BertEmbeddings: 1-1                              --\n",
              "│    └─Embedding: 2-1                              (23,440,896)\n",
              "│    └─Embedding: 2-2                              (393,216)\n",
              "│    └─Embedding: 2-3                              (1,536)\n",
              "│    └─LayerNorm: 2-4                              (1,536)\n",
              "│    └─Dropout: 2-5                                --\n",
              "├─ModuleList: 1-2                                  --\n",
              "│    └─BertLayer: 2-6                              --\n",
              "│    │    └─BertAttention: 3-1                     (2,363,904)\n",
              "│    │    └─BertIntermediate: 3-2                  (2,362,368)\n",
              "│    │    └─BertOutput: 3-3                        (2,361,600)\n",
              "│    └─BertLayer: 2-7                              --\n",
              "│    │    └─BertAttention: 3-4                     (2,363,904)\n",
              "│    │    └─BertIntermediate: 3-5                  (2,362,368)\n",
              "│    │    └─BertOutput: 3-6                        (2,361,600)\n",
              "│    └─BertLayer: 2-8                              --\n",
              "│    │    └─BertAttention: 3-7                     (2,363,904)\n",
              "│    │    └─BertIntermediate: 3-8                  (2,362,368)\n",
              "│    │    └─BertOutput: 3-9                        (2,361,600)\n",
              "│    └─BertLayer: 2-9                              --\n",
              "│    │    └─BertAttention: 3-10                    (2,363,904)\n",
              "│    │    └─BertIntermediate: 3-11                 (2,362,368)\n",
              "│    │    └─BertOutput: 3-12                       (2,361,600)\n",
              "│    └─BertLayer: 2-10                             --\n",
              "│    │    └─BertAttention: 3-13                    (2,363,904)\n",
              "│    │    └─BertIntermediate: 3-14                 (2,362,368)\n",
              "│    │    └─BertOutput: 3-15                       (2,361,600)\n",
              "│    └─BertLayer: 2-11                             --\n",
              "│    │    └─BertAttention: 3-16                    (2,363,904)\n",
              "│    │    └─BertIntermediate: 3-17                 (2,362,368)\n",
              "│    │    └─BertOutput: 3-18                       (2,361,600)\n",
              "│    └─BertLayer: 2-12                             --\n",
              "│    │    └─BertAttention: 3-19                    (2,363,904)\n",
              "│    │    └─BertIntermediate: 3-20                 (2,362,368)\n",
              "│    │    └─BertOutput: 3-21                       (2,361,600)\n",
              "│    └─BertLayer: 2-13                             --\n",
              "│    │    └─BertAttention: 3-22                    (2,363,904)\n",
              "│    │    └─BertIntermediate: 3-23                 (2,362,368)\n",
              "│    │    └─BertOutput: 3-24                       (2,361,600)\n",
              "│    └─BertLayer: 2-14                             --\n",
              "│    │    └─BertAttention: 3-25                    (2,363,904)\n",
              "│    │    └─BertIntermediate: 3-26                 (2,362,368)\n",
              "│    │    └─BertOutput: 3-27                       (2,361,600)\n",
              "│    └─BertLayer: 2-15                             --\n",
              "│    │    └─BertAttention: 3-28                    (2,363,904)\n",
              "│    │    └─BertIntermediate: 3-29                 (2,362,368)\n",
              "│    │    └─BertOutput: 3-30                       (2,361,600)\n",
              "├─Dropout: 1-3                                     --\n",
              "├─Flatten: 1-4                                     --\n",
              "├─Linear: 1-5                                      196,864\n",
              "├─Linear: 1-6                                      257\n",
              "├─Linear: 1-7                                      513\n",
              "├─Sigmoid: 1-8                                     --\n",
              "===========================================================================\n",
              "Total params: 94,913,538\n",
              "Trainable params: 197,634\n",
              "Non-trainable params: 94,715,904\n",
              "==========================================================================="
            ]
          },
          "execution_count": 36,
          "metadata": {},
          "output_type": "execute_result"
        }
      ],
      "source": [
        "summary( get_custom_bert_model(10))"
      ]
    },
    {
      "cell_type": "code",
      "execution_count": null,
      "id": "d27350ee-fca8-4e35-bfd2-3614e3df7e0e",
      "metadata": {
        "id": "d27350ee-fca8-4e35-bfd2-3614e3df7e0e"
      },
      "outputs": [],
      "source": []
    }
  ],
  "metadata": {
    "colab": {
      "provenance": [],
      "gpuType": "T4"
    },
    "kernelspec": {
      "display_name": "Python 3",
      "name": "python3"
    },
    "language_info": {
      "codemirror_mode": {
        "name": "ipython",
        "version": 3
      },
      "file_extension": ".py",
      "mimetype": "text/x-python",
      "name": "python",
      "nbconvert_exporter": "python",
      "pygments_lexer": "ipython3",
      "version": "3.10.12"
    },
    "accelerator": "GPU",
    "widgets": {
      "application/vnd.jupyter.widget-state+json": {
        "7bc6cff71f9c42878e8f825a53f6ff1d": {
          "model_module": "@jupyter-widgets/controls",
          "model_name": "HBoxModel",
          "model_module_version": "1.5.0",
          "state": {
            "_dom_classes": [],
            "_model_module": "@jupyter-widgets/controls",
            "_model_module_version": "1.5.0",
            "_model_name": "HBoxModel",
            "_view_count": null,
            "_view_module": "@jupyter-widgets/controls",
            "_view_module_version": "1.5.0",
            "_view_name": "HBoxView",
            "box_style": "",
            "children": [
              "IPY_MODEL_f3d0234fa91f4ed69bbc984b5c8c099f",
              "IPY_MODEL_5b872c97a45d4cf4b814d1a7eb822b14",
              "IPY_MODEL_2ccb651f54024cff96f893189f59d1f3"
            ],
            "layout": "IPY_MODEL_c0cc5bdecef34cbb98a3ff122042a6ae"
          }
        },
        "f3d0234fa91f4ed69bbc984b5c8c099f": {
          "model_module": "@jupyter-widgets/controls",
          "model_name": "HTMLModel",
          "model_module_version": "1.5.0",
          "state": {
            "_dom_classes": [],
            "_model_module": "@jupyter-widgets/controls",
            "_model_module_version": "1.5.0",
            "_model_name": "HTMLModel",
            "_view_count": null,
            "_view_module": "@jupyter-widgets/controls",
            "_view_module_version": "1.5.0",
            "_view_name": "HTMLView",
            "description": "",
            "description_tooltip": null,
            "layout": "IPY_MODEL_222846375df845179305ac513c3e54c0",
            "placeholder": "​",
            "style": "IPY_MODEL_be19e3ea023b4a60a1966ec8f0f373ce",
            "value": "config.json: 100%"
          }
        },
        "5b872c97a45d4cf4b814d1a7eb822b14": {
          "model_module": "@jupyter-widgets/controls",
          "model_name": "FloatProgressModel",
          "model_module_version": "1.5.0",
          "state": {
            "_dom_classes": [],
            "_model_module": "@jupyter-widgets/controls",
            "_model_module_version": "1.5.0",
            "_model_name": "FloatProgressModel",
            "_view_count": null,
            "_view_module": "@jupyter-widgets/controls",
            "_view_module_version": "1.5.0",
            "_view_name": "ProgressView",
            "bar_style": "success",
            "description": "",
            "description_tooltip": null,
            "layout": "IPY_MODEL_83ed2639822b4a708552fcc812726b58",
            "max": 570,
            "min": 0,
            "orientation": "horizontal",
            "style": "IPY_MODEL_d67a67ad46e64632bcc84cbd86149929",
            "value": 570
          }
        },
        "2ccb651f54024cff96f893189f59d1f3": {
          "model_module": "@jupyter-widgets/controls",
          "model_name": "HTMLModel",
          "model_module_version": "1.5.0",
          "state": {
            "_dom_classes": [],
            "_model_module": "@jupyter-widgets/controls",
            "_model_module_version": "1.5.0",
            "_model_name": "HTMLModel",
            "_view_count": null,
            "_view_module": "@jupyter-widgets/controls",
            "_view_module_version": "1.5.0",
            "_view_name": "HTMLView",
            "description": "",
            "description_tooltip": null,
            "layout": "IPY_MODEL_4d6c99d3845144488e405301da3de697",
            "placeholder": "​",
            "style": "IPY_MODEL_05503881c9ff4c049f0e1a12f3a3031c",
            "value": " 570/570 [00:00&lt;00:00, 42.4kB/s]"
          }
        },
        "c0cc5bdecef34cbb98a3ff122042a6ae": {
          "model_module": "@jupyter-widgets/base",
          "model_name": "LayoutModel",
          "model_module_version": "1.2.0",
          "state": {
            "_model_module": "@jupyter-widgets/base",
            "_model_module_version": "1.2.0",
            "_model_name": "LayoutModel",
            "_view_count": null,
            "_view_module": "@jupyter-widgets/base",
            "_view_module_version": "1.2.0",
            "_view_name": "LayoutView",
            "align_content": null,
            "align_items": null,
            "align_self": null,
            "border": null,
            "bottom": null,
            "display": null,
            "flex": null,
            "flex_flow": null,
            "grid_area": null,
            "grid_auto_columns": null,
            "grid_auto_flow": null,
            "grid_auto_rows": null,
            "grid_column": null,
            "grid_gap": null,
            "grid_row": null,
            "grid_template_areas": null,
            "grid_template_columns": null,
            "grid_template_rows": null,
            "height": null,
            "justify_content": null,
            "justify_items": null,
            "left": null,
            "margin": null,
            "max_height": null,
            "max_width": null,
            "min_height": null,
            "min_width": null,
            "object_fit": null,
            "object_position": null,
            "order": null,
            "overflow": null,
            "overflow_x": null,
            "overflow_y": null,
            "padding": null,
            "right": null,
            "top": null,
            "visibility": null,
            "width": null
          }
        },
        "222846375df845179305ac513c3e54c0": {
          "model_module": "@jupyter-widgets/base",
          "model_name": "LayoutModel",
          "model_module_version": "1.2.0",
          "state": {
            "_model_module": "@jupyter-widgets/base",
            "_model_module_version": "1.2.0",
            "_model_name": "LayoutModel",
            "_view_count": null,
            "_view_module": "@jupyter-widgets/base",
            "_view_module_version": "1.2.0",
            "_view_name": "LayoutView",
            "align_content": null,
            "align_items": null,
            "align_self": null,
            "border": null,
            "bottom": null,
            "display": null,
            "flex": null,
            "flex_flow": null,
            "grid_area": null,
            "grid_auto_columns": null,
            "grid_auto_flow": null,
            "grid_auto_rows": null,
            "grid_column": null,
            "grid_gap": null,
            "grid_row": null,
            "grid_template_areas": null,
            "grid_template_columns": null,
            "grid_template_rows": null,
            "height": null,
            "justify_content": null,
            "justify_items": null,
            "left": null,
            "margin": null,
            "max_height": null,
            "max_width": null,
            "min_height": null,
            "min_width": null,
            "object_fit": null,
            "object_position": null,
            "order": null,
            "overflow": null,
            "overflow_x": null,
            "overflow_y": null,
            "padding": null,
            "right": null,
            "top": null,
            "visibility": null,
            "width": null
          }
        },
        "be19e3ea023b4a60a1966ec8f0f373ce": {
          "model_module": "@jupyter-widgets/controls",
          "model_name": "DescriptionStyleModel",
          "model_module_version": "1.5.0",
          "state": {
            "_model_module": "@jupyter-widgets/controls",
            "_model_module_version": "1.5.0",
            "_model_name": "DescriptionStyleModel",
            "_view_count": null,
            "_view_module": "@jupyter-widgets/base",
            "_view_module_version": "1.2.0",
            "_view_name": "StyleView",
            "description_width": ""
          }
        },
        "83ed2639822b4a708552fcc812726b58": {
          "model_module": "@jupyter-widgets/base",
          "model_name": "LayoutModel",
          "model_module_version": "1.2.0",
          "state": {
            "_model_module": "@jupyter-widgets/base",
            "_model_module_version": "1.2.0",
            "_model_name": "LayoutModel",
            "_view_count": null,
            "_view_module": "@jupyter-widgets/base",
            "_view_module_version": "1.2.0",
            "_view_name": "LayoutView",
            "align_content": null,
            "align_items": null,
            "align_self": null,
            "border": null,
            "bottom": null,
            "display": null,
            "flex": null,
            "flex_flow": null,
            "grid_area": null,
            "grid_auto_columns": null,
            "grid_auto_flow": null,
            "grid_auto_rows": null,
            "grid_column": null,
            "grid_gap": null,
            "grid_row": null,
            "grid_template_areas": null,
            "grid_template_columns": null,
            "grid_template_rows": null,
            "height": null,
            "justify_content": null,
            "justify_items": null,
            "left": null,
            "margin": null,
            "max_height": null,
            "max_width": null,
            "min_height": null,
            "min_width": null,
            "object_fit": null,
            "object_position": null,
            "order": null,
            "overflow": null,
            "overflow_x": null,
            "overflow_y": null,
            "padding": null,
            "right": null,
            "top": null,
            "visibility": null,
            "width": null
          }
        },
        "d67a67ad46e64632bcc84cbd86149929": {
          "model_module": "@jupyter-widgets/controls",
          "model_name": "ProgressStyleModel",
          "model_module_version": "1.5.0",
          "state": {
            "_model_module": "@jupyter-widgets/controls",
            "_model_module_version": "1.5.0",
            "_model_name": "ProgressStyleModel",
            "_view_count": null,
            "_view_module": "@jupyter-widgets/base",
            "_view_module_version": "1.2.0",
            "_view_name": "StyleView",
            "bar_color": null,
            "description_width": ""
          }
        },
        "4d6c99d3845144488e405301da3de697": {
          "model_module": "@jupyter-widgets/base",
          "model_name": "LayoutModel",
          "model_module_version": "1.2.0",
          "state": {
            "_model_module": "@jupyter-widgets/base",
            "_model_module_version": "1.2.0",
            "_model_name": "LayoutModel",
            "_view_count": null,
            "_view_module": "@jupyter-widgets/base",
            "_view_module_version": "1.2.0",
            "_view_name": "LayoutView",
            "align_content": null,
            "align_items": null,
            "align_self": null,
            "border": null,
            "bottom": null,
            "display": null,
            "flex": null,
            "flex_flow": null,
            "grid_area": null,
            "grid_auto_columns": null,
            "grid_auto_flow": null,
            "grid_auto_rows": null,
            "grid_column": null,
            "grid_gap": null,
            "grid_row": null,
            "grid_template_areas": null,
            "grid_template_columns": null,
            "grid_template_rows": null,
            "height": null,
            "justify_content": null,
            "justify_items": null,
            "left": null,
            "margin": null,
            "max_height": null,
            "max_width": null,
            "min_height": null,
            "min_width": null,
            "object_fit": null,
            "object_position": null,
            "order": null,
            "overflow": null,
            "overflow_x": null,
            "overflow_y": null,
            "padding": null,
            "right": null,
            "top": null,
            "visibility": null,
            "width": null
          }
        },
        "05503881c9ff4c049f0e1a12f3a3031c": {
          "model_module": "@jupyter-widgets/controls",
          "model_name": "DescriptionStyleModel",
          "model_module_version": "1.5.0",
          "state": {
            "_model_module": "@jupyter-widgets/controls",
            "_model_module_version": "1.5.0",
            "_model_name": "DescriptionStyleModel",
            "_view_count": null,
            "_view_module": "@jupyter-widgets/base",
            "_view_module_version": "1.2.0",
            "_view_name": "StyleView",
            "description_width": ""
          }
        },
        "7e7909d838a44c7091b52c2cc3a1a2cd": {
          "model_module": "@jupyter-widgets/controls",
          "model_name": "HBoxModel",
          "model_module_version": "1.5.0",
          "state": {
            "_dom_classes": [],
            "_model_module": "@jupyter-widgets/controls",
            "_model_module_version": "1.5.0",
            "_model_name": "HBoxModel",
            "_view_count": null,
            "_view_module": "@jupyter-widgets/controls",
            "_view_module_version": "1.5.0",
            "_view_name": "HBoxView",
            "box_style": "",
            "children": [
              "IPY_MODEL_1eba0915b60342359ddc9e31b883c8a1",
              "IPY_MODEL_070a410863864640bea359934b302d9f",
              "IPY_MODEL_2e27990d3b0841c097b69111baebf80e"
            ],
            "layout": "IPY_MODEL_dbcf0cf3cef84411949cd08933eddb62"
          }
        },
        "1eba0915b60342359ddc9e31b883c8a1": {
          "model_module": "@jupyter-widgets/controls",
          "model_name": "HTMLModel",
          "model_module_version": "1.5.0",
          "state": {
            "_dom_classes": [],
            "_model_module": "@jupyter-widgets/controls",
            "_model_module_version": "1.5.0",
            "_model_name": "HTMLModel",
            "_view_count": null,
            "_view_module": "@jupyter-widgets/controls",
            "_view_module_version": "1.5.0",
            "_view_name": "HTMLView",
            "description": "",
            "description_tooltip": null,
            "layout": "IPY_MODEL_73ec635eb8c746528038704017085de2",
            "placeholder": "​",
            "style": "IPY_MODEL_6be6b0d3a1044f1296a4e25b2101944f",
            "value": "model.safetensors: 100%"
          }
        },
        "070a410863864640bea359934b302d9f": {
          "model_module": "@jupyter-widgets/controls",
          "model_name": "FloatProgressModel",
          "model_module_version": "1.5.0",
          "state": {
            "_dom_classes": [],
            "_model_module": "@jupyter-widgets/controls",
            "_model_module_version": "1.5.0",
            "_model_name": "FloatProgressModel",
            "_view_count": null,
            "_view_module": "@jupyter-widgets/controls",
            "_view_module_version": "1.5.0",
            "_view_name": "ProgressView",
            "bar_style": "success",
            "description": "",
            "description_tooltip": null,
            "layout": "IPY_MODEL_35f6cc3d9e9946d893dd24a887bf11b0",
            "max": 440449768,
            "min": 0,
            "orientation": "horizontal",
            "style": "IPY_MODEL_9b379bb62df740cda000ec2aabf31e3e",
            "value": 440449768
          }
        },
        "2e27990d3b0841c097b69111baebf80e": {
          "model_module": "@jupyter-widgets/controls",
          "model_name": "HTMLModel",
          "model_module_version": "1.5.0",
          "state": {
            "_dom_classes": [],
            "_model_module": "@jupyter-widgets/controls",
            "_model_module_version": "1.5.0",
            "_model_name": "HTMLModel",
            "_view_count": null,
            "_view_module": "@jupyter-widgets/controls",
            "_view_module_version": "1.5.0",
            "_view_name": "HTMLView",
            "description": "",
            "description_tooltip": null,
            "layout": "IPY_MODEL_fcd83f3b9345406b987030c77736ce76",
            "placeholder": "​",
            "style": "IPY_MODEL_f352aa39352e4117bf1fc9f0ce884622",
            "value": " 440M/440M [00:01&lt;00:00, 249MB/s]"
          }
        },
        "dbcf0cf3cef84411949cd08933eddb62": {
          "model_module": "@jupyter-widgets/base",
          "model_name": "LayoutModel",
          "model_module_version": "1.2.0",
          "state": {
            "_model_module": "@jupyter-widgets/base",
            "_model_module_version": "1.2.0",
            "_model_name": "LayoutModel",
            "_view_count": null,
            "_view_module": "@jupyter-widgets/base",
            "_view_module_version": "1.2.0",
            "_view_name": "LayoutView",
            "align_content": null,
            "align_items": null,
            "align_self": null,
            "border": null,
            "bottom": null,
            "display": null,
            "flex": null,
            "flex_flow": null,
            "grid_area": null,
            "grid_auto_columns": null,
            "grid_auto_flow": null,
            "grid_auto_rows": null,
            "grid_column": null,
            "grid_gap": null,
            "grid_row": null,
            "grid_template_areas": null,
            "grid_template_columns": null,
            "grid_template_rows": null,
            "height": null,
            "justify_content": null,
            "justify_items": null,
            "left": null,
            "margin": null,
            "max_height": null,
            "max_width": null,
            "min_height": null,
            "min_width": null,
            "object_fit": null,
            "object_position": null,
            "order": null,
            "overflow": null,
            "overflow_x": null,
            "overflow_y": null,
            "padding": null,
            "right": null,
            "top": null,
            "visibility": null,
            "width": null
          }
        },
        "73ec635eb8c746528038704017085de2": {
          "model_module": "@jupyter-widgets/base",
          "model_name": "LayoutModel",
          "model_module_version": "1.2.0",
          "state": {
            "_model_module": "@jupyter-widgets/base",
            "_model_module_version": "1.2.0",
            "_model_name": "LayoutModel",
            "_view_count": null,
            "_view_module": "@jupyter-widgets/base",
            "_view_module_version": "1.2.0",
            "_view_name": "LayoutView",
            "align_content": null,
            "align_items": null,
            "align_self": null,
            "border": null,
            "bottom": null,
            "display": null,
            "flex": null,
            "flex_flow": null,
            "grid_area": null,
            "grid_auto_columns": null,
            "grid_auto_flow": null,
            "grid_auto_rows": null,
            "grid_column": null,
            "grid_gap": null,
            "grid_row": null,
            "grid_template_areas": null,
            "grid_template_columns": null,
            "grid_template_rows": null,
            "height": null,
            "justify_content": null,
            "justify_items": null,
            "left": null,
            "margin": null,
            "max_height": null,
            "max_width": null,
            "min_height": null,
            "min_width": null,
            "object_fit": null,
            "object_position": null,
            "order": null,
            "overflow": null,
            "overflow_x": null,
            "overflow_y": null,
            "padding": null,
            "right": null,
            "top": null,
            "visibility": null,
            "width": null
          }
        },
        "6be6b0d3a1044f1296a4e25b2101944f": {
          "model_module": "@jupyter-widgets/controls",
          "model_name": "DescriptionStyleModel",
          "model_module_version": "1.5.0",
          "state": {
            "_model_module": "@jupyter-widgets/controls",
            "_model_module_version": "1.5.0",
            "_model_name": "DescriptionStyleModel",
            "_view_count": null,
            "_view_module": "@jupyter-widgets/base",
            "_view_module_version": "1.2.0",
            "_view_name": "StyleView",
            "description_width": ""
          }
        },
        "35f6cc3d9e9946d893dd24a887bf11b0": {
          "model_module": "@jupyter-widgets/base",
          "model_name": "LayoutModel",
          "model_module_version": "1.2.0",
          "state": {
            "_model_module": "@jupyter-widgets/base",
            "_model_module_version": "1.2.0",
            "_model_name": "LayoutModel",
            "_view_count": null,
            "_view_module": "@jupyter-widgets/base",
            "_view_module_version": "1.2.0",
            "_view_name": "LayoutView",
            "align_content": null,
            "align_items": null,
            "align_self": null,
            "border": null,
            "bottom": null,
            "display": null,
            "flex": null,
            "flex_flow": null,
            "grid_area": null,
            "grid_auto_columns": null,
            "grid_auto_flow": null,
            "grid_auto_rows": null,
            "grid_column": null,
            "grid_gap": null,
            "grid_row": null,
            "grid_template_areas": null,
            "grid_template_columns": null,
            "grid_template_rows": null,
            "height": null,
            "justify_content": null,
            "justify_items": null,
            "left": null,
            "margin": null,
            "max_height": null,
            "max_width": null,
            "min_height": null,
            "min_width": null,
            "object_fit": null,
            "object_position": null,
            "order": null,
            "overflow": null,
            "overflow_x": null,
            "overflow_y": null,
            "padding": null,
            "right": null,
            "top": null,
            "visibility": null,
            "width": null
          }
        },
        "9b379bb62df740cda000ec2aabf31e3e": {
          "model_module": "@jupyter-widgets/controls",
          "model_name": "ProgressStyleModel",
          "model_module_version": "1.5.0",
          "state": {
            "_model_module": "@jupyter-widgets/controls",
            "_model_module_version": "1.5.0",
            "_model_name": "ProgressStyleModel",
            "_view_count": null,
            "_view_module": "@jupyter-widgets/base",
            "_view_module_version": "1.2.0",
            "_view_name": "StyleView",
            "bar_color": null,
            "description_width": ""
          }
        },
        "fcd83f3b9345406b987030c77736ce76": {
          "model_module": "@jupyter-widgets/base",
          "model_name": "LayoutModel",
          "model_module_version": "1.2.0",
          "state": {
            "_model_module": "@jupyter-widgets/base",
            "_model_module_version": "1.2.0",
            "_model_name": "LayoutModel",
            "_view_count": null,
            "_view_module": "@jupyter-widgets/base",
            "_view_module_version": "1.2.0",
            "_view_name": "LayoutView",
            "align_content": null,
            "align_items": null,
            "align_self": null,
            "border": null,
            "bottom": null,
            "display": null,
            "flex": null,
            "flex_flow": null,
            "grid_area": null,
            "grid_auto_columns": null,
            "grid_auto_flow": null,
            "grid_auto_rows": null,
            "grid_column": null,
            "grid_gap": null,
            "grid_row": null,
            "grid_template_areas": null,
            "grid_template_columns": null,
            "grid_template_rows": null,
            "height": null,
            "justify_content": null,
            "justify_items": null,
            "left": null,
            "margin": null,
            "max_height": null,
            "max_width": null,
            "min_height": null,
            "min_width": null,
            "object_fit": null,
            "object_position": null,
            "order": null,
            "overflow": null,
            "overflow_x": null,
            "overflow_y": null,
            "padding": null,
            "right": null,
            "top": null,
            "visibility": null,
            "width": null
          }
        },
        "f352aa39352e4117bf1fc9f0ce884622": {
          "model_module": "@jupyter-widgets/controls",
          "model_name": "DescriptionStyleModel",
          "model_module_version": "1.5.0",
          "state": {
            "_model_module": "@jupyter-widgets/controls",
            "_model_module_version": "1.5.0",
            "_model_name": "DescriptionStyleModel",
            "_view_count": null,
            "_view_module": "@jupyter-widgets/base",
            "_view_module_version": "1.2.0",
            "_view_name": "StyleView",
            "description_width": ""
          }
        },
        "9895f70914a549e39ee73888213e3ec9": {
          "model_module": "@jupyter-widgets/controls",
          "model_name": "HBoxModel",
          "model_module_version": "1.5.0",
          "state": {
            "_dom_classes": [],
            "_model_module": "@jupyter-widgets/controls",
            "_model_module_version": "1.5.0",
            "_model_name": "HBoxModel",
            "_view_count": null,
            "_view_module": "@jupyter-widgets/controls",
            "_view_module_version": "1.5.0",
            "_view_name": "HBoxView",
            "box_style": "",
            "children": [
              "IPY_MODEL_6fd0ebecd00f4008b27ef9c56428c093",
              "IPY_MODEL_2595533b53ad43be95680a7426a2f3ae",
              "IPY_MODEL_64788482a63f43aabbcdb1b7fd65acd8"
            ],
            "layout": "IPY_MODEL_a02790fc03714b5d96cf3c177795eedc"
          }
        },
        "6fd0ebecd00f4008b27ef9c56428c093": {
          "model_module": "@jupyter-widgets/controls",
          "model_name": "HTMLModel",
          "model_module_version": "1.5.0",
          "state": {
            "_dom_classes": [],
            "_model_module": "@jupyter-widgets/controls",
            "_model_module_version": "1.5.0",
            "_model_name": "HTMLModel",
            "_view_count": null,
            "_view_module": "@jupyter-widgets/controls",
            "_view_module_version": "1.5.0",
            "_view_name": "HTMLView",
            "description": "",
            "description_tooltip": null,
            "layout": "IPY_MODEL_9f5b19485b1f4c10a0886d6d08c6c1e4",
            "placeholder": "​",
            "style": "IPY_MODEL_4d9e32bf1dd24bffae454fb41021c9d4",
            "value": "tokenizer_config.json: 100%"
          }
        },
        "2595533b53ad43be95680a7426a2f3ae": {
          "model_module": "@jupyter-widgets/controls",
          "model_name": "FloatProgressModel",
          "model_module_version": "1.5.0",
          "state": {
            "_dom_classes": [],
            "_model_module": "@jupyter-widgets/controls",
            "_model_module_version": "1.5.0",
            "_model_name": "FloatProgressModel",
            "_view_count": null,
            "_view_module": "@jupyter-widgets/controls",
            "_view_module_version": "1.5.0",
            "_view_name": "ProgressView",
            "bar_style": "success",
            "description": "",
            "description_tooltip": null,
            "layout": "IPY_MODEL_342994c7286a436eaa716d85881b2776",
            "max": 48,
            "min": 0,
            "orientation": "horizontal",
            "style": "IPY_MODEL_f373e6953ca545ec9427df43dea934cd",
            "value": 48
          }
        },
        "64788482a63f43aabbcdb1b7fd65acd8": {
          "model_module": "@jupyter-widgets/controls",
          "model_name": "HTMLModel",
          "model_module_version": "1.5.0",
          "state": {
            "_dom_classes": [],
            "_model_module": "@jupyter-widgets/controls",
            "_model_module_version": "1.5.0",
            "_model_name": "HTMLModel",
            "_view_count": null,
            "_view_module": "@jupyter-widgets/controls",
            "_view_module_version": "1.5.0",
            "_view_name": "HTMLView",
            "description": "",
            "description_tooltip": null,
            "layout": "IPY_MODEL_4919d1b039c04f8383df194c7c28e6ca",
            "placeholder": "​",
            "style": "IPY_MODEL_d31669e3f54549048c10718db8b863f1",
            "value": " 48.0/48.0 [00:00&lt;00:00, 5.43kB/s]"
          }
        },
        "a02790fc03714b5d96cf3c177795eedc": {
          "model_module": "@jupyter-widgets/base",
          "model_name": "LayoutModel",
          "model_module_version": "1.2.0",
          "state": {
            "_model_module": "@jupyter-widgets/base",
            "_model_module_version": "1.2.0",
            "_model_name": "LayoutModel",
            "_view_count": null,
            "_view_module": "@jupyter-widgets/base",
            "_view_module_version": "1.2.0",
            "_view_name": "LayoutView",
            "align_content": null,
            "align_items": null,
            "align_self": null,
            "border": null,
            "bottom": null,
            "display": null,
            "flex": null,
            "flex_flow": null,
            "grid_area": null,
            "grid_auto_columns": null,
            "grid_auto_flow": null,
            "grid_auto_rows": null,
            "grid_column": null,
            "grid_gap": null,
            "grid_row": null,
            "grid_template_areas": null,
            "grid_template_columns": null,
            "grid_template_rows": null,
            "height": null,
            "justify_content": null,
            "justify_items": null,
            "left": null,
            "margin": null,
            "max_height": null,
            "max_width": null,
            "min_height": null,
            "min_width": null,
            "object_fit": null,
            "object_position": null,
            "order": null,
            "overflow": null,
            "overflow_x": null,
            "overflow_y": null,
            "padding": null,
            "right": null,
            "top": null,
            "visibility": null,
            "width": null
          }
        },
        "9f5b19485b1f4c10a0886d6d08c6c1e4": {
          "model_module": "@jupyter-widgets/base",
          "model_name": "LayoutModel",
          "model_module_version": "1.2.0",
          "state": {
            "_model_module": "@jupyter-widgets/base",
            "_model_module_version": "1.2.0",
            "_model_name": "LayoutModel",
            "_view_count": null,
            "_view_module": "@jupyter-widgets/base",
            "_view_module_version": "1.2.0",
            "_view_name": "LayoutView",
            "align_content": null,
            "align_items": null,
            "align_self": null,
            "border": null,
            "bottom": null,
            "display": null,
            "flex": null,
            "flex_flow": null,
            "grid_area": null,
            "grid_auto_columns": null,
            "grid_auto_flow": null,
            "grid_auto_rows": null,
            "grid_column": null,
            "grid_gap": null,
            "grid_row": null,
            "grid_template_areas": null,
            "grid_template_columns": null,
            "grid_template_rows": null,
            "height": null,
            "justify_content": null,
            "justify_items": null,
            "left": null,
            "margin": null,
            "max_height": null,
            "max_width": null,
            "min_height": null,
            "min_width": null,
            "object_fit": null,
            "object_position": null,
            "order": null,
            "overflow": null,
            "overflow_x": null,
            "overflow_y": null,
            "padding": null,
            "right": null,
            "top": null,
            "visibility": null,
            "width": null
          }
        },
        "4d9e32bf1dd24bffae454fb41021c9d4": {
          "model_module": "@jupyter-widgets/controls",
          "model_name": "DescriptionStyleModel",
          "model_module_version": "1.5.0",
          "state": {
            "_model_module": "@jupyter-widgets/controls",
            "_model_module_version": "1.5.0",
            "_model_name": "DescriptionStyleModel",
            "_view_count": null,
            "_view_module": "@jupyter-widgets/base",
            "_view_module_version": "1.2.0",
            "_view_name": "StyleView",
            "description_width": ""
          }
        },
        "342994c7286a436eaa716d85881b2776": {
          "model_module": "@jupyter-widgets/base",
          "model_name": "LayoutModel",
          "model_module_version": "1.2.0",
          "state": {
            "_model_module": "@jupyter-widgets/base",
            "_model_module_version": "1.2.0",
            "_model_name": "LayoutModel",
            "_view_count": null,
            "_view_module": "@jupyter-widgets/base",
            "_view_module_version": "1.2.0",
            "_view_name": "LayoutView",
            "align_content": null,
            "align_items": null,
            "align_self": null,
            "border": null,
            "bottom": null,
            "display": null,
            "flex": null,
            "flex_flow": null,
            "grid_area": null,
            "grid_auto_columns": null,
            "grid_auto_flow": null,
            "grid_auto_rows": null,
            "grid_column": null,
            "grid_gap": null,
            "grid_row": null,
            "grid_template_areas": null,
            "grid_template_columns": null,
            "grid_template_rows": null,
            "height": null,
            "justify_content": null,
            "justify_items": null,
            "left": null,
            "margin": null,
            "max_height": null,
            "max_width": null,
            "min_height": null,
            "min_width": null,
            "object_fit": null,
            "object_position": null,
            "order": null,
            "overflow": null,
            "overflow_x": null,
            "overflow_y": null,
            "padding": null,
            "right": null,
            "top": null,
            "visibility": null,
            "width": null
          }
        },
        "f373e6953ca545ec9427df43dea934cd": {
          "model_module": "@jupyter-widgets/controls",
          "model_name": "ProgressStyleModel",
          "model_module_version": "1.5.0",
          "state": {
            "_model_module": "@jupyter-widgets/controls",
            "_model_module_version": "1.5.0",
            "_model_name": "ProgressStyleModel",
            "_view_count": null,
            "_view_module": "@jupyter-widgets/base",
            "_view_module_version": "1.2.0",
            "_view_name": "StyleView",
            "bar_color": null,
            "description_width": ""
          }
        },
        "4919d1b039c04f8383df194c7c28e6ca": {
          "model_module": "@jupyter-widgets/base",
          "model_name": "LayoutModel",
          "model_module_version": "1.2.0",
          "state": {
            "_model_module": "@jupyter-widgets/base",
            "_model_module_version": "1.2.0",
            "_model_name": "LayoutModel",
            "_view_count": null,
            "_view_module": "@jupyter-widgets/base",
            "_view_module_version": "1.2.0",
            "_view_name": "LayoutView",
            "align_content": null,
            "align_items": null,
            "align_self": null,
            "border": null,
            "bottom": null,
            "display": null,
            "flex": null,
            "flex_flow": null,
            "grid_area": null,
            "grid_auto_columns": null,
            "grid_auto_flow": null,
            "grid_auto_rows": null,
            "grid_column": null,
            "grid_gap": null,
            "grid_row": null,
            "grid_template_areas": null,
            "grid_template_columns": null,
            "grid_template_rows": null,
            "height": null,
            "justify_content": null,
            "justify_items": null,
            "left": null,
            "margin": null,
            "max_height": null,
            "max_width": null,
            "min_height": null,
            "min_width": null,
            "object_fit": null,
            "object_position": null,
            "order": null,
            "overflow": null,
            "overflow_x": null,
            "overflow_y": null,
            "padding": null,
            "right": null,
            "top": null,
            "visibility": null,
            "width": null
          }
        },
        "d31669e3f54549048c10718db8b863f1": {
          "model_module": "@jupyter-widgets/controls",
          "model_name": "DescriptionStyleModel",
          "model_module_version": "1.5.0",
          "state": {
            "_model_module": "@jupyter-widgets/controls",
            "_model_module_version": "1.5.0",
            "_model_name": "DescriptionStyleModel",
            "_view_count": null,
            "_view_module": "@jupyter-widgets/base",
            "_view_module_version": "1.2.0",
            "_view_name": "StyleView",
            "description_width": ""
          }
        },
        "9ec06ea3a6a04e5cb255e58f99134fdc": {
          "model_module": "@jupyter-widgets/controls",
          "model_name": "HBoxModel",
          "model_module_version": "1.5.0",
          "state": {
            "_dom_classes": [],
            "_model_module": "@jupyter-widgets/controls",
            "_model_module_version": "1.5.0",
            "_model_name": "HBoxModel",
            "_view_count": null,
            "_view_module": "@jupyter-widgets/controls",
            "_view_module_version": "1.5.0",
            "_view_name": "HBoxView",
            "box_style": "",
            "children": [
              "IPY_MODEL_626332fd2a4040228c5ba422cff06b40",
              "IPY_MODEL_634ae19ee38c4ed192ce6efd823459cf",
              "IPY_MODEL_6ea6d860a5c54aa28b95e46fea6118d3"
            ],
            "layout": "IPY_MODEL_fc1c98e13b5e4e0caa1f859f07afff3c"
          }
        },
        "626332fd2a4040228c5ba422cff06b40": {
          "model_module": "@jupyter-widgets/controls",
          "model_name": "HTMLModel",
          "model_module_version": "1.5.0",
          "state": {
            "_dom_classes": [],
            "_model_module": "@jupyter-widgets/controls",
            "_model_module_version": "1.5.0",
            "_model_name": "HTMLModel",
            "_view_count": null,
            "_view_module": "@jupyter-widgets/controls",
            "_view_module_version": "1.5.0",
            "_view_name": "HTMLView",
            "description": "",
            "description_tooltip": null,
            "layout": "IPY_MODEL_83664b79977d42e6a834317add066e85",
            "placeholder": "​",
            "style": "IPY_MODEL_f2c9c7d2277d46618679d9f392717ca2",
            "value": "vocab.txt: 100%"
          }
        },
        "634ae19ee38c4ed192ce6efd823459cf": {
          "model_module": "@jupyter-widgets/controls",
          "model_name": "FloatProgressModel",
          "model_module_version": "1.5.0",
          "state": {
            "_dom_classes": [],
            "_model_module": "@jupyter-widgets/controls",
            "_model_module_version": "1.5.0",
            "_model_name": "FloatProgressModel",
            "_view_count": null,
            "_view_module": "@jupyter-widgets/controls",
            "_view_module_version": "1.5.0",
            "_view_name": "ProgressView",
            "bar_style": "success",
            "description": "",
            "description_tooltip": null,
            "layout": "IPY_MODEL_c11418dfd6e340e39d22539f4f2d0601",
            "max": 231508,
            "min": 0,
            "orientation": "horizontal",
            "style": "IPY_MODEL_919fbfee24d841eab62de41be826ff36",
            "value": 231508
          }
        },
        "6ea6d860a5c54aa28b95e46fea6118d3": {
          "model_module": "@jupyter-widgets/controls",
          "model_name": "HTMLModel",
          "model_module_version": "1.5.0",
          "state": {
            "_dom_classes": [],
            "_model_module": "@jupyter-widgets/controls",
            "_model_module_version": "1.5.0",
            "_model_name": "HTMLModel",
            "_view_count": null,
            "_view_module": "@jupyter-widgets/controls",
            "_view_module_version": "1.5.0",
            "_view_name": "HTMLView",
            "description": "",
            "description_tooltip": null,
            "layout": "IPY_MODEL_1221d9afabb5482c9c89c079b4e0a1ef",
            "placeholder": "​",
            "style": "IPY_MODEL_b8529b52f9ef453fa942113c45a5f325",
            "value": " 232k/232k [00:00&lt;00:00, 14.1MB/s]"
          }
        },
        "fc1c98e13b5e4e0caa1f859f07afff3c": {
          "model_module": "@jupyter-widgets/base",
          "model_name": "LayoutModel",
          "model_module_version": "1.2.0",
          "state": {
            "_model_module": "@jupyter-widgets/base",
            "_model_module_version": "1.2.0",
            "_model_name": "LayoutModel",
            "_view_count": null,
            "_view_module": "@jupyter-widgets/base",
            "_view_module_version": "1.2.0",
            "_view_name": "LayoutView",
            "align_content": null,
            "align_items": null,
            "align_self": null,
            "border": null,
            "bottom": null,
            "display": null,
            "flex": null,
            "flex_flow": null,
            "grid_area": null,
            "grid_auto_columns": null,
            "grid_auto_flow": null,
            "grid_auto_rows": null,
            "grid_column": null,
            "grid_gap": null,
            "grid_row": null,
            "grid_template_areas": null,
            "grid_template_columns": null,
            "grid_template_rows": null,
            "height": null,
            "justify_content": null,
            "justify_items": null,
            "left": null,
            "margin": null,
            "max_height": null,
            "max_width": null,
            "min_height": null,
            "min_width": null,
            "object_fit": null,
            "object_position": null,
            "order": null,
            "overflow": null,
            "overflow_x": null,
            "overflow_y": null,
            "padding": null,
            "right": null,
            "top": null,
            "visibility": null,
            "width": null
          }
        },
        "83664b79977d42e6a834317add066e85": {
          "model_module": "@jupyter-widgets/base",
          "model_name": "LayoutModel",
          "model_module_version": "1.2.0",
          "state": {
            "_model_module": "@jupyter-widgets/base",
            "_model_module_version": "1.2.0",
            "_model_name": "LayoutModel",
            "_view_count": null,
            "_view_module": "@jupyter-widgets/base",
            "_view_module_version": "1.2.0",
            "_view_name": "LayoutView",
            "align_content": null,
            "align_items": null,
            "align_self": null,
            "border": null,
            "bottom": null,
            "display": null,
            "flex": null,
            "flex_flow": null,
            "grid_area": null,
            "grid_auto_columns": null,
            "grid_auto_flow": null,
            "grid_auto_rows": null,
            "grid_column": null,
            "grid_gap": null,
            "grid_row": null,
            "grid_template_areas": null,
            "grid_template_columns": null,
            "grid_template_rows": null,
            "height": null,
            "justify_content": null,
            "justify_items": null,
            "left": null,
            "margin": null,
            "max_height": null,
            "max_width": null,
            "min_height": null,
            "min_width": null,
            "object_fit": null,
            "object_position": null,
            "order": null,
            "overflow": null,
            "overflow_x": null,
            "overflow_y": null,
            "padding": null,
            "right": null,
            "top": null,
            "visibility": null,
            "width": null
          }
        },
        "f2c9c7d2277d46618679d9f392717ca2": {
          "model_module": "@jupyter-widgets/controls",
          "model_name": "DescriptionStyleModel",
          "model_module_version": "1.5.0",
          "state": {
            "_model_module": "@jupyter-widgets/controls",
            "_model_module_version": "1.5.0",
            "_model_name": "DescriptionStyleModel",
            "_view_count": null,
            "_view_module": "@jupyter-widgets/base",
            "_view_module_version": "1.2.0",
            "_view_name": "StyleView",
            "description_width": ""
          }
        },
        "c11418dfd6e340e39d22539f4f2d0601": {
          "model_module": "@jupyter-widgets/base",
          "model_name": "LayoutModel",
          "model_module_version": "1.2.0",
          "state": {
            "_model_module": "@jupyter-widgets/base",
            "_model_module_version": "1.2.0",
            "_model_name": "LayoutModel",
            "_view_count": null,
            "_view_module": "@jupyter-widgets/base",
            "_view_module_version": "1.2.0",
            "_view_name": "LayoutView",
            "align_content": null,
            "align_items": null,
            "align_self": null,
            "border": null,
            "bottom": null,
            "display": null,
            "flex": null,
            "flex_flow": null,
            "grid_area": null,
            "grid_auto_columns": null,
            "grid_auto_flow": null,
            "grid_auto_rows": null,
            "grid_column": null,
            "grid_gap": null,
            "grid_row": null,
            "grid_template_areas": null,
            "grid_template_columns": null,
            "grid_template_rows": null,
            "height": null,
            "justify_content": null,
            "justify_items": null,
            "left": null,
            "margin": null,
            "max_height": null,
            "max_width": null,
            "min_height": null,
            "min_width": null,
            "object_fit": null,
            "object_position": null,
            "order": null,
            "overflow": null,
            "overflow_x": null,
            "overflow_y": null,
            "padding": null,
            "right": null,
            "top": null,
            "visibility": null,
            "width": null
          }
        },
        "919fbfee24d841eab62de41be826ff36": {
          "model_module": "@jupyter-widgets/controls",
          "model_name": "ProgressStyleModel",
          "model_module_version": "1.5.0",
          "state": {
            "_model_module": "@jupyter-widgets/controls",
            "_model_module_version": "1.5.0",
            "_model_name": "ProgressStyleModel",
            "_view_count": null,
            "_view_module": "@jupyter-widgets/base",
            "_view_module_version": "1.2.0",
            "_view_name": "StyleView",
            "bar_color": null,
            "description_width": ""
          }
        },
        "1221d9afabb5482c9c89c079b4e0a1ef": {
          "model_module": "@jupyter-widgets/base",
          "model_name": "LayoutModel",
          "model_module_version": "1.2.0",
          "state": {
            "_model_module": "@jupyter-widgets/base",
            "_model_module_version": "1.2.0",
            "_model_name": "LayoutModel",
            "_view_count": null,
            "_view_module": "@jupyter-widgets/base",
            "_view_module_version": "1.2.0",
            "_view_name": "LayoutView",
            "align_content": null,
            "align_items": null,
            "align_self": null,
            "border": null,
            "bottom": null,
            "display": null,
            "flex": null,
            "flex_flow": null,
            "grid_area": null,
            "grid_auto_columns": null,
            "grid_auto_flow": null,
            "grid_auto_rows": null,
            "grid_column": null,
            "grid_gap": null,
            "grid_row": null,
            "grid_template_areas": null,
            "grid_template_columns": null,
            "grid_template_rows": null,
            "height": null,
            "justify_content": null,
            "justify_items": null,
            "left": null,
            "margin": null,
            "max_height": null,
            "max_width": null,
            "min_height": null,
            "min_width": null,
            "object_fit": null,
            "object_position": null,
            "order": null,
            "overflow": null,
            "overflow_x": null,
            "overflow_y": null,
            "padding": null,
            "right": null,
            "top": null,
            "visibility": null,
            "width": null
          }
        },
        "b8529b52f9ef453fa942113c45a5f325": {
          "model_module": "@jupyter-widgets/controls",
          "model_name": "DescriptionStyleModel",
          "model_module_version": "1.5.0",
          "state": {
            "_model_module": "@jupyter-widgets/controls",
            "_model_module_version": "1.5.0",
            "_model_name": "DescriptionStyleModel",
            "_view_count": null,
            "_view_module": "@jupyter-widgets/base",
            "_view_module_version": "1.2.0",
            "_view_name": "StyleView",
            "description_width": ""
          }
        },
        "7d3df6c8d849418bb5a2ce83a0196888": {
          "model_module": "@jupyter-widgets/controls",
          "model_name": "HBoxModel",
          "model_module_version": "1.5.0",
          "state": {
            "_dom_classes": [],
            "_model_module": "@jupyter-widgets/controls",
            "_model_module_version": "1.5.0",
            "_model_name": "HBoxModel",
            "_view_count": null,
            "_view_module": "@jupyter-widgets/controls",
            "_view_module_version": "1.5.0",
            "_view_name": "HBoxView",
            "box_style": "",
            "children": [
              "IPY_MODEL_0b0e4084814e4d85b98c9ae9a8ef1122",
              "IPY_MODEL_33e28fc0d9854b72bd786d1df850aeee",
              "IPY_MODEL_179826cd16bd4dc8a19583b7f8e226ee"
            ],
            "layout": "IPY_MODEL_20e0eb04d5b343778fa676c8d0cda359"
          }
        },
        "0b0e4084814e4d85b98c9ae9a8ef1122": {
          "model_module": "@jupyter-widgets/controls",
          "model_name": "HTMLModel",
          "model_module_version": "1.5.0",
          "state": {
            "_dom_classes": [],
            "_model_module": "@jupyter-widgets/controls",
            "_model_module_version": "1.5.0",
            "_model_name": "HTMLModel",
            "_view_count": null,
            "_view_module": "@jupyter-widgets/controls",
            "_view_module_version": "1.5.0",
            "_view_name": "HTMLView",
            "description": "",
            "description_tooltip": null,
            "layout": "IPY_MODEL_78f74bc1dbac4a67abd200538260e8e9",
            "placeholder": "​",
            "style": "IPY_MODEL_cf7e5cd14d194ebab442a9306469fc07",
            "value": "tokenizer.json: 100%"
          }
        },
        "33e28fc0d9854b72bd786d1df850aeee": {
          "model_module": "@jupyter-widgets/controls",
          "model_name": "FloatProgressModel",
          "model_module_version": "1.5.0",
          "state": {
            "_dom_classes": [],
            "_model_module": "@jupyter-widgets/controls",
            "_model_module_version": "1.5.0",
            "_model_name": "FloatProgressModel",
            "_view_count": null,
            "_view_module": "@jupyter-widgets/controls",
            "_view_module_version": "1.5.0",
            "_view_name": "ProgressView",
            "bar_style": "success",
            "description": "",
            "description_tooltip": null,
            "layout": "IPY_MODEL_bcbfc59ab5bb4341ad05662eb507c435",
            "max": 466062,
            "min": 0,
            "orientation": "horizontal",
            "style": "IPY_MODEL_a2b7b6513e1c4f43909345500cea1755",
            "value": 466062
          }
        },
        "179826cd16bd4dc8a19583b7f8e226ee": {
          "model_module": "@jupyter-widgets/controls",
          "model_name": "HTMLModel",
          "model_module_version": "1.5.0",
          "state": {
            "_dom_classes": [],
            "_model_module": "@jupyter-widgets/controls",
            "_model_module_version": "1.5.0",
            "_model_name": "HTMLModel",
            "_view_count": null,
            "_view_module": "@jupyter-widgets/controls",
            "_view_module_version": "1.5.0",
            "_view_name": "HTMLView",
            "description": "",
            "description_tooltip": null,
            "layout": "IPY_MODEL_36b3e06c527147278142c14219695759",
            "placeholder": "​",
            "style": "IPY_MODEL_c266231020b946a19347b374efb17c15",
            "value": " 466k/466k [00:00&lt;00:00, 34.5MB/s]"
          }
        },
        "20e0eb04d5b343778fa676c8d0cda359": {
          "model_module": "@jupyter-widgets/base",
          "model_name": "LayoutModel",
          "model_module_version": "1.2.0",
          "state": {
            "_model_module": "@jupyter-widgets/base",
            "_model_module_version": "1.2.0",
            "_model_name": "LayoutModel",
            "_view_count": null,
            "_view_module": "@jupyter-widgets/base",
            "_view_module_version": "1.2.0",
            "_view_name": "LayoutView",
            "align_content": null,
            "align_items": null,
            "align_self": null,
            "border": null,
            "bottom": null,
            "display": null,
            "flex": null,
            "flex_flow": null,
            "grid_area": null,
            "grid_auto_columns": null,
            "grid_auto_flow": null,
            "grid_auto_rows": null,
            "grid_column": null,
            "grid_gap": null,
            "grid_row": null,
            "grid_template_areas": null,
            "grid_template_columns": null,
            "grid_template_rows": null,
            "height": null,
            "justify_content": null,
            "justify_items": null,
            "left": null,
            "margin": null,
            "max_height": null,
            "max_width": null,
            "min_height": null,
            "min_width": null,
            "object_fit": null,
            "object_position": null,
            "order": null,
            "overflow": null,
            "overflow_x": null,
            "overflow_y": null,
            "padding": null,
            "right": null,
            "top": null,
            "visibility": null,
            "width": null
          }
        },
        "78f74bc1dbac4a67abd200538260e8e9": {
          "model_module": "@jupyter-widgets/base",
          "model_name": "LayoutModel",
          "model_module_version": "1.2.0",
          "state": {
            "_model_module": "@jupyter-widgets/base",
            "_model_module_version": "1.2.0",
            "_model_name": "LayoutModel",
            "_view_count": null,
            "_view_module": "@jupyter-widgets/base",
            "_view_module_version": "1.2.0",
            "_view_name": "LayoutView",
            "align_content": null,
            "align_items": null,
            "align_self": null,
            "border": null,
            "bottom": null,
            "display": null,
            "flex": null,
            "flex_flow": null,
            "grid_area": null,
            "grid_auto_columns": null,
            "grid_auto_flow": null,
            "grid_auto_rows": null,
            "grid_column": null,
            "grid_gap": null,
            "grid_row": null,
            "grid_template_areas": null,
            "grid_template_columns": null,
            "grid_template_rows": null,
            "height": null,
            "justify_content": null,
            "justify_items": null,
            "left": null,
            "margin": null,
            "max_height": null,
            "max_width": null,
            "min_height": null,
            "min_width": null,
            "object_fit": null,
            "object_position": null,
            "order": null,
            "overflow": null,
            "overflow_x": null,
            "overflow_y": null,
            "padding": null,
            "right": null,
            "top": null,
            "visibility": null,
            "width": null
          }
        },
        "cf7e5cd14d194ebab442a9306469fc07": {
          "model_module": "@jupyter-widgets/controls",
          "model_name": "DescriptionStyleModel",
          "model_module_version": "1.5.0",
          "state": {
            "_model_module": "@jupyter-widgets/controls",
            "_model_module_version": "1.5.0",
            "_model_name": "DescriptionStyleModel",
            "_view_count": null,
            "_view_module": "@jupyter-widgets/base",
            "_view_module_version": "1.2.0",
            "_view_name": "StyleView",
            "description_width": ""
          }
        },
        "bcbfc59ab5bb4341ad05662eb507c435": {
          "model_module": "@jupyter-widgets/base",
          "model_name": "LayoutModel",
          "model_module_version": "1.2.0",
          "state": {
            "_model_module": "@jupyter-widgets/base",
            "_model_module_version": "1.2.0",
            "_model_name": "LayoutModel",
            "_view_count": null,
            "_view_module": "@jupyter-widgets/base",
            "_view_module_version": "1.2.0",
            "_view_name": "LayoutView",
            "align_content": null,
            "align_items": null,
            "align_self": null,
            "border": null,
            "bottom": null,
            "display": null,
            "flex": null,
            "flex_flow": null,
            "grid_area": null,
            "grid_auto_columns": null,
            "grid_auto_flow": null,
            "grid_auto_rows": null,
            "grid_column": null,
            "grid_gap": null,
            "grid_row": null,
            "grid_template_areas": null,
            "grid_template_columns": null,
            "grid_template_rows": null,
            "height": null,
            "justify_content": null,
            "justify_items": null,
            "left": null,
            "margin": null,
            "max_height": null,
            "max_width": null,
            "min_height": null,
            "min_width": null,
            "object_fit": null,
            "object_position": null,
            "order": null,
            "overflow": null,
            "overflow_x": null,
            "overflow_y": null,
            "padding": null,
            "right": null,
            "top": null,
            "visibility": null,
            "width": null
          }
        },
        "a2b7b6513e1c4f43909345500cea1755": {
          "model_module": "@jupyter-widgets/controls",
          "model_name": "ProgressStyleModel",
          "model_module_version": "1.5.0",
          "state": {
            "_model_module": "@jupyter-widgets/controls",
            "_model_module_version": "1.5.0",
            "_model_name": "ProgressStyleModel",
            "_view_count": null,
            "_view_module": "@jupyter-widgets/base",
            "_view_module_version": "1.2.0",
            "_view_name": "StyleView",
            "bar_color": null,
            "description_width": ""
          }
        },
        "36b3e06c527147278142c14219695759": {
          "model_module": "@jupyter-widgets/base",
          "model_name": "LayoutModel",
          "model_module_version": "1.2.0",
          "state": {
            "_model_module": "@jupyter-widgets/base",
            "_model_module_version": "1.2.0",
            "_model_name": "LayoutModel",
            "_view_count": null,
            "_view_module": "@jupyter-widgets/base",
            "_view_module_version": "1.2.0",
            "_view_name": "LayoutView",
            "align_content": null,
            "align_items": null,
            "align_self": null,
            "border": null,
            "bottom": null,
            "display": null,
            "flex": null,
            "flex_flow": null,
            "grid_area": null,
            "grid_auto_columns": null,
            "grid_auto_flow": null,
            "grid_auto_rows": null,
            "grid_column": null,
            "grid_gap": null,
            "grid_row": null,
            "grid_template_areas": null,
            "grid_template_columns": null,
            "grid_template_rows": null,
            "height": null,
            "justify_content": null,
            "justify_items": null,
            "left": null,
            "margin": null,
            "max_height": null,
            "max_width": null,
            "min_height": null,
            "min_width": null,
            "object_fit": null,
            "object_position": null,
            "order": null,
            "overflow": null,
            "overflow_x": null,
            "overflow_y": null,
            "padding": null,
            "right": null,
            "top": null,
            "visibility": null,
            "width": null
          }
        },
        "c266231020b946a19347b374efb17c15": {
          "model_module": "@jupyter-widgets/controls",
          "model_name": "DescriptionStyleModel",
          "model_module_version": "1.5.0",
          "state": {
            "_model_module": "@jupyter-widgets/controls",
            "_model_module_version": "1.5.0",
            "_model_name": "DescriptionStyleModel",
            "_view_count": null,
            "_view_module": "@jupyter-widgets/base",
            "_view_module_version": "1.2.0",
            "_view_name": "StyleView",
            "description_width": ""
          }
        }
      }
    }
  },
  "nbformat": 4,
  "nbformat_minor": 5
}