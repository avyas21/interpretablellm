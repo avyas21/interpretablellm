{
 "cells": [
  {
   "cell_type": "code",
   "execution_count": null,
   "id": "f343ad35-e195-4859-a3a7-35e4120d1b69",
   "metadata": {
    "colab": {
     "base_uri": "https://localhost:8080/"
    },
    "id": "f343ad35-e195-4859-a3a7-35e4120d1b69",
    "outputId": "f40141ba-efe8-4d3b-eedf-b7d49f910716"
   },
   "outputs": [],
   "source": [
    "!pip install transformers\n",
    "!pip install numpy==1.26.0\n",
    "!pip install torch torchvision torchaudio\n",
    "!pip install --upgrade ipywidgets\n",
    "!pip install pandas\n",
    "!pip install torchinfo"
   ]
  },
  {
   "cell_type": "code",
   "execution_count": null,
   "id": "2962b9d0-ba93-4ffa-bf14-18aa63fedea6",
   "metadata": {
    "colab": {
     "base_uri": "https://localhost:8080/"
    },
    "id": "2962b9d0-ba93-4ffa-bf14-18aa63fedea6",
    "outputId": "e4a7ab32-5025-4b19-db61-b201c1be7e5f"
   },
   "outputs": [],
   "source": [
    "!nvidia-smi"
   ]
  },
  {
   "cell_type": "code",
   "execution_count": null,
   "id": "n-j8_3zq1UT6",
   "metadata": {
    "colab": {
     "base_uri": "https://localhost:8080/"
    },
    "id": "n-j8_3zq1UT6",
    "outputId": "dc332bd0-9162-49d3-90a9-409850156e41"
   },
   "outputs": [],
   "source": [
    "!git clone https://github.com/avyas21/interpretablellm.git"
   ]
  },
  {
   "cell_type": "code",
   "execution_count": null,
   "id": "srClFliF1d4O",
   "metadata": {
    "colab": {
     "base_uri": "https://localhost:8080/"
    },
    "id": "srClFliF1d4O",
    "outputId": "496da933-3eb7-485b-f1cd-ae95afcfc6b8"
   },
   "outputs": [],
   "source": [
    "%cd interpretablellm\n",
    "!ls"
   ]
  },
  {
   "cell_type": "markdown",
   "id": "9b82dd9f-e6d6-46ac-9843-ca25199683dc",
   "metadata": {
    "id": "9b82dd9f-e6d6-46ac-9843-ca25199683dc"
   },
   "source": [
    "## Data Preprocessing"
   ]
  },
  {
   "cell_type": "code",
   "execution_count": 1,
   "id": "4d09ed15-aedc-4fc2-818f-a72d9d98c52f",
   "metadata": {
    "id": "4d09ed15-aedc-4fc2-818f-a72d9d98c52f"
   },
   "outputs": [],
   "source": [
    "import pandas as pd"
   ]
  },
  {
   "cell_type": "code",
   "execution_count": 2,
   "id": "b76f9c22-366a-4a15-a179-4c5383ebc244",
   "metadata": {
    "id": "b76f9c22-366a-4a15-a179-4c5383ebc244"
   },
   "outputs": [],
   "source": [
    "train_data = pd.read_csv(\"data/train_data.csv\")\n",
    "test_data = pd.read_csv(\"data/test_data.csv\")"
   ]
  },
  {
   "cell_type": "code",
   "execution_count": 3,
   "id": "42f93876-e2bf-4b48-b96e-49f03c8593b2",
   "metadata": {
    "id": "42f93876-e2bf-4b48-b96e-49f03c8593b2"
   },
   "outputs": [],
   "source": [
    "POSITIVE_WORDS = [\"positive\", \"great\", \"good\", \"happy\", \"amazing\", \"fantastic\", \"yes\"]\n",
    "NEGATIVE_WORDS = [\"negative\", \"bad\", \"sad\", \"terrible\", \"horrible\", \"no\", \"critical\"]"
   ]
  },
  {
   "cell_type": "code",
   "execution_count": 4,
   "id": "48213dc3-68d1-4b8b-a454-ec5deed1ee28",
   "metadata": {
    "id": "48213dc3-68d1-4b8b-a454-ec5deed1ee28"
   },
   "outputs": [],
   "source": [
    "def convert_lbl_to_int(label):\n",
    "    if label.lower() in POSITIVE_WORDS:\n",
    "        return 1\n",
    "    if label.lower() in NEGATIVE_WORDS:\n",
    "        return 0\n",
    "    return -1"
   ]
  },
  {
   "cell_type": "markdown",
   "id": "c594c372-0387-4956-b9e6-a362de13ab1b",
   "metadata": {
    "id": "c594c372-0387-4956-b9e6-a362de13ab1b"
   },
   "source": [
    "## Baseline Model"
   ]
  },
  {
   "cell_type": "code",
   "execution_count": 5,
   "id": "dcc1073e-f664-4053-a2a0-6a866a8ba2b0",
   "metadata": {
    "colab": {
     "base_uri": "https://localhost:8080/"
    },
    "id": "dcc1073e-f664-4053-a2a0-6a866a8ba2b0",
    "outputId": "72b8099c-16ff-4eb4-8445-860c0191f8e8"
   },
   "outputs": [
    {
     "name": "stdout",
     "output_type": "stream",
     "text": [
      "1.26.0\n"
     ]
    }
   ],
   "source": [
    "import numpy as np\n",
    "print(np.__version__)\n",
    "from transformers import BertModel, BertTokenizer, BertForSequenceClassification, BertConfig\n",
    "from transformers import pipeline\n",
    "from sklearn.metrics import f1_score\n",
    "from torchinfo import summary\n",
    "import torch.nn as nn\n",
    "import torch\n",
    "from torch.utils.data import Dataset, DataLoader\n",
    "import random"
   ]
  },
  {
   "cell_type": "code",
   "execution_count": 6,
   "id": "04d9d4b2-68ac-433e-933f-407c97a5807b",
   "metadata": {
    "colab": {
     "base_uri": "https://localhost:8080/"
    },
    "id": "04d9d4b2-68ac-433e-933f-407c97a5807b",
    "outputId": "7023749b-0fa8-4b8d-d606-27252a1d8d91"
   },
   "outputs": [],
   "source": [
    "class TextDataset(Dataset):\n",
    "    def __init__(self, texts, labels, tokenizer, max_length):\n",
    "        self.texts = texts\n",
    "        self.labels = labels\n",
    "        self.tokenizer = tokenizer\n",
    "        self.max_length = max_length\n",
    "\n",
    "    def __len__(self):\n",
    "        return len(self.texts)\n",
    "\n",
    "    def __getitem__(self, idx):\n",
    "        text = self.texts[idx]\n",
    "        label = self.labels[idx]\n",
    "        encoding = self.tokenizer(\n",
    "            text,\n",
    "            add_special_tokens=True,\n",
    "            max_length=self.max_length,\n",
    "            padding='max_length',\n",
    "            truncation=True,\n",
    "            return_tensors='pt'\n",
    "        )\n",
    "        return {\n",
    "            'input_ids': encoding['input_ids'].flatten(),\n",
    "            'attention_mask': encoding['attention_mask'].flatten(),\n",
    "            'label': torch.tensor(label)\n",
    "        }"
   ]
  },
  {
   "cell_type": "code",
   "execution_count": 7,
   "id": "943dccdc-d64d-438c-8285-42ae4cac65aa",
   "metadata": {
    "colab": {
     "base_uri": "https://localhost:8080/",
     "height": 447,
     "referenced_widgets": [
      "c34cc6d0ecb54fcaa768fa965a41ae90",
      "0d8f80487e244e34973a7277a76fa84c",
      "e43a335e914a45a1abb80165c0390bcc",
      "0b03169a08334b42ba0faabfc4e1788a",
      "4fffe7551f1e40e28bb4682aa702df64",
      "2fec4aa75d574dff99ad471d44a1f026",
      "d200a1f539944c25a09b6687773b9e13",
      "a3d510a9fcf34a16a3215a0b6e8b2d2f",
      "61edd6575d2c40a0802a67b7b2ff9e4b",
      "fc546c1f05e5456091587903ede5ee34",
      "6153c69fe93d4621b0762cd538f1d9bc",
      "0f9fb3289d2b46d984d78bbf4840333c",
      "43dc7aed2c6d48aa87567b14db9800e8",
      "6fd658a282a84394a5c57cd904dac2cb",
      "ab7dec18a21146b1bc6f8d608ccbc8b2",
      "7d2d2853d5754cfdbfc5958e8f93bd55",
      "bfba79af3c8e4a1388d7158e776060fd",
      "307fa19c980e4843a685d0882cc1499d",
      "7aaaeca490e744d79c8e50f320e16220",
      "47ce46e41422457698aaf8b060cc0c06",
      "b43985336c8c4097b6617f3bd08e84ed",
      "04d3af5cb32740b7b6e3d4eb3e64f9fa",
      "9a39665c405c4f1a91fa53e1d15012c9",
      "26db57945c1c4ba8adbc0d397409ecca",
      "677fa7f8ee4c48569450d93dd18e2692",
      "1cf065cc26ee4d4bbec398d9da191c61",
      "1dfd903bcde34aa58e3693e9c0d601ec",
      "4f9911c8bf6a4145b5dbd511d57c0258",
      "ebd1a5396ec74419a4a74b93ff7e4f98",
      "e746f9bab8e6484193ece0f8d431660e",
      "440e232b382f456587540e812d0cc1e8",
      "2fb1c703cebd4f769543be9356f8978f",
      "87c191c6a6a045ee9deef87390083954",
      "17a045610272481fb0240283bf7e570d",
      "810dc92e12d14a9a8399578f51bba260",
      "132537527d7245b884343a724ad49c69",
      "f02dc5515dbe44e58a124e3910290b95",
      "1ca7180c5ce94646952d3d1a1dff5079",
      "9b9ebfed15254f1aacc686cf5d678334",
      "8404f9c129d54c1581b0135fbf1c0099",
      "569c9b9ec24d4a90bdcd024df49af985",
      "9eaff47ccf144e4987ba2fd4a5a946a7",
      "c4198feeea9a41aca81444efcea7f31c",
      "86eb1a8901aa4844918266ba956fff9b",
      "85dff2268762428ea8c5c66ed84c02de",
      "f63515fba5424c79a1549c1f14e41a9d",
      "d239ec8ed6ae473fbaead8e0dc3edde3",
      "38fd204428254c609671dd1422037bdf",
      "3daea2f3157649ffbc5fb6352a443e1e",
      "aee9590e58a0474d9dfd2a0169b5621d",
      "82f0a1d8502841e8a6d453fe0601b419",
      "f63efe2b2469465eade49a15b5c7bf6c",
      "4a5ff22b8f724ae4bcdf5b74fedc26c9",
      "6c21c1a3e98f458fa234ca77a3e143f8",
      "2125b7ba262847beb78269fbab59d807"
     ]
    },
    "id": "943dccdc-d64d-438c-8285-42ae4cac65aa",
    "outputId": "e3b41f95-bcd4-4465-f75c-1a7cb7b82628"
   },
   "outputs": [],
   "source": [
    "def get_inputs_labels(df):\n",
    "    inputs = []\n",
    "    labels = []\n",
    "    for idx, row in train_data.iterrows():\n",
    "        input_text = row['Review']\n",
    "        inputs.append(input_text)\n",
    "        labels.append(1 if row['Sentiment'] == 'positive' else 0)\n",
    "    return inputs, labels\n"
   ]
  },
  {
   "cell_type": "code",
   "execution_count": 9,
   "id": "36e84017-3c95-4195-a64e-872de86aa27d",
   "metadata": {
    "id": "36e84017-3c95-4195-a64e-872de86aa27d"
   },
   "outputs": [],
   "source": [
    "tokenizer = BertTokenizer.from_pretrained(\"bert-base-uncased\")\n",
    "inputs, labels = get_inputs_labels(train_data)\n",
    "dataset = TextDataset(inputs, labels, tokenizer, 512)\n",
    "baseline_dataloader = DataLoader(dataset, batch_size=64, shuffle=True)\n",
    "dataloader = DataLoader(dataset, batch_size=128, shuffle=True)"
   ]
  },
  {
   "cell_type": "markdown",
   "id": "1e409f98-0c84-4f7b-8700-0e736b1201f0",
   "metadata": {
    "id": "3efd9030-e3ac-4c20-92b5-a82df8b63a4b"
   },
   "source": [
    "## Baseline Model"
   ]
  },
  {
   "cell_type": "code",
   "execution_count": 10,
   "id": "9DhDookCV4cA",
   "metadata": {
    "id": "9DhDookCV4cA"
   },
   "outputs": [],
   "source": [
    "def get_baseline_model():\n",
    "  gpu_available = torch.cuda.is_available()\n",
    "  model = BertForSequenceClassification.from_pretrained('bert-base-uncased', num_labels=2)\n",
    "  if gpu_available:\n",
    "    return model.to(torch.device(\"cuda\"))\n",
    "  return model"
   ]
  },
  {
   "cell_type": "code",
   "execution_count": 11,
   "id": "85f05cf6-0511-4f27-90fc-207b5e4678ef",
   "metadata": {
    "colab": {
     "base_uri": "https://localhost:8080/",
     "height": 402
    },
    "id": "85f05cf6-0511-4f27-90fc-207b5e4678ef",
    "outputId": "1e14c547-ac57-4d56-91d2-b461c92745c8"
   },
   "outputs": [
    {
     "name": "stderr",
     "output_type": "stream",
     "text": [
      "Some weights of BertForSequenceClassification were not initialized from the model checkpoint at bert-base-uncased and are newly initialized: ['classifier.bias', 'classifier.weight']\n",
      "You should probably TRAIN this model on a down-stream task to be able to use it for predictions and inference.\n"
     ]
    },
    {
     "data": {
      "text/plain": [
       "=====================================================================================\n",
       "Layer (type:depth-idx)                                       Param #\n",
       "=====================================================================================\n",
       "BertForSequenceClassification                                --\n",
       "├─BertModel: 1-1                                             --\n",
       "│    └─BertEmbeddings: 2-1                                   --\n",
       "│    │    └─Embedding: 3-1                                   23,440,896\n",
       "│    │    └─Embedding: 3-2                                   393,216\n",
       "│    │    └─Embedding: 3-3                                   1,536\n",
       "│    │    └─LayerNorm: 3-4                                   1,536\n",
       "│    │    └─Dropout: 3-5                                     --\n",
       "│    └─BertEncoder: 2-2                                      --\n",
       "│    │    └─ModuleList: 3-6                                  85,054,464\n",
       "│    └─BertPooler: 2-3                                       --\n",
       "│    │    └─Linear: 3-7                                      590,592\n",
       "│    │    └─Tanh: 3-8                                        --\n",
       "├─Dropout: 1-2                                               --\n",
       "├─Linear: 1-3                                                1,538\n",
       "=====================================================================================\n",
       "Total params: 109,483,778\n",
       "Trainable params: 109,483,778\n",
       "Non-trainable params: 0\n",
       "====================================================================================="
      ]
     },
     "execution_count": 11,
     "metadata": {},
     "output_type": "execute_result"
    }
   ],
   "source": [
    "baseline_model = get_baseline_model()\n",
    "summary(baseline_model)"
   ]
  },
  {
   "cell_type": "code",
   "execution_count": 12,
   "id": "d0f61be6-17ee-42cd-ab37-024e26f63319",
   "metadata": {
    "id": "d0f61be6-17ee-42cd-ab37-024e26f63319"
   },
   "outputs": [],
   "source": [
    "def baseline_predict(model, df):\n",
    "    model.eval()\n",
    "    predictions = []\n",
    "    labels = []\n",
    "    gpu_available = torch.cuda.is_available()\n",
    "    with torch.no_grad():\n",
    "        for idx, row in df.iterrows():\n",
    "            input_text = row['Review']\n",
    "            encoding = tokenizer(input_text, add_special_tokens=True, max_length = 512, padding='max_length', truncation=True, return_tensors='pt')\n",
    "            if gpu_available:\n",
    "              input_ids = encoding['input_ids'].cuda()\n",
    "              attention_mask = encoding['attention_mask'].cuda()\n",
    "              output = model(encoding['input_ids'].cuda(), encoding['attention_mask'].cuda())\n",
    "            else:\n",
    "              input_ids = encoding['input_ids']\n",
    "              attention_mask = encoding['attention_mask']\n",
    "              output = model(encoding['input_ids'], encoding['attention_mask'])\n",
    "\n",
    "            _, prediction = torch.max(output.logits, dim=1)\n",
    "            predictions.append(prediction.item())\n",
    "            labels.append(convert_lbl_to_int(row['Sentiment']))\n",
    "\n",
    "    return predictions, labels"
   ]
  },
  {
   "cell_type": "code",
   "execution_count": 13,
   "id": "e4c66e63-b9e7-4753-be27-8bfb06b7a8ef",
   "metadata": {},
   "outputs": [],
   "source": [
    "def baseline_score_model(model, train_df, test_df):\n",
    "    train_f1 = None\n",
    "    test_f1 = None\n",
    "\n",
    "    if train_df is not None:\n",
    "        train_predictions, train_labels = baseline_predict(model, train_df)\n",
    "        train_f1 = f1_score(train_labels, train_predictions, average='micro')\n",
    "\n",
    "    if test_df is not None:\n",
    "        test_predictions, test_labels = baseline_predict(model, test_df)\n",
    "        test_f1 = f1_score(test_labels, test_predictions, average='micro')\n",
    "\n",
    "    return train_f1, test_f1\n"
   ]
  },
  {
   "cell_type": "code",
   "execution_count": 14,
   "id": "4aeb1632-512f-4260-8563-ab3334a81598",
   "metadata": {},
   "outputs": [],
   "source": [
    "def baseline_train_test(model, epochs, dataloader, train_df, test_df, learning_rate = 1e-3, calc_train_f1 = True):\n",
    "    device = torch.device('cuda' if torch.cuda.is_available() else 'cpu')\n",
    "    model.to(device)\n",
    "    optimizer = torch.optim.Adam(model.parameters(), lr=learning_rate)\n",
    "    i = 0\n",
    "\n",
    "    for epoch in range(epochs):\n",
    "        model.train()\n",
    "        for batch in dataloader:\n",
    "            input_ids = batch['input_ids'].to(device)\n",
    "            attention_mask = batch['attention_mask'].to(device)\n",
    "            labels = batch['label'].to(device)\n",
    "    \n",
    "            optimizer.zero_grad()\n",
    "            outputs = model(input_ids, attention_mask=attention_mask, labels=labels)\n",
    "            loss = outputs.loss\n",
    "            loss.backward()\n",
    "            optimizer.step()\n",
    "\n",
    "            i += 1\n",
    "            if i % 10 == 0:\n",
    "                print(loss)\n",
    "            \n",
    "        if calc_train_f1:\n",
    "          train_f1, _ = baseline_score_model(model, train_df, None)\n",
    "          print(\"Epoch: \" + str(epoch) + \" F1: \" + str(train_f1) + \" LOSS: \" + str(loss))\n",
    "    _, test_f1 = baseline_score_model(model, None, test_df)\n",
    "    print(\"TEST F1: \" + str(test_f1))"
   ]
  },
  {
   "cell_type": "code",
   "execution_count": null,
   "id": "457fa9ca-fabb-45f3-b0e5-bc1220889ced",
   "metadata": {},
   "outputs": [
    {
     "name": "stdout",
     "output_type": "stream",
     "text": [
      "tensor(0.3674, device='cuda:0', grad_fn=<NllLossBackward0>)\n",
      "tensor(0.2621, device='cuda:0', grad_fn=<NllLossBackward0>)\n"
     ]
    }
   ],
   "source": [
    "baseline_train_test(baseline_model, 1, baseline_dataloader, train_data, test_data, learning_rate = 1e-4)"
   ]
  },
  {
   "cell_type": "markdown",
   "id": "89b6d9a2-b1cc-438c-bdf2-7cddba7ce1a7",
   "metadata": {
    "id": "89b6d9a2-b1cc-438c-bdf2-7cddba7ce1a7"
   },
   "source": [
    "## Model Utilities"
   ]
  },
  {
   "cell_type": "code",
   "execution_count": null,
   "id": "b2c1841c-c43a-4c0f-b3b4-53dd00dfe03b",
   "metadata": {},
   "outputs": [],
   "source": [
    "def predict(model, df):\n",
    "    model.eval()\n",
    "    predictions = []\n",
    "    labels = []\n",
    "    gpu_available = torch.cuda.is_available()\n",
    "    with torch.no_grad():\n",
    "        for idx, row in df.iterrows():\n",
    "            input_text = row['Review']\n",
    "            encoding = tokenizer(input_text, add_special_tokens=True, max_length = 512, padding='max_length', truncation=True, return_tensors='pt')\n",
    "            if gpu_available:\n",
    "              input_ids = encoding['input_ids'].cuda()\n",
    "              attention_mask = encoding['attention_mask'].cuda()\n",
    "              prediction = model(encoding['input_ids'].cuda(), encoding['attention_mask'].cuda())\n",
    "            else:\n",
    "              input_ids = encoding['input_ids']\n",
    "              attention_mask = encoding['attention_mask']\n",
    "              prediction = model(encoding['input_ids'], encoding['attention_mask'])\n",
    "            predictions.append(1 if prediction > 0.5 else 0)\n",
    "            labels.append(convert_lbl_to_int(row['Sentiment']))\n",
    "\n",
    "    return predictions, labels"
   ]
  },
  {
   "cell_type": "code",
   "execution_count": null,
   "id": "4a5efe86-2b04-46a7-ab66-42f87ece50fd",
   "metadata": {},
   "outputs": [],
   "source": [
    "def score_model(model, train_df, test_df):\n",
    "    train_f1 = None\n",
    "    test_f1 = None\n",
    "\n",
    "    if train_df is not None:\n",
    "        train_predictions, train_labels = predict(model, train_df)\n",
    "        train_f1 = f1_score(train_labels, train_predictions, average='micro')\n",
    "\n",
    "    if test_df is not None:\n",
    "        test_predictions, test_labels = predict(model, test_df)\n",
    "        test_f1 = f1_score(test_labels, test_predictions, average='micro')\n",
    "\n",
    "    return train_f1, test_f1"
   ]
  },
  {
   "cell_type": "code",
   "execution_count": null,
   "id": "f5806160-3f99-48fd-83e0-ca8f7b0136a1",
   "metadata": {},
   "outputs": [],
   "source": [
    "def train_model(model, epochs, dataloader, train_df, learning_rate = 1e-3, calc_train_f1 = True):\n",
    "    criterion = nn.BCELoss() ## If required define your own criterion\n",
    "    optimizer = torch.optim.Adam(filter(lambda p: p.requires_grad, model.parameters()), lr = learning_rate)\n",
    "    gpu_available = torch.cuda.is_available()\n",
    "\n",
    "    for epoch in range(epochs):\n",
    "        i = 0\n",
    "        for batch in dataloader:\n",
    "            targets = np.array(batch['label'])\n",
    "            targets = torch.tensor(np.expand_dims(targets,axis=1)).float()\n",
    "            optimizer.zero_grad()\n",
    "            input_ids = batch['input_ids']\n",
    "            attention_mask = batch['attention_mask']\n",
    "\n",
    "            if gpu_available:\n",
    "              targets = targets.cuda()\n",
    "              input_ids = input_ids.cuda()\n",
    "              attention_mask = attention_mask.cuda()\n",
    "\n",
    "            outputs = model(input_ids, attention_mask)\n",
    "            loss = criterion(outputs, targets)\n",
    "            loss.backward()\n",
    "            if i % 20 == 0:\n",
    "              print(loss)\n",
    "            optimizer.step()\n",
    "            i += 1\n",
    "\n",
    "        if calc_train_f1:\n",
    "          train_f1, _ = score_model(model, train_df, None)\n",
    "          print(\"Epoch: \" + str(epoch) + \" F1: \" + str(train_f1) + \" LOSS: \" + str(loss))"
   ]
  },
  {
   "cell_type": "markdown",
   "id": "231decaf-42bb-4661-b972-f7e55972e72a",
   "metadata": {},
   "source": [
    "## Probe Models"
   ]
  },
  {
   "cell_type": "code",
   "execution_count": null,
   "id": "hs9tJr6xUte3",
   "metadata": {
    "id": "hs9tJr6xUte3"
   },
   "outputs": [],
   "source": [
    "class CustomBERTModel(nn.Module):\n",
    "    def __init__(self, n, randomized=False, linear_1 = None, linear_2 = None, requires_grad = False):\n",
    "        super(CustomBERTModel, self).__init__()\n",
    "        if randomized:\n",
    "          config = BertConfig()\n",
    "          self.bert = BertModel(config).to(torch.device(\"cuda\"))\n",
    "        else:\n",
    "          self.bert=  BertModel.from_pretrained(\"bert-base-uncased\")\n",
    "            \n",
    "        self.bert.encoder.layer = nn.ModuleList(self.bert.encoder.layer[:n])\n",
    "\n",
    "        if randomized:\n",
    "            # Reinitialize weights for each layer in the encoder\n",
    "            for layer in self.bert.encoder.layer:\n",
    "                for module in layer.modules():\n",
    "                  for mod in module.modules():\n",
    "                      if isinstance(mod, (nn.Linear, nn.Conv2d)):\n",
    "                          nn.init.xavier_uniform_(mod.weight)\n",
    "                          if mod.bias is not None:\n",
    "                              nn.init.zeros_(mod.bias)\n",
    "                      elif isinstance(mod, nn.LayerNorm):\n",
    "                          nn.init.ones_(mod.weight)\n",
    "                          nn.init.zeros_(mod.bias)\n",
    "\n",
    "        for param in self.bert.parameters():\n",
    "            param.requires_grad = requires_grad\n",
    "            \n",
    "        self.dropout = nn.Dropout(0.5)\n",
    "\n",
    "        ### New layers:\n",
    "\n",
    "        if linear_1 is not None:\n",
    "          self.linear_1 = linear_1\n",
    "        else:\n",
    "          self.linear_1 = nn.Linear(768, 256)\n",
    "\n",
    "        if linear_2 is not None:\n",
    "          self.linear_2 = linear_2\n",
    "        else:\n",
    "          self.linear_2 = nn.Linear(256, 1)\n",
    "\n",
    "        self.sigmoid = nn.Sigmoid()\n",
    "\n",
    "    def forward(self, ids, mask):\n",
    "        output = self.bert(input_ids=ids, attention_mask=mask, output_hidden_states=True)\n",
    "        linear1_output = self.linear_1(self.dropout(output.last_hidden_state[:,0,:]))\n",
    "        linear2_output = self.linear_2(self.dropout(linear1_output))\n",
    "        sigmoid_output = self.sigmoid(linear2_output)\n",
    "        return sigmoid_output\n"
   ]
  },
  {
   "cell_type": "code",
   "execution_count": null,
   "id": "6a62027a-0f6f-4059-a36d-51ef161bfdc8",
   "metadata": {
    "id": "6a62027a-0f6f-4059-a36d-51ef161bfdc8"
   },
   "outputs": [],
   "source": [
    "def get_custom_bert_model(num_bert_layers, randomized_weights = False, linear_1 = None, linear_2 = None, requires_grad = False):\n",
    "  gpu_available = torch.cuda.is_available()\n",
    "  model = CustomBERTModel(num_bert_layers, randomized_weights, linear_1, linear_2, requires_grad)\n",
    "  if gpu_available:\n",
    "    return model.to(torch.device(\"cuda\"))\n",
    "  return model"
   ]
  },
  {
   "cell_type": "markdown",
   "id": "7f5ad1dc-2c21-47d3-ba7e-123507e86311",
   "metadata": {},
   "source": [
    "## Baseline interpretability "
   ]
  },
  {
   "cell_type": "code",
   "execution_count": null,
   "id": "3c3e9cee-6067-4933-ab0a-2a8de05ccc0b",
   "metadata": {
    "id": "3c3e9cee-6067-4933-ab0a-2a8de05ccc0b"
   },
   "outputs": [],
   "source": [
    "baseline_model = get_custom_bert_model(2, True)"
   ]
  },
  {
   "cell_type": "code",
   "execution_count": null,
   "id": "_Qf2h0cuD_gl",
   "metadata": {
    "colab": {
     "base_uri": "https://localhost:8080/"
    },
    "id": "_Qf2h0cuD_gl",
    "outputId": "186adb11-0064-4efa-e85f-e754e9870c11"
   },
   "outputs": [],
   "source": [
    "def baseline_interpretability(dataloader, train_df, test_df, min_n = 1, max_n = 12):\n",
    "    probe_model_12 = get_custom_bert_model(12)\n",
    "    train_model(probe_model_12, 10, dataloader, train_df, 1e-4)\n",
    "    linear_1 = probe_model_12.linear_1\n",
    "    linear_2 = probe_model_12.linear_2\n",
    "\n",
    "    for n in range(min_n, max_n + 1):\n",
    "        print(\"N: \" + str(n))\n",
    "        model = get_custom_bert_model(n, False, linear_1, linear_2)\n",
    "        train_f1, test_f1 = score_model(model, train_df, test_df)\n",
    "        print(\"TRAIN F1: \" + str(train_f1) + \" TEST F1: \" + str(test_f1))\n",
    "    "
   ]
  },
  {
   "cell_type": "code",
   "execution_count": null,
   "id": "ZuLuCEEqWxpF",
   "metadata": {
    "id": "ZuLuCEEqWxpF"
   },
   "outputs": [],
   "source": [
    "baseline_interpretability(dataloader, train_data, test_data)"
   ]
  },
  {
   "cell_type": "markdown",
   "id": "8beafcd8-33ca-4e3f-97e2-40908cf882a7",
   "metadata": {},
   "source": [
    "## Baseline Interpretability - Randomized weights"
   ]
  },
  {
   "cell_type": "code",
   "execution_count": null,
   "id": "485XykGLie_x",
   "metadata": {
    "id": "485XykGLie_x"
   },
   "outputs": [],
   "source": [
    "def score_all_randomized_models(dataloader, train_df, test_df, epochs, max_n, learning_rate = 1e-3):\n",
    "    model_scores = []\n",
    "    for n in range(1,max_n + 1):\n",
    "        print(\"N: \" + str(n))\n",
    "        model = get_custom_bert_model(n, True)\n",
    "        train_model(model, epochs, dataloader, train_df, learning_rate)\n",
    "        _, test_f1 = score_model(model, None, test_df)\n",
    "        print(\"TEST F1: \" + str(test_f1))\n",
    "        model_scores.append([n, test_f1])\n",
    "\n",
    "    return model_scores"
   ]
  },
  {
   "cell_type": "code",
   "execution_count": null,
   "id": "L53zFoGWaT0q",
   "metadata": {
    "id": "L53zFoGWaT0q"
   },
   "outputs": [],
   "source": [
    "model_scores = score_all_randomized_models(dataloader, train_data, test_data, 10, 12)"
   ]
  },
  {
   "cell_type": "markdown",
   "id": "6ac4d158-0061-4a79-84bb-9d6c4266743c",
   "metadata": {},
   "source": [
    "## Probes"
   ]
  },
  {
   "cell_type": "code",
   "execution_count": null,
   "id": "qVWM7p9W7FkT",
   "metadata": {
    "id": "qVWM7p9W7FkT"
   },
   "outputs": [],
   "source": [
    "def score_all_probe_models(dataloader, train_df, test_df, epochs, min_n, max_n, learning_rate = 1e-4):\n",
    "    model_scores = []\n",
    "    for n in range(min_n,max_n + 1):\n",
    "        print(\"N: \" + str(n))\n",
    "        model = get_custom_bert_model(n)\n",
    "        train_model(model, epochs, dataloader, train_df, learning_rate)\n",
    "        _, test_f1 = score_model(model, None, test_df)\n",
    "        print(\"TEST F1: \" + str(test_f1))\n",
    "        model_scores.append([n, test_f1])\n",
    "\n",
    "    return model_scores"
   ]
  },
  {
   "cell_type": "code",
   "execution_count": null,
   "id": "151ed761-27be-4990-942f-841d0b741037",
   "metadata": {
    "id": "151ed761-27be-4990-942f-841d0b741037"
   },
   "outputs": [],
   "source": [
    "score_all_probe_models(dataloader, train_data, test_data, 10, 1, 11, 1e-3)"
   ]
  },
  {
   "cell_type": "markdown",
   "id": "d9f666ce-db3e-4d89-be8d-ba46465b8303",
   "metadata": {
    "id": "6a39bd50-3426-4627-8071-f22a47a73545"
   },
   "source": [
    "## Scalar Mixing Weights"
   ]
  },
  {
   "cell_type": "code",
   "execution_count": null,
   "id": "ZGn4ZHtQ3Xum",
   "metadata": {
    "colab": {
     "base_uri": "https://localhost:8080/"
    },
    "id": "ZGn4ZHtQ3Xum",
    "outputId": "c1383764-3f57-4eb5-c2bf-61f327f715c7"
   },
   "outputs": [],
   "source": [
    "class ScalarMixingWeightModel(nn.Module):\n",
    "    def __init__(self, n, i):\n",
    "        super(ScalarMixingWeightModel, self).__init__()\n",
    "\n",
    "        self.bert= BertModel.from_pretrained(\"bert-base-uncased\")\n",
    "        self.bert.encoder.layer = nn.ModuleList(self.bert.encoder.layer[:n])\n",
    "        self.n = n\n",
    "        self.layer_weights = nn.Parameter(torch.ones(self.n))\n",
    "        self.softmax = nn.Softmax(dim=0)\n",
    "        self.i = i\n",
    "\n",
    "        self.gamma = nn.Parameter(torch.ones(1))\n",
    "        self.dropout = nn.Dropout(0.5)\n",
    "\n",
    "        for param in self.bert.parameters():\n",
    "            param.requires_grad = False\n",
    "\n",
    "        ### New layers:\n",
    "        if self.i == 1:\n",
    "          self.linear1 = nn.Linear(768, 1)\n",
    "        elif self.i == 2:\n",
    "          self.linear1 = nn.Linear(768, 384)\n",
    "          self.linear2 = nn.Linear(384, 1)\n",
    "        elif self.i == 3:\n",
    "          self.linear1 = nn.Linear(768, 384)\n",
    "          self.linear2 = nn.Linear(384, 192)\n",
    "          self.linear3 = nn.Linear(192, 1)\n",
    "        elif self.i == 4:\n",
    "          self.linear1 = nn.Linear(768, 384)\n",
    "          self.linear2 = nn.Linear(384, 192)\n",
    "          self.linear3 = nn.Linear(192, 96)\n",
    "          self.linear4 = nn.Linear(96, 1)\n",
    "\n",
    "        self.sigmoid = nn.Sigmoid()\n",
    "\n",
    "    def forward(self, ids, mask):\n",
    "        outputs = self.bert(input_ids=ids, attention_mask=mask, output_hidden_states=True)\n",
    "\n",
    "        hidden_states = outputs.hidden_states[1:1 + self.n]\n",
    "\n",
    "        normalized_weights = self.softmax(self.layer_weights)\n",
    "        scalar_mixing_weight = self.gamma * sum(normalized_weights[i] * hidden_states[i] for i in range(self.n))\n",
    "\n",
    "        if self.i == 1:\n",
    "          linear1_output = self.dropout(self.linear1(scalar_mixing_weight[:, 0, :]))\n",
    "          sigmoid_output = self.sigmoid(linear1_output)\n",
    "        elif self.i == 2:\n",
    "          linear1_output = self.linear1(scalar_mixing_weight[:, 0, :])\n",
    "          linear2_output = self.linear2(self.dropout(linear1_output))\n",
    "          sigmoid_output = self.sigmoid(linear2_output)\n",
    "        elif self.i == 3:\n",
    "          linear1_output = self.linear1(scalar_mixing_weight[:, 0, :])\n",
    "          linear2_output = self.linear2(self.dropout(linear1_output))\n",
    "          linear3_output = self.linear3(self.dropout(linear2_output))\n",
    "          sigmoid_output = self.sigmoid(linear3_output)\n",
    "        elif self.i == 4:\n",
    "          linear1_output = self.linear1(scalar_mixing_weight[:, 0, :])\n",
    "          linear2_output = self.linear2(self.dropout(linear1_output))\n",
    "          linear3_output = self.linear3(self.dropout(linear2_output))\n",
    "          linear4_output = self.linear4(self.dropout(linear3_output))\n",
    "          sigmoid_output = self.sigmoid(linear4_output)\n",
    "\n",
    "        return sigmoid_output\n"
   ]
  },
  {
   "cell_type": "code",
   "execution_count": null,
   "id": "q9hGOXhcfrs4",
   "metadata": {
    "id": "q9hGOXhcfrs4"
   },
   "outputs": [],
   "source": [
    "def get_scalar_mixing_model(num_bert_layers, i):\n",
    "  gpu_available = torch.cuda.is_available()\n",
    "  model = ScalarMixingWeightModel(num_bert_layers, i)\n",
    "\n",
    "  if gpu_available:\n",
    "    return model.to(torch.device(\"cuda\"))\n",
    "\n",
    "  return model"
   ]
  },
  {
   "cell_type": "code",
   "execution_count": null,
   "id": "AcswQWUFrPEW",
   "metadata": {
    "colab": {
     "base_uri": "https://localhost:8080/"
    },
    "id": "AcswQWUFrPEW",
    "outputId": "b663958a-4480-4bd5-a153-8cfb0391fe16"
   },
   "outputs": [],
   "source": [
    "weights = {}\n",
    "for i in range(11,13):\n",
    "  test_scalar = get_scalar_mixing_model(i,1)\n",
    "  train_model(test_scalar, 10, dataloader, train_data, learning_rate = 0.1)\n",
    "  print(i, \":\", test_scalar.layer_weights)\n",
    "  weights[i] = test_scalar.layer_weights"
   ]
  },
  {
   "cell_type": "code",
   "execution_count": null,
   "id": "QLqEBas5Af88",
   "metadata": {
    "colab": {
     "base_uri": "https://localhost:8080/"
    },
    "id": "QLqEBas5Af88",
    "outputId": "d3a20986-b09b-4c71-d501-9a00eb1f4b29"
   },
   "outputs": [],
   "source": [
    "lrs = [0.1, 0.01, 0.001, 0.0001]\n",
    "for lr in lrs:\n",
    "  for i in range(1,5):\n",
    "    test_scalar = get_scalar_mixing_model(2, i)\n",
    "    train_model(test_scalar, 10, dataloader, train_data, learning_rate = lr)\n",
    "    print(\"Learning rate:\", lr, \"Number of layers\", i)"
   ]
  },
  {
   "cell_type": "markdown",
   "id": "34c85c8b-87c3-4365-8620-ecfa438dd0d6",
   "metadata": {
    "id": "q8q83o7zBZly"
   },
   "source": [
    "## Final Model"
   ]
  },
  {
   "cell_type": "code",
   "execution_count": null,
   "id": "2a1949ee-a200-460d-a868-68e3a313b19e",
   "metadata": {
    "colab": {
     "base_uri": "https://localhost:8080/"
    },
    "id": "2a1949ee-a200-460d-a868-68e3a313b19e",
    "outputId": "4b81d52e-b215-464a-9338-c830113ac827"
   },
   "outputs": [],
   "source": [
    "class FinalModel(nn.Module):\n",
    "    def __init__(self):\n",
    "        super(FinalModel, self).__init__()\n",
    "        self.bert =  BertModel.from_pretrained(\"bert-base-uncased\")\n",
    "        self.bert.encoder.layer = nn.ModuleList(self.bert.encoder.layer[:6])\n",
    "        \n",
    "        self.dropout = nn.Dropout(0.5)\n",
    "        self.relu = nn.ReLU()\n",
    "        ### New layers:\n",
    "        self.linear_1 = nn.Linear(768, 256)\n",
    "        self.linear_2 = nn.Linear(256, 1)\n",
    "\n",
    "        self.sigmoid = nn.Sigmoid()\n",
    "\n",
    "    def forward(self, ids, mask):\n",
    "        output = self.bert(input_ids=ids, attention_mask=mask, output_hidden_states=True)\n",
    "\n",
    "        linear1_output = self.linear_1(self.dropout(output[1]))\n",
    "        linear1_output = self.relu(linear1_output)\n",
    "        linear2_output = self.linear_2(self.dropout(linear1_output))\n",
    "        sigmoid_output = self.sigmoid(linear2_output)\n",
    "        return sigmoid_output\n"
   ]
  },
  {
   "cell_type": "code",
   "execution_count": null,
   "id": "5bb3b666-1ec1-41f8-b58f-ae6d265b533a",
   "metadata": {
    "id": "5bb3b666-1ec1-41f8-b58f-ae6d265b533a"
   },
   "outputs": [],
   "source": [
    "def get_final_model():\n",
    "  gpu_available = torch.cuda.is_available()\n",
    "  model = FinalModel()\n",
    "  if gpu_available:\n",
    "    return model.to(torch.device(\"cuda\"))\n",
    "  return model"
   ]
  },
  {
   "cell_type": "code",
   "execution_count": null,
   "id": "Ltfx0_XMzxeh",
   "metadata": {
    "id": "Ltfx0_XMzxeh"
   },
   "outputs": [],
   "source": [
    "import torch.nn as nn\n",
    "import torch\n",
    "from transformers import AutoTokenizer, BertModel\n",
    "import pandas as pd\n",
    "\n",
    "class ScalarMixingWeightModel(nn.Module):\n",
    "    def __init__(self, n, i):\n",
    "        super(ScalarMixingWeightModel, self).__init__()\n",
    "\n",
    "        self.bert= BertModel.from_pretrained(\"bert-base-uncased\")\n",
    "        self.bert.encoder.layer = nn.ModuleList(self.bert.encoder.layer[:n])\n",
    "        self.n = n\n",
    "        self.layer_weights = nn.Parameter(torch.ones(self.n))\n",
    "        self.softmax = nn.Softmax(dim=0)\n",
    "        self.i = i\n",
    "\n",
    "        self.gamma = nn.Parameter(torch.ones(1))\n",
    "        self.dropout = nn.Dropout(0.5)\n",
    "\n",
    "        for param in self.bert.parameters():\n",
    "            param.requires_grad = False\n",
    "\n",
    "        ### New layers:\n",
    "        if self.i == 1:\n",
    "          self.linear1 = nn.Linear(768, 1)\n",
    "        elif self.i == 2:\n",
    "          self.linear1 = nn.Linear(768, 384)\n",
    "          self.linear2 = nn.Linear(384, 1)\n",
    "        elif self.i == 3:\n",
    "          self.linear1 = nn.Linear(768, 384)\n",
    "          self.linear2 = nn.Linear(384, 192)\n",
    "          self.linear3 = nn.Linear(192, 1)\n",
    "        elif self.i == 4:\n",
    "          self.linear1 = nn.Linear(768, 384)\n",
    "          self.linear2 = nn.Linear(384, 192)\n",
    "          self.linear3 = nn.Linear(192, 96)\n",
    "          self.linear4 = nn.Linear(96, 1)\n",
    "\n",
    "        self.sigmoid = nn.Sigmoid()\n",
    "\n",
    "    def forward(self, ids, mask):\n",
    "        outputs = self.bert(input_ids=ids, attention_mask=mask, output_hidden_states=True)\n",
    "\n",
    "        hidden_states = outputs.hidden_states[1:1 + self.n]\n",
    "\n",
    "        normalized_weights = self.softmax(self.layer_weights)\n",
    "        scalar_mixing_weight = self.gamma * sum(normalized_weights[i] * hidden_states[i] for i in range(self.n))\n",
    "\n",
    "        if self.i == 1:\n",
    "          linear1_output = self.dropout(self.linear1(scalar_mixing_weight[:, 0, :]))\n",
    "          sigmoid_output = self.sigmoid(linear1_output)\n",
    "        elif self.i == 2:\n",
    "          linear1_output = self.linear1(scalar_mixing_weight[:, 0, :])\n",
    "          linear2_output = self.linear2(self.dropout(linear1_output))\n",
    "          sigmoid_output = self.sigmoid(linear2_output)\n",
    "        elif self.i == 3:\n",
    "          linear1_output = self.linear1(scalar_mixing_weight[:, 0, :])\n",
    "          linear2_output = self.linear2(self.dropout(linear1_output))\n",
    "          linear3_output = self.linear3(self.dropout(linear2_output))\n",
    "          sigmoid_output = self.sigmoid(linear3_output)\n",
    "        elif self.i == 4:\n",
    "          linear1_output = self.linear1(scalar_mixing_weight[:, 0, :])\n",
    "          linear2_output = self.linear2(self.dropout(linear1_output))\n",
    "          linear3_output = self.linear3(self.dropout(linear2_output))\n",
    "          linear4_output = self.linear4(self.dropout(linear3_output))\n",
    "          sigmoid_output = self.sigmoid(linear4_output)\n",
    "\n",
    "        return sigmoid_output\n"
   ]
  },
  {
   "cell_type": "code",
   "execution_count": null,
   "id": "lGp5exkZ17M_",
   "metadata": {
    "id": "lGp5exkZ17M_"
   },
   "outputs": [],
   "source": [
    "def get_scalar_mixing_model(num_bert_layers, i):\n",
    "  gpu_available = torch.cuda.is_available()\n",
    "  model = ScalarMixingWeightModel(num_bert_layers, i)\n",
    "\n",
    "  if gpu_available:\n",
    "    return model.to(torch.device(\"cuda\"))\n",
    "\n",
    "  return model"
   ]
  },
  {
   "cell_type": "code",
   "execution_count": null,
   "id": "uhSJ9GBk1__M",
   "metadata": {
    "colab": {
     "base_uri": "https://localhost:8080/"
    },
    "id": "uhSJ9GBk1__M",
    "outputId": "d9185a23-1f07-480b-deba-051d21cd7a3f"
   },
   "outputs": [],
   "source": [
    "weights = {}\n",
    "for i in range(12,13):\n",
    "  test_scalar = get_scalar_mixing_model(i,1)\n",
    "  train_model(test_scalar, 10, dataloader, train_data, learning_rate = 0.1)\n",
    "  print(i, \":\", test_scalar.layer_weights)\n",
    "  weights[i] = test_scalar.layer_weights"
   ]
  },
  {
   "cell_type": "code",
   "execution_count": null,
   "id": "GsEo-F0ghfj8",
   "metadata": {
    "colab": {
     "base_uri": "https://localhost:8080/"
    },
    "id": "GsEo-F0ghfj8",
    "outputId": "d2ba4cea-9109-49e9-b76e-e43b8ad87fd5"
   },
   "outputs": [],
   "source": [
    "lrs = [0.1, 0.01, 0.001, 0.0001]\n",
    "for lr in lrs:\n",
    "  for i in range(1,5):\n",
    "    test_scalar = get_scalar_mixing_model(2, i)\n",
    "    train_model(test_scalar, 10, dataloader, train_data, learning_rate = lr)\n",
    "    print(\"Learning rate:\", lr, \"Number of layers\", i)"
   ]
  },
  {
   "cell_type": "markdown",
   "id": "40f8f63b-329d-4066-b72b-2354e3efc9e2",
   "metadata": {
    "id": "40f8f63b-329d-4066-b72b-2354e3efc9e2"
   },
   "source": [
    "## Analysis"
   ]
  },
  {
   "cell_type": "code",
   "execution_count": null,
   "id": "2c1b985c-3ce7-41f2-90cb-a4a8059794d6",
   "metadata": {
    "id": "2c1b985c-3ce7-41f2-90cb-a4a8059794d6",
    "outputId": "94e5ebe3-9b8b-4fbe-fb8b-718d9d38212d"
   },
   "outputs": [],
   "source": [
    "summary(baseline_model)"
   ]
  },
  {
   "cell_type": "code",
   "execution_count": null,
   "id": "0c58c62b-6c11-4810-bd52-b3d58aa7f853",
   "metadata": {
    "id": "0c58c62b-6c11-4810-bd52-b3d58aa7f853",
    "outputId": "30c9add2-5227-4935-942a-1a5d847cac67"
   },
   "outputs": [],
   "source": [
    "summary( get_custom_bert_model(10))"
   ]
  },
  {
   "cell_type": "code",
   "execution_count": null,
   "id": "d27350ee-fca8-4e35-bfd2-3614e3df7e0e",
   "metadata": {
    "id": "d27350ee-fca8-4e35-bfd2-3614e3df7e0e"
   },
   "outputs": [],
   "source": []
  }
 ],
 "metadata": {
  "accelerator": "GPU",
  "colab": {
   "gpuType": "T4",
   "provenance": []
  },
  "kernelspec": {
   "display_name": "Python 3 (ipykernel)",
   "language": "python",
   "name": "python3"
  },
  "language_info": {
   "codemirror_mode": {
    "name": "ipython",
    "version": 3
   },
   "file_extension": ".py",
   "mimetype": "text/x-python",
   "name": "python",
   "nbconvert_exporter": "python",
   "pygments_lexer": "ipython3",
   "version": "3.11.2"
  },
  "widgets": {
   "application/vnd.jupyter.widget-state+json": {
    "04d3af5cb32740b7b6e3d4eb3e64f9fa": {
     "model_module": "@jupyter-widgets/controls",
     "model_module_version": "1.5.0",
     "model_name": "DescriptionStyleModel",
     "state": {
      "_model_module": "@jupyter-widgets/controls",
      "_model_module_version": "1.5.0",
      "_model_name": "DescriptionStyleModel",
      "_view_count": null,
      "_view_module": "@jupyter-widgets/base",
      "_view_module_version": "1.2.0",
      "_view_name": "StyleView",
      "description_width": ""
     }
    },
    "0b03169a08334b42ba0faabfc4e1788a": {
     "model_module": "@jupyter-widgets/controls",
     "model_module_version": "1.5.0",
     "model_name": "HTMLModel",
     "state": {
      "_dom_classes": [],
      "_model_module": "@jupyter-widgets/controls",
      "_model_module_version": "1.5.0",
      "_model_name": "HTMLModel",
      "_view_count": null,
      "_view_module": "@jupyter-widgets/controls",
      "_view_module_version": "1.5.0",
      "_view_name": "HTMLView",
      "description": "",
      "description_tooltip": null,
      "layout": "IPY_MODEL_fc546c1f05e5456091587903ede5ee34",
      "placeholder": "​",
      "style": "IPY_MODEL_6153c69fe93d4621b0762cd538f1d9bc",
      "value": " 570/570 [00:00&lt;00:00, 5.27kB/s]"
     }
    },
    "0d8f80487e244e34973a7277a76fa84c": {
     "model_module": "@jupyter-widgets/controls",
     "model_module_version": "1.5.0",
     "model_name": "HTMLModel",
     "state": {
      "_dom_classes": [],
      "_model_module": "@jupyter-widgets/controls",
      "_model_module_version": "1.5.0",
      "_model_name": "HTMLModel",
      "_view_count": null,
      "_view_module": "@jupyter-widgets/controls",
      "_view_module_version": "1.5.0",
      "_view_name": "HTMLView",
      "description": "",
      "description_tooltip": null,
      "layout": "IPY_MODEL_2fec4aa75d574dff99ad471d44a1f026",
      "placeholder": "​",
      "style": "IPY_MODEL_d200a1f539944c25a09b6687773b9e13",
      "value": "config.json: 100%"
     }
    },
    "0f9fb3289d2b46d984d78bbf4840333c": {
     "model_module": "@jupyter-widgets/controls",
     "model_module_version": "1.5.0",
     "model_name": "HBoxModel",
     "state": {
      "_dom_classes": [],
      "_model_module": "@jupyter-widgets/controls",
      "_model_module_version": "1.5.0",
      "_model_name": "HBoxModel",
      "_view_count": null,
      "_view_module": "@jupyter-widgets/controls",
      "_view_module_version": "1.5.0",
      "_view_name": "HBoxView",
      "box_style": "",
      "children": [
       "IPY_MODEL_43dc7aed2c6d48aa87567b14db9800e8",
       "IPY_MODEL_6fd658a282a84394a5c57cd904dac2cb",
       "IPY_MODEL_ab7dec18a21146b1bc6f8d608ccbc8b2"
      ],
      "layout": "IPY_MODEL_7d2d2853d5754cfdbfc5958e8f93bd55"
     }
    },
    "132537527d7245b884343a724ad49c69": {
     "model_module": "@jupyter-widgets/controls",
     "model_module_version": "1.5.0",
     "model_name": "FloatProgressModel",
     "state": {
      "_dom_classes": [],
      "_model_module": "@jupyter-widgets/controls",
      "_model_module_version": "1.5.0",
      "_model_name": "FloatProgressModel",
      "_view_count": null,
      "_view_module": "@jupyter-widgets/controls",
      "_view_module_version": "1.5.0",
      "_view_name": "ProgressView",
      "bar_style": "success",
      "description": "",
      "description_tooltip": null,
      "layout": "IPY_MODEL_569c9b9ec24d4a90bdcd024df49af985",
      "max": 231508,
      "min": 0,
      "orientation": "horizontal",
      "style": "IPY_MODEL_9eaff47ccf144e4987ba2fd4a5a946a7",
      "value": 231508
     }
    },
    "17a045610272481fb0240283bf7e570d": {
     "model_module": "@jupyter-widgets/controls",
     "model_module_version": "1.5.0",
     "model_name": "HBoxModel",
     "state": {
      "_dom_classes": [],
      "_model_module": "@jupyter-widgets/controls",
      "_model_module_version": "1.5.0",
      "_model_name": "HBoxModel",
      "_view_count": null,
      "_view_module": "@jupyter-widgets/controls",
      "_view_module_version": "1.5.0",
      "_view_name": "HBoxView",
      "box_style": "",
      "children": [
       "IPY_MODEL_810dc92e12d14a9a8399578f51bba260",
       "IPY_MODEL_132537527d7245b884343a724ad49c69",
       "IPY_MODEL_f02dc5515dbe44e58a124e3910290b95"
      ],
      "layout": "IPY_MODEL_1ca7180c5ce94646952d3d1a1dff5079"
     }
    },
    "1ca7180c5ce94646952d3d1a1dff5079": {
     "model_module": "@jupyter-widgets/base",
     "model_module_version": "1.2.0",
     "model_name": "LayoutModel",
     "state": {
      "_model_module": "@jupyter-widgets/base",
      "_model_module_version": "1.2.0",
      "_model_name": "LayoutModel",
      "_view_count": null,
      "_view_module": "@jupyter-widgets/base",
      "_view_module_version": "1.2.0",
      "_view_name": "LayoutView",
      "align_content": null,
      "align_items": null,
      "align_self": null,
      "border": null,
      "bottom": null,
      "display": null,
      "flex": null,
      "flex_flow": null,
      "grid_area": null,
      "grid_auto_columns": null,
      "grid_auto_flow": null,
      "grid_auto_rows": null,
      "grid_column": null,
      "grid_gap": null,
      "grid_row": null,
      "grid_template_areas": null,
      "grid_template_columns": null,
      "grid_template_rows": null,
      "height": null,
      "justify_content": null,
      "justify_items": null,
      "left": null,
      "margin": null,
      "max_height": null,
      "max_width": null,
      "min_height": null,
      "min_width": null,
      "object_fit": null,
      "object_position": null,
      "order": null,
      "overflow": null,
      "overflow_x": null,
      "overflow_y": null,
      "padding": null,
      "right": null,
      "top": null,
      "visibility": null,
      "width": null
     }
    },
    "1cf065cc26ee4d4bbec398d9da191c61": {
     "model_module": "@jupyter-widgets/controls",
     "model_module_version": "1.5.0",
     "model_name": "HTMLModel",
     "state": {
      "_dom_classes": [],
      "_model_module": "@jupyter-widgets/controls",
      "_model_module_version": "1.5.0",
      "_model_name": "HTMLModel",
      "_view_count": null,
      "_view_module": "@jupyter-widgets/controls",
      "_view_module_version": "1.5.0",
      "_view_name": "HTMLView",
      "description": "",
      "description_tooltip": null,
      "layout": "IPY_MODEL_2fb1c703cebd4f769543be9356f8978f",
      "placeholder": "​",
      "style": "IPY_MODEL_87c191c6a6a045ee9deef87390083954",
      "value": " 48.0/48.0 [00:00&lt;00:00, 1.80kB/s]"
     }
    },
    "1dfd903bcde34aa58e3693e9c0d601ec": {
     "model_module": "@jupyter-widgets/base",
     "model_module_version": "1.2.0",
     "model_name": "LayoutModel",
     "state": {
      "_model_module": "@jupyter-widgets/base",
      "_model_module_version": "1.2.0",
      "_model_name": "LayoutModel",
      "_view_count": null,
      "_view_module": "@jupyter-widgets/base",
      "_view_module_version": "1.2.0",
      "_view_name": "LayoutView",
      "align_content": null,
      "align_items": null,
      "align_self": null,
      "border": null,
      "bottom": null,
      "display": null,
      "flex": null,
      "flex_flow": null,
      "grid_area": null,
      "grid_auto_columns": null,
      "grid_auto_flow": null,
      "grid_auto_rows": null,
      "grid_column": null,
      "grid_gap": null,
      "grid_row": null,
      "grid_template_areas": null,
      "grid_template_columns": null,
      "grid_template_rows": null,
      "height": null,
      "justify_content": null,
      "justify_items": null,
      "left": null,
      "margin": null,
      "max_height": null,
      "max_width": null,
      "min_height": null,
      "min_width": null,
      "object_fit": null,
      "object_position": null,
      "order": null,
      "overflow": null,
      "overflow_x": null,
      "overflow_y": null,
      "padding": null,
      "right": null,
      "top": null,
      "visibility": null,
      "width": null
     }
    },
    "2125b7ba262847beb78269fbab59d807": {
     "model_module": "@jupyter-widgets/controls",
     "model_module_version": "1.5.0",
     "model_name": "DescriptionStyleModel",
     "state": {
      "_model_module": "@jupyter-widgets/controls",
      "_model_module_version": "1.5.0",
      "_model_name": "DescriptionStyleModel",
      "_view_count": null,
      "_view_module": "@jupyter-widgets/base",
      "_view_module_version": "1.2.0",
      "_view_name": "StyleView",
      "description_width": ""
     }
    },
    "26db57945c1c4ba8adbc0d397409ecca": {
     "model_module": "@jupyter-widgets/controls",
     "model_module_version": "1.5.0",
     "model_name": "HTMLModel",
     "state": {
      "_dom_classes": [],
      "_model_module": "@jupyter-widgets/controls",
      "_model_module_version": "1.5.0",
      "_model_name": "HTMLModel",
      "_view_count": null,
      "_view_module": "@jupyter-widgets/controls",
      "_view_module_version": "1.5.0",
      "_view_name": "HTMLView",
      "description": "",
      "description_tooltip": null,
      "layout": "IPY_MODEL_4f9911c8bf6a4145b5dbd511d57c0258",
      "placeholder": "​",
      "style": "IPY_MODEL_ebd1a5396ec74419a4a74b93ff7e4f98",
      "value": "tokenizer_config.json: 100%"
     }
    },
    "2fb1c703cebd4f769543be9356f8978f": {
     "model_module": "@jupyter-widgets/base",
     "model_module_version": "1.2.0",
     "model_name": "LayoutModel",
     "state": {
      "_model_module": "@jupyter-widgets/base",
      "_model_module_version": "1.2.0",
      "_model_name": "LayoutModel",
      "_view_count": null,
      "_view_module": "@jupyter-widgets/base",
      "_view_module_version": "1.2.0",
      "_view_name": "LayoutView",
      "align_content": null,
      "align_items": null,
      "align_self": null,
      "border": null,
      "bottom": null,
      "display": null,
      "flex": null,
      "flex_flow": null,
      "grid_area": null,
      "grid_auto_columns": null,
      "grid_auto_flow": null,
      "grid_auto_rows": null,
      "grid_column": null,
      "grid_gap": null,
      "grid_row": null,
      "grid_template_areas": null,
      "grid_template_columns": null,
      "grid_template_rows": null,
      "height": null,
      "justify_content": null,
      "justify_items": null,
      "left": null,
      "margin": null,
      "max_height": null,
      "max_width": null,
      "min_height": null,
      "min_width": null,
      "object_fit": null,
      "object_position": null,
      "order": null,
      "overflow": null,
      "overflow_x": null,
      "overflow_y": null,
      "padding": null,
      "right": null,
      "top": null,
      "visibility": null,
      "width": null
     }
    },
    "2fec4aa75d574dff99ad471d44a1f026": {
     "model_module": "@jupyter-widgets/base",
     "model_module_version": "1.2.0",
     "model_name": "LayoutModel",
     "state": {
      "_model_module": "@jupyter-widgets/base",
      "_model_module_version": "1.2.0",
      "_model_name": "LayoutModel",
      "_view_count": null,
      "_view_module": "@jupyter-widgets/base",
      "_view_module_version": "1.2.0",
      "_view_name": "LayoutView",
      "align_content": null,
      "align_items": null,
      "align_self": null,
      "border": null,
      "bottom": null,
      "display": null,
      "flex": null,
      "flex_flow": null,
      "grid_area": null,
      "grid_auto_columns": null,
      "grid_auto_flow": null,
      "grid_auto_rows": null,
      "grid_column": null,
      "grid_gap": null,
      "grid_row": null,
      "grid_template_areas": null,
      "grid_template_columns": null,
      "grid_template_rows": null,
      "height": null,
      "justify_content": null,
      "justify_items": null,
      "left": null,
      "margin": null,
      "max_height": null,
      "max_width": null,
      "min_height": null,
      "min_width": null,
      "object_fit": null,
      "object_position": null,
      "order": null,
      "overflow": null,
      "overflow_x": null,
      "overflow_y": null,
      "padding": null,
      "right": null,
      "top": null,
      "visibility": null,
      "width": null
     }
    },
    "307fa19c980e4843a685d0882cc1499d": {
     "model_module": "@jupyter-widgets/controls",
     "model_module_version": "1.5.0",
     "model_name": "DescriptionStyleModel",
     "state": {
      "_model_module": "@jupyter-widgets/controls",
      "_model_module_version": "1.5.0",
      "_model_name": "DescriptionStyleModel",
      "_view_count": null,
      "_view_module": "@jupyter-widgets/base",
      "_view_module_version": "1.2.0",
      "_view_name": "StyleView",
      "description_width": ""
     }
    },
    "38fd204428254c609671dd1422037bdf": {
     "model_module": "@jupyter-widgets/controls",
     "model_module_version": "1.5.0",
     "model_name": "HTMLModel",
     "state": {
      "_dom_classes": [],
      "_model_module": "@jupyter-widgets/controls",
      "_model_module_version": "1.5.0",
      "_model_name": "HTMLModel",
      "_view_count": null,
      "_view_module": "@jupyter-widgets/controls",
      "_view_module_version": "1.5.0",
      "_view_name": "HTMLView",
      "description": "",
      "description_tooltip": null,
      "layout": "IPY_MODEL_6c21c1a3e98f458fa234ca77a3e143f8",
      "placeholder": "​",
      "style": "IPY_MODEL_2125b7ba262847beb78269fbab59d807",
      "value": " 466k/466k [00:00&lt;00:00, 8.56MB/s]"
     }
    },
    "3daea2f3157649ffbc5fb6352a443e1e": {
     "model_module": "@jupyter-widgets/base",
     "model_module_version": "1.2.0",
     "model_name": "LayoutModel",
     "state": {
      "_model_module": "@jupyter-widgets/base",
      "_model_module_version": "1.2.0",
      "_model_name": "LayoutModel",
      "_view_count": null,
      "_view_module": "@jupyter-widgets/base",
      "_view_module_version": "1.2.0",
      "_view_name": "LayoutView",
      "align_content": null,
      "align_items": null,
      "align_self": null,
      "border": null,
      "bottom": null,
      "display": null,
      "flex": null,
      "flex_flow": null,
      "grid_area": null,
      "grid_auto_columns": null,
      "grid_auto_flow": null,
      "grid_auto_rows": null,
      "grid_column": null,
      "grid_gap": null,
      "grid_row": null,
      "grid_template_areas": null,
      "grid_template_columns": null,
      "grid_template_rows": null,
      "height": null,
      "justify_content": null,
      "justify_items": null,
      "left": null,
      "margin": null,
      "max_height": null,
      "max_width": null,
      "min_height": null,
      "min_width": null,
      "object_fit": null,
      "object_position": null,
      "order": null,
      "overflow": null,
      "overflow_x": null,
      "overflow_y": null,
      "padding": null,
      "right": null,
      "top": null,
      "visibility": null,
      "width": null
     }
    },
    "43dc7aed2c6d48aa87567b14db9800e8": {
     "model_module": "@jupyter-widgets/controls",
     "model_module_version": "1.5.0",
     "model_name": "HTMLModel",
     "state": {
      "_dom_classes": [],
      "_model_module": "@jupyter-widgets/controls",
      "_model_module_version": "1.5.0",
      "_model_name": "HTMLModel",
      "_view_count": null,
      "_view_module": "@jupyter-widgets/controls",
      "_view_module_version": "1.5.0",
      "_view_name": "HTMLView",
      "description": "",
      "description_tooltip": null,
      "layout": "IPY_MODEL_bfba79af3c8e4a1388d7158e776060fd",
      "placeholder": "​",
      "style": "IPY_MODEL_307fa19c980e4843a685d0882cc1499d",
      "value": "model.safetensors: 100%"
     }
    },
    "440e232b382f456587540e812d0cc1e8": {
     "model_module": "@jupyter-widgets/controls",
     "model_module_version": "1.5.0",
     "model_name": "ProgressStyleModel",
     "state": {
      "_model_module": "@jupyter-widgets/controls",
      "_model_module_version": "1.5.0",
      "_model_name": "ProgressStyleModel",
      "_view_count": null,
      "_view_module": "@jupyter-widgets/base",
      "_view_module_version": "1.2.0",
      "_view_name": "StyleView",
      "bar_color": null,
      "description_width": ""
     }
    },
    "47ce46e41422457698aaf8b060cc0c06": {
     "model_module": "@jupyter-widgets/controls",
     "model_module_version": "1.5.0",
     "model_name": "ProgressStyleModel",
     "state": {
      "_model_module": "@jupyter-widgets/controls",
      "_model_module_version": "1.5.0",
      "_model_name": "ProgressStyleModel",
      "_view_count": null,
      "_view_module": "@jupyter-widgets/base",
      "_view_module_version": "1.2.0",
      "_view_name": "StyleView",
      "bar_color": null,
      "description_width": ""
     }
    },
    "4a5ff22b8f724ae4bcdf5b74fedc26c9": {
     "model_module": "@jupyter-widgets/controls",
     "model_module_version": "1.5.0",
     "model_name": "ProgressStyleModel",
     "state": {
      "_model_module": "@jupyter-widgets/controls",
      "_model_module_version": "1.5.0",
      "_model_name": "ProgressStyleModel",
      "_view_count": null,
      "_view_module": "@jupyter-widgets/base",
      "_view_module_version": "1.2.0",
      "_view_name": "StyleView",
      "bar_color": null,
      "description_width": ""
     }
    },
    "4f9911c8bf6a4145b5dbd511d57c0258": {
     "model_module": "@jupyter-widgets/base",
     "model_module_version": "1.2.0",
     "model_name": "LayoutModel",
     "state": {
      "_model_module": "@jupyter-widgets/base",
      "_model_module_version": "1.2.0",
      "_model_name": "LayoutModel",
      "_view_count": null,
      "_view_module": "@jupyter-widgets/base",
      "_view_module_version": "1.2.0",
      "_view_name": "LayoutView",
      "align_content": null,
      "align_items": null,
      "align_self": null,
      "border": null,
      "bottom": null,
      "display": null,
      "flex": null,
      "flex_flow": null,
      "grid_area": null,
      "grid_auto_columns": null,
      "grid_auto_flow": null,
      "grid_auto_rows": null,
      "grid_column": null,
      "grid_gap": null,
      "grid_row": null,
      "grid_template_areas": null,
      "grid_template_columns": null,
      "grid_template_rows": null,
      "height": null,
      "justify_content": null,
      "justify_items": null,
      "left": null,
      "margin": null,
      "max_height": null,
      "max_width": null,
      "min_height": null,
      "min_width": null,
      "object_fit": null,
      "object_position": null,
      "order": null,
      "overflow": null,
      "overflow_x": null,
      "overflow_y": null,
      "padding": null,
      "right": null,
      "top": null,
      "visibility": null,
      "width": null
     }
    },
    "4fffe7551f1e40e28bb4682aa702df64": {
     "model_module": "@jupyter-widgets/base",
     "model_module_version": "1.2.0",
     "model_name": "LayoutModel",
     "state": {
      "_model_module": "@jupyter-widgets/base",
      "_model_module_version": "1.2.0",
      "_model_name": "LayoutModel",
      "_view_count": null,
      "_view_module": "@jupyter-widgets/base",
      "_view_module_version": "1.2.0",
      "_view_name": "LayoutView",
      "align_content": null,
      "align_items": null,
      "align_self": null,
      "border": null,
      "bottom": null,
      "display": null,
      "flex": null,
      "flex_flow": null,
      "grid_area": null,
      "grid_auto_columns": null,
      "grid_auto_flow": null,
      "grid_auto_rows": null,
      "grid_column": null,
      "grid_gap": null,
      "grid_row": null,
      "grid_template_areas": null,
      "grid_template_columns": null,
      "grid_template_rows": null,
      "height": null,
      "justify_content": null,
      "justify_items": null,
      "left": null,
      "margin": null,
      "max_height": null,
      "max_width": null,
      "min_height": null,
      "min_width": null,
      "object_fit": null,
      "object_position": null,
      "order": null,
      "overflow": null,
      "overflow_x": null,
      "overflow_y": null,
      "padding": null,
      "right": null,
      "top": null,
      "visibility": null,
      "width": null
     }
    },
    "569c9b9ec24d4a90bdcd024df49af985": {
     "model_module": "@jupyter-widgets/base",
     "model_module_version": "1.2.0",
     "model_name": "LayoutModel",
     "state": {
      "_model_module": "@jupyter-widgets/base",
      "_model_module_version": "1.2.0",
      "_model_name": "LayoutModel",
      "_view_count": null,
      "_view_module": "@jupyter-widgets/base",
      "_view_module_version": "1.2.0",
      "_view_name": "LayoutView",
      "align_content": null,
      "align_items": null,
      "align_self": null,
      "border": null,
      "bottom": null,
      "display": null,
      "flex": null,
      "flex_flow": null,
      "grid_area": null,
      "grid_auto_columns": null,
      "grid_auto_flow": null,
      "grid_auto_rows": null,
      "grid_column": null,
      "grid_gap": null,
      "grid_row": null,
      "grid_template_areas": null,
      "grid_template_columns": null,
      "grid_template_rows": null,
      "height": null,
      "justify_content": null,
      "justify_items": null,
      "left": null,
      "margin": null,
      "max_height": null,
      "max_width": null,
      "min_height": null,
      "min_width": null,
      "object_fit": null,
      "object_position": null,
      "order": null,
      "overflow": null,
      "overflow_x": null,
      "overflow_y": null,
      "padding": null,
      "right": null,
      "top": null,
      "visibility": null,
      "width": null
     }
    },
    "6153c69fe93d4621b0762cd538f1d9bc": {
     "model_module": "@jupyter-widgets/controls",
     "model_module_version": "1.5.0",
     "model_name": "DescriptionStyleModel",
     "state": {
      "_model_module": "@jupyter-widgets/controls",
      "_model_module_version": "1.5.0",
      "_model_name": "DescriptionStyleModel",
      "_view_count": null,
      "_view_module": "@jupyter-widgets/base",
      "_view_module_version": "1.2.0",
      "_view_name": "StyleView",
      "description_width": ""
     }
    },
    "61edd6575d2c40a0802a67b7b2ff9e4b": {
     "model_module": "@jupyter-widgets/controls",
     "model_module_version": "1.5.0",
     "model_name": "ProgressStyleModel",
     "state": {
      "_model_module": "@jupyter-widgets/controls",
      "_model_module_version": "1.5.0",
      "_model_name": "ProgressStyleModel",
      "_view_count": null,
      "_view_module": "@jupyter-widgets/base",
      "_view_module_version": "1.2.0",
      "_view_name": "StyleView",
      "bar_color": null,
      "description_width": ""
     }
    },
    "677fa7f8ee4c48569450d93dd18e2692": {
     "model_module": "@jupyter-widgets/controls",
     "model_module_version": "1.5.0",
     "model_name": "FloatProgressModel",
     "state": {
      "_dom_classes": [],
      "_model_module": "@jupyter-widgets/controls",
      "_model_module_version": "1.5.0",
      "_model_name": "FloatProgressModel",
      "_view_count": null,
      "_view_module": "@jupyter-widgets/controls",
      "_view_module_version": "1.5.0",
      "_view_name": "ProgressView",
      "bar_style": "success",
      "description": "",
      "description_tooltip": null,
      "layout": "IPY_MODEL_e746f9bab8e6484193ece0f8d431660e",
      "max": 48,
      "min": 0,
      "orientation": "horizontal",
      "style": "IPY_MODEL_440e232b382f456587540e812d0cc1e8",
      "value": 48
     }
    },
    "6c21c1a3e98f458fa234ca77a3e143f8": {
     "model_module": "@jupyter-widgets/base",
     "model_module_version": "1.2.0",
     "model_name": "LayoutModel",
     "state": {
      "_model_module": "@jupyter-widgets/base",
      "_model_module_version": "1.2.0",
      "_model_name": "LayoutModel",
      "_view_count": null,
      "_view_module": "@jupyter-widgets/base",
      "_view_module_version": "1.2.0",
      "_view_name": "LayoutView",
      "align_content": null,
      "align_items": null,
      "align_self": null,
      "border": null,
      "bottom": null,
      "display": null,
      "flex": null,
      "flex_flow": null,
      "grid_area": null,
      "grid_auto_columns": null,
      "grid_auto_flow": null,
      "grid_auto_rows": null,
      "grid_column": null,
      "grid_gap": null,
      "grid_row": null,
      "grid_template_areas": null,
      "grid_template_columns": null,
      "grid_template_rows": null,
      "height": null,
      "justify_content": null,
      "justify_items": null,
      "left": null,
      "margin": null,
      "max_height": null,
      "max_width": null,
      "min_height": null,
      "min_width": null,
      "object_fit": null,
      "object_position": null,
      "order": null,
      "overflow": null,
      "overflow_x": null,
      "overflow_y": null,
      "padding": null,
      "right": null,
      "top": null,
      "visibility": null,
      "width": null
     }
    },
    "6fd658a282a84394a5c57cd904dac2cb": {
     "model_module": "@jupyter-widgets/controls",
     "model_module_version": "1.5.0",
     "model_name": "FloatProgressModel",
     "state": {
      "_dom_classes": [],
      "_model_module": "@jupyter-widgets/controls",
      "_model_module_version": "1.5.0",
      "_model_name": "FloatProgressModel",
      "_view_count": null,
      "_view_module": "@jupyter-widgets/controls",
      "_view_module_version": "1.5.0",
      "_view_name": "ProgressView",
      "bar_style": "success",
      "description": "",
      "description_tooltip": null,
      "layout": "IPY_MODEL_7aaaeca490e744d79c8e50f320e16220",
      "max": 440449768,
      "min": 0,
      "orientation": "horizontal",
      "style": "IPY_MODEL_47ce46e41422457698aaf8b060cc0c06",
      "value": 440449768
     }
    },
    "7aaaeca490e744d79c8e50f320e16220": {
     "model_module": "@jupyter-widgets/base",
     "model_module_version": "1.2.0",
     "model_name": "LayoutModel",
     "state": {
      "_model_module": "@jupyter-widgets/base",
      "_model_module_version": "1.2.0",
      "_model_name": "LayoutModel",
      "_view_count": null,
      "_view_module": "@jupyter-widgets/base",
      "_view_module_version": "1.2.0",
      "_view_name": "LayoutView",
      "align_content": null,
      "align_items": null,
      "align_self": null,
      "border": null,
      "bottom": null,
      "display": null,
      "flex": null,
      "flex_flow": null,
      "grid_area": null,
      "grid_auto_columns": null,
      "grid_auto_flow": null,
      "grid_auto_rows": null,
      "grid_column": null,
      "grid_gap": null,
      "grid_row": null,
      "grid_template_areas": null,
      "grid_template_columns": null,
      "grid_template_rows": null,
      "height": null,
      "justify_content": null,
      "justify_items": null,
      "left": null,
      "margin": null,
      "max_height": null,
      "max_width": null,
      "min_height": null,
      "min_width": null,
      "object_fit": null,
      "object_position": null,
      "order": null,
      "overflow": null,
      "overflow_x": null,
      "overflow_y": null,
      "padding": null,
      "right": null,
      "top": null,
      "visibility": null,
      "width": null
     }
    },
    "7d2d2853d5754cfdbfc5958e8f93bd55": {
     "model_module": "@jupyter-widgets/base",
     "model_module_version": "1.2.0",
     "model_name": "LayoutModel",
     "state": {
      "_model_module": "@jupyter-widgets/base",
      "_model_module_version": "1.2.0",
      "_model_name": "LayoutModel",
      "_view_count": null,
      "_view_module": "@jupyter-widgets/base",
      "_view_module_version": "1.2.0",
      "_view_name": "LayoutView",
      "align_content": null,
      "align_items": null,
      "align_self": null,
      "border": null,
      "bottom": null,
      "display": null,
      "flex": null,
      "flex_flow": null,
      "grid_area": null,
      "grid_auto_columns": null,
      "grid_auto_flow": null,
      "grid_auto_rows": null,
      "grid_column": null,
      "grid_gap": null,
      "grid_row": null,
      "grid_template_areas": null,
      "grid_template_columns": null,
      "grid_template_rows": null,
      "height": null,
      "justify_content": null,
      "justify_items": null,
      "left": null,
      "margin": null,
      "max_height": null,
      "max_width": null,
      "min_height": null,
      "min_width": null,
      "object_fit": null,
      "object_position": null,
      "order": null,
      "overflow": null,
      "overflow_x": null,
      "overflow_y": null,
      "padding": null,
      "right": null,
      "top": null,
      "visibility": null,
      "width": null
     }
    },
    "810dc92e12d14a9a8399578f51bba260": {
     "model_module": "@jupyter-widgets/controls",
     "model_module_version": "1.5.0",
     "model_name": "HTMLModel",
     "state": {
      "_dom_classes": [],
      "_model_module": "@jupyter-widgets/controls",
      "_model_module_version": "1.5.0",
      "_model_name": "HTMLModel",
      "_view_count": null,
      "_view_module": "@jupyter-widgets/controls",
      "_view_module_version": "1.5.0",
      "_view_name": "HTMLView",
      "description": "",
      "description_tooltip": null,
      "layout": "IPY_MODEL_9b9ebfed15254f1aacc686cf5d678334",
      "placeholder": "​",
      "style": "IPY_MODEL_8404f9c129d54c1581b0135fbf1c0099",
      "value": "vocab.txt: 100%"
     }
    },
    "82f0a1d8502841e8a6d453fe0601b419": {
     "model_module": "@jupyter-widgets/controls",
     "model_module_version": "1.5.0",
     "model_name": "DescriptionStyleModel",
     "state": {
      "_model_module": "@jupyter-widgets/controls",
      "_model_module_version": "1.5.0",
      "_model_name": "DescriptionStyleModel",
      "_view_count": null,
      "_view_module": "@jupyter-widgets/base",
      "_view_module_version": "1.2.0",
      "_view_name": "StyleView",
      "description_width": ""
     }
    },
    "8404f9c129d54c1581b0135fbf1c0099": {
     "model_module": "@jupyter-widgets/controls",
     "model_module_version": "1.5.0",
     "model_name": "DescriptionStyleModel",
     "state": {
      "_model_module": "@jupyter-widgets/controls",
      "_model_module_version": "1.5.0",
      "_model_name": "DescriptionStyleModel",
      "_view_count": null,
      "_view_module": "@jupyter-widgets/base",
      "_view_module_version": "1.2.0",
      "_view_name": "StyleView",
      "description_width": ""
     }
    },
    "85dff2268762428ea8c5c66ed84c02de": {
     "model_module": "@jupyter-widgets/controls",
     "model_module_version": "1.5.0",
     "model_name": "HBoxModel",
     "state": {
      "_dom_classes": [],
      "_model_module": "@jupyter-widgets/controls",
      "_model_module_version": "1.5.0",
      "_model_name": "HBoxModel",
      "_view_count": null,
      "_view_module": "@jupyter-widgets/controls",
      "_view_module_version": "1.5.0",
      "_view_name": "HBoxView",
      "box_style": "",
      "children": [
       "IPY_MODEL_f63515fba5424c79a1549c1f14e41a9d",
       "IPY_MODEL_d239ec8ed6ae473fbaead8e0dc3edde3",
       "IPY_MODEL_38fd204428254c609671dd1422037bdf"
      ],
      "layout": "IPY_MODEL_3daea2f3157649ffbc5fb6352a443e1e"
     }
    },
    "86eb1a8901aa4844918266ba956fff9b": {
     "model_module": "@jupyter-widgets/controls",
     "model_module_version": "1.5.0",
     "model_name": "DescriptionStyleModel",
     "state": {
      "_model_module": "@jupyter-widgets/controls",
      "_model_module_version": "1.5.0",
      "_model_name": "DescriptionStyleModel",
      "_view_count": null,
      "_view_module": "@jupyter-widgets/base",
      "_view_module_version": "1.2.0",
      "_view_name": "StyleView",
      "description_width": ""
     }
    },
    "87c191c6a6a045ee9deef87390083954": {
     "model_module": "@jupyter-widgets/controls",
     "model_module_version": "1.5.0",
     "model_name": "DescriptionStyleModel",
     "state": {
      "_model_module": "@jupyter-widgets/controls",
      "_model_module_version": "1.5.0",
      "_model_name": "DescriptionStyleModel",
      "_view_count": null,
      "_view_module": "@jupyter-widgets/base",
      "_view_module_version": "1.2.0",
      "_view_name": "StyleView",
      "description_width": ""
     }
    },
    "9a39665c405c4f1a91fa53e1d15012c9": {
     "model_module": "@jupyter-widgets/controls",
     "model_module_version": "1.5.0",
     "model_name": "HBoxModel",
     "state": {
      "_dom_classes": [],
      "_model_module": "@jupyter-widgets/controls",
      "_model_module_version": "1.5.0",
      "_model_name": "HBoxModel",
      "_view_count": null,
      "_view_module": "@jupyter-widgets/controls",
      "_view_module_version": "1.5.0",
      "_view_name": "HBoxView",
      "box_style": "",
      "children": [
       "IPY_MODEL_26db57945c1c4ba8adbc0d397409ecca",
       "IPY_MODEL_677fa7f8ee4c48569450d93dd18e2692",
       "IPY_MODEL_1cf065cc26ee4d4bbec398d9da191c61"
      ],
      "layout": "IPY_MODEL_1dfd903bcde34aa58e3693e9c0d601ec"
     }
    },
    "9b9ebfed15254f1aacc686cf5d678334": {
     "model_module": "@jupyter-widgets/base",
     "model_module_version": "1.2.0",
     "model_name": "LayoutModel",
     "state": {
      "_model_module": "@jupyter-widgets/base",
      "_model_module_version": "1.2.0",
      "_model_name": "LayoutModel",
      "_view_count": null,
      "_view_module": "@jupyter-widgets/base",
      "_view_module_version": "1.2.0",
      "_view_name": "LayoutView",
      "align_content": null,
      "align_items": null,
      "align_self": null,
      "border": null,
      "bottom": null,
      "display": null,
      "flex": null,
      "flex_flow": null,
      "grid_area": null,
      "grid_auto_columns": null,
      "grid_auto_flow": null,
      "grid_auto_rows": null,
      "grid_column": null,
      "grid_gap": null,
      "grid_row": null,
      "grid_template_areas": null,
      "grid_template_columns": null,
      "grid_template_rows": null,
      "height": null,
      "justify_content": null,
      "justify_items": null,
      "left": null,
      "margin": null,
      "max_height": null,
      "max_width": null,
      "min_height": null,
      "min_width": null,
      "object_fit": null,
      "object_position": null,
      "order": null,
      "overflow": null,
      "overflow_x": null,
      "overflow_y": null,
      "padding": null,
      "right": null,
      "top": null,
      "visibility": null,
      "width": null
     }
    },
    "9eaff47ccf144e4987ba2fd4a5a946a7": {
     "model_module": "@jupyter-widgets/controls",
     "model_module_version": "1.5.0",
     "model_name": "ProgressStyleModel",
     "state": {
      "_model_module": "@jupyter-widgets/controls",
      "_model_module_version": "1.5.0",
      "_model_name": "ProgressStyleModel",
      "_view_count": null,
      "_view_module": "@jupyter-widgets/base",
      "_view_module_version": "1.2.0",
      "_view_name": "StyleView",
      "bar_color": null,
      "description_width": ""
     }
    },
    "a3d510a9fcf34a16a3215a0b6e8b2d2f": {
     "model_module": "@jupyter-widgets/base",
     "model_module_version": "1.2.0",
     "model_name": "LayoutModel",
     "state": {
      "_model_module": "@jupyter-widgets/base",
      "_model_module_version": "1.2.0",
      "_model_name": "LayoutModel",
      "_view_count": null,
      "_view_module": "@jupyter-widgets/base",
      "_view_module_version": "1.2.0",
      "_view_name": "LayoutView",
      "align_content": null,
      "align_items": null,
      "align_self": null,
      "border": null,
      "bottom": null,
      "display": null,
      "flex": null,
      "flex_flow": null,
      "grid_area": null,
      "grid_auto_columns": null,
      "grid_auto_flow": null,
      "grid_auto_rows": null,
      "grid_column": null,
      "grid_gap": null,
      "grid_row": null,
      "grid_template_areas": null,
      "grid_template_columns": null,
      "grid_template_rows": null,
      "height": null,
      "justify_content": null,
      "justify_items": null,
      "left": null,
      "margin": null,
      "max_height": null,
      "max_width": null,
      "min_height": null,
      "min_width": null,
      "object_fit": null,
      "object_position": null,
      "order": null,
      "overflow": null,
      "overflow_x": null,
      "overflow_y": null,
      "padding": null,
      "right": null,
      "top": null,
      "visibility": null,
      "width": null
     }
    },
    "ab7dec18a21146b1bc6f8d608ccbc8b2": {
     "model_module": "@jupyter-widgets/controls",
     "model_module_version": "1.5.0",
     "model_name": "HTMLModel",
     "state": {
      "_dom_classes": [],
      "_model_module": "@jupyter-widgets/controls",
      "_model_module_version": "1.5.0",
      "_model_name": "HTMLModel",
      "_view_count": null,
      "_view_module": "@jupyter-widgets/controls",
      "_view_module_version": "1.5.0",
      "_view_name": "HTMLView",
      "description": "",
      "description_tooltip": null,
      "layout": "IPY_MODEL_b43985336c8c4097b6617f3bd08e84ed",
      "placeholder": "​",
      "style": "IPY_MODEL_04d3af5cb32740b7b6e3d4eb3e64f9fa",
      "value": " 440M/440M [00:05&lt;00:00, 109MB/s]"
     }
    },
    "aee9590e58a0474d9dfd2a0169b5621d": {
     "model_module": "@jupyter-widgets/base",
     "model_module_version": "1.2.0",
     "model_name": "LayoutModel",
     "state": {
      "_model_module": "@jupyter-widgets/base",
      "_model_module_version": "1.2.0",
      "_model_name": "LayoutModel",
      "_view_count": null,
      "_view_module": "@jupyter-widgets/base",
      "_view_module_version": "1.2.0",
      "_view_name": "LayoutView",
      "align_content": null,
      "align_items": null,
      "align_self": null,
      "border": null,
      "bottom": null,
      "display": null,
      "flex": null,
      "flex_flow": null,
      "grid_area": null,
      "grid_auto_columns": null,
      "grid_auto_flow": null,
      "grid_auto_rows": null,
      "grid_column": null,
      "grid_gap": null,
      "grid_row": null,
      "grid_template_areas": null,
      "grid_template_columns": null,
      "grid_template_rows": null,
      "height": null,
      "justify_content": null,
      "justify_items": null,
      "left": null,
      "margin": null,
      "max_height": null,
      "max_width": null,
      "min_height": null,
      "min_width": null,
      "object_fit": null,
      "object_position": null,
      "order": null,
      "overflow": null,
      "overflow_x": null,
      "overflow_y": null,
      "padding": null,
      "right": null,
      "top": null,
      "visibility": null,
      "width": null
     }
    },
    "b43985336c8c4097b6617f3bd08e84ed": {
     "model_module": "@jupyter-widgets/base",
     "model_module_version": "1.2.0",
     "model_name": "LayoutModel",
     "state": {
      "_model_module": "@jupyter-widgets/base",
      "_model_module_version": "1.2.0",
      "_model_name": "LayoutModel",
      "_view_count": null,
      "_view_module": "@jupyter-widgets/base",
      "_view_module_version": "1.2.0",
      "_view_name": "LayoutView",
      "align_content": null,
      "align_items": null,
      "align_self": null,
      "border": null,
      "bottom": null,
      "display": null,
      "flex": null,
      "flex_flow": null,
      "grid_area": null,
      "grid_auto_columns": null,
      "grid_auto_flow": null,
      "grid_auto_rows": null,
      "grid_column": null,
      "grid_gap": null,
      "grid_row": null,
      "grid_template_areas": null,
      "grid_template_columns": null,
      "grid_template_rows": null,
      "height": null,
      "justify_content": null,
      "justify_items": null,
      "left": null,
      "margin": null,
      "max_height": null,
      "max_width": null,
      "min_height": null,
      "min_width": null,
      "object_fit": null,
      "object_position": null,
      "order": null,
      "overflow": null,
      "overflow_x": null,
      "overflow_y": null,
      "padding": null,
      "right": null,
      "top": null,
      "visibility": null,
      "width": null
     }
    },
    "bfba79af3c8e4a1388d7158e776060fd": {
     "model_module": "@jupyter-widgets/base",
     "model_module_version": "1.2.0",
     "model_name": "LayoutModel",
     "state": {
      "_model_module": "@jupyter-widgets/base",
      "_model_module_version": "1.2.0",
      "_model_name": "LayoutModel",
      "_view_count": null,
      "_view_module": "@jupyter-widgets/base",
      "_view_module_version": "1.2.0",
      "_view_name": "LayoutView",
      "align_content": null,
      "align_items": null,
      "align_self": null,
      "border": null,
      "bottom": null,
      "display": null,
      "flex": null,
      "flex_flow": null,
      "grid_area": null,
      "grid_auto_columns": null,
      "grid_auto_flow": null,
      "grid_auto_rows": null,
      "grid_column": null,
      "grid_gap": null,
      "grid_row": null,
      "grid_template_areas": null,
      "grid_template_columns": null,
      "grid_template_rows": null,
      "height": null,
      "justify_content": null,
      "justify_items": null,
      "left": null,
      "margin": null,
      "max_height": null,
      "max_width": null,
      "min_height": null,
      "min_width": null,
      "object_fit": null,
      "object_position": null,
      "order": null,
      "overflow": null,
      "overflow_x": null,
      "overflow_y": null,
      "padding": null,
      "right": null,
      "top": null,
      "visibility": null,
      "width": null
     }
    },
    "c34cc6d0ecb54fcaa768fa965a41ae90": {
     "model_module": "@jupyter-widgets/controls",
     "model_module_version": "1.5.0",
     "model_name": "HBoxModel",
     "state": {
      "_dom_classes": [],
      "_model_module": "@jupyter-widgets/controls",
      "_model_module_version": "1.5.0",
      "_model_name": "HBoxModel",
      "_view_count": null,
      "_view_module": "@jupyter-widgets/controls",
      "_view_module_version": "1.5.0",
      "_view_name": "HBoxView",
      "box_style": "",
      "children": [
       "IPY_MODEL_0d8f80487e244e34973a7277a76fa84c",
       "IPY_MODEL_e43a335e914a45a1abb80165c0390bcc",
       "IPY_MODEL_0b03169a08334b42ba0faabfc4e1788a"
      ],
      "layout": "IPY_MODEL_4fffe7551f1e40e28bb4682aa702df64"
     }
    },
    "c4198feeea9a41aca81444efcea7f31c": {
     "model_module": "@jupyter-widgets/base",
     "model_module_version": "1.2.0",
     "model_name": "LayoutModel",
     "state": {
      "_model_module": "@jupyter-widgets/base",
      "_model_module_version": "1.2.0",
      "_model_name": "LayoutModel",
      "_view_count": null,
      "_view_module": "@jupyter-widgets/base",
      "_view_module_version": "1.2.0",
      "_view_name": "LayoutView",
      "align_content": null,
      "align_items": null,
      "align_self": null,
      "border": null,
      "bottom": null,
      "display": null,
      "flex": null,
      "flex_flow": null,
      "grid_area": null,
      "grid_auto_columns": null,
      "grid_auto_flow": null,
      "grid_auto_rows": null,
      "grid_column": null,
      "grid_gap": null,
      "grid_row": null,
      "grid_template_areas": null,
      "grid_template_columns": null,
      "grid_template_rows": null,
      "height": null,
      "justify_content": null,
      "justify_items": null,
      "left": null,
      "margin": null,
      "max_height": null,
      "max_width": null,
      "min_height": null,
      "min_width": null,
      "object_fit": null,
      "object_position": null,
      "order": null,
      "overflow": null,
      "overflow_x": null,
      "overflow_y": null,
      "padding": null,
      "right": null,
      "top": null,
      "visibility": null,
      "width": null
     }
    },
    "d200a1f539944c25a09b6687773b9e13": {
     "model_module": "@jupyter-widgets/controls",
     "model_module_version": "1.5.0",
     "model_name": "DescriptionStyleModel",
     "state": {
      "_model_module": "@jupyter-widgets/controls",
      "_model_module_version": "1.5.0",
      "_model_name": "DescriptionStyleModel",
      "_view_count": null,
      "_view_module": "@jupyter-widgets/base",
      "_view_module_version": "1.2.0",
      "_view_name": "StyleView",
      "description_width": ""
     }
    },
    "d239ec8ed6ae473fbaead8e0dc3edde3": {
     "model_module": "@jupyter-widgets/controls",
     "model_module_version": "1.5.0",
     "model_name": "FloatProgressModel",
     "state": {
      "_dom_classes": [],
      "_model_module": "@jupyter-widgets/controls",
      "_model_module_version": "1.5.0",
      "_model_name": "FloatProgressModel",
      "_view_count": null,
      "_view_module": "@jupyter-widgets/controls",
      "_view_module_version": "1.5.0",
      "_view_name": "ProgressView",
      "bar_style": "success",
      "description": "",
      "description_tooltip": null,
      "layout": "IPY_MODEL_f63efe2b2469465eade49a15b5c7bf6c",
      "max": 466062,
      "min": 0,
      "orientation": "horizontal",
      "style": "IPY_MODEL_4a5ff22b8f724ae4bcdf5b74fedc26c9",
      "value": 466062
     }
    },
    "e43a335e914a45a1abb80165c0390bcc": {
     "model_module": "@jupyter-widgets/controls",
     "model_module_version": "1.5.0",
     "model_name": "FloatProgressModel",
     "state": {
      "_dom_classes": [],
      "_model_module": "@jupyter-widgets/controls",
      "_model_module_version": "1.5.0",
      "_model_name": "FloatProgressModel",
      "_view_count": null,
      "_view_module": "@jupyter-widgets/controls",
      "_view_module_version": "1.5.0",
      "_view_name": "ProgressView",
      "bar_style": "success",
      "description": "",
      "description_tooltip": null,
      "layout": "IPY_MODEL_a3d510a9fcf34a16a3215a0b6e8b2d2f",
      "max": 570,
      "min": 0,
      "orientation": "horizontal",
      "style": "IPY_MODEL_61edd6575d2c40a0802a67b7b2ff9e4b",
      "value": 570
     }
    },
    "e746f9bab8e6484193ece0f8d431660e": {
     "model_module": "@jupyter-widgets/base",
     "model_module_version": "1.2.0",
     "model_name": "LayoutModel",
     "state": {
      "_model_module": "@jupyter-widgets/base",
      "_model_module_version": "1.2.0",
      "_model_name": "LayoutModel",
      "_view_count": null,
      "_view_module": "@jupyter-widgets/base",
      "_view_module_version": "1.2.0",
      "_view_name": "LayoutView",
      "align_content": null,
      "align_items": null,
      "align_self": null,
      "border": null,
      "bottom": null,
      "display": null,
      "flex": null,
      "flex_flow": null,
      "grid_area": null,
      "grid_auto_columns": null,
      "grid_auto_flow": null,
      "grid_auto_rows": null,
      "grid_column": null,
      "grid_gap": null,
      "grid_row": null,
      "grid_template_areas": null,
      "grid_template_columns": null,
      "grid_template_rows": null,
      "height": null,
      "justify_content": null,
      "justify_items": null,
      "left": null,
      "margin": null,
      "max_height": null,
      "max_width": null,
      "min_height": null,
      "min_width": null,
      "object_fit": null,
      "object_position": null,
      "order": null,
      "overflow": null,
      "overflow_x": null,
      "overflow_y": null,
      "padding": null,
      "right": null,
      "top": null,
      "visibility": null,
      "width": null
     }
    },
    "ebd1a5396ec74419a4a74b93ff7e4f98": {
     "model_module": "@jupyter-widgets/controls",
     "model_module_version": "1.5.0",
     "model_name": "DescriptionStyleModel",
     "state": {
      "_model_module": "@jupyter-widgets/controls",
      "_model_module_version": "1.5.0",
      "_model_name": "DescriptionStyleModel",
      "_view_count": null,
      "_view_module": "@jupyter-widgets/base",
      "_view_module_version": "1.2.0",
      "_view_name": "StyleView",
      "description_width": ""
     }
    },
    "f02dc5515dbe44e58a124e3910290b95": {
     "model_module": "@jupyter-widgets/controls",
     "model_module_version": "1.5.0",
     "model_name": "HTMLModel",
     "state": {
      "_dom_classes": [],
      "_model_module": "@jupyter-widgets/controls",
      "_model_module_version": "1.5.0",
      "_model_name": "HTMLModel",
      "_view_count": null,
      "_view_module": "@jupyter-widgets/controls",
      "_view_module_version": "1.5.0",
      "_view_name": "HTMLView",
      "description": "",
      "description_tooltip": null,
      "layout": "IPY_MODEL_c4198feeea9a41aca81444efcea7f31c",
      "placeholder": "​",
      "style": "IPY_MODEL_86eb1a8901aa4844918266ba956fff9b",
      "value": " 232k/232k [00:00&lt;00:00, 2.19MB/s]"
     }
    },
    "f63515fba5424c79a1549c1f14e41a9d": {
     "model_module": "@jupyter-widgets/controls",
     "model_module_version": "1.5.0",
     "model_name": "HTMLModel",
     "state": {
      "_dom_classes": [],
      "_model_module": "@jupyter-widgets/controls",
      "_model_module_version": "1.5.0",
      "_model_name": "HTMLModel",
      "_view_count": null,
      "_view_module": "@jupyter-widgets/controls",
      "_view_module_version": "1.5.0",
      "_view_name": "HTMLView",
      "description": "",
      "description_tooltip": null,
      "layout": "IPY_MODEL_aee9590e58a0474d9dfd2a0169b5621d",
      "placeholder": "​",
      "style": "IPY_MODEL_82f0a1d8502841e8a6d453fe0601b419",
      "value": "tokenizer.json: 100%"
     }
    },
    "f63efe2b2469465eade49a15b5c7bf6c": {
     "model_module": "@jupyter-widgets/base",
     "model_module_version": "1.2.0",
     "model_name": "LayoutModel",
     "state": {
      "_model_module": "@jupyter-widgets/base",
      "_model_module_version": "1.2.0",
      "_model_name": "LayoutModel",
      "_view_count": null,
      "_view_module": "@jupyter-widgets/base",
      "_view_module_version": "1.2.0",
      "_view_name": "LayoutView",
      "align_content": null,
      "align_items": null,
      "align_self": null,
      "border": null,
      "bottom": null,
      "display": null,
      "flex": null,
      "flex_flow": null,
      "grid_area": null,
      "grid_auto_columns": null,
      "grid_auto_flow": null,
      "grid_auto_rows": null,
      "grid_column": null,
      "grid_gap": null,
      "grid_row": null,
      "grid_template_areas": null,
      "grid_template_columns": null,
      "grid_template_rows": null,
      "height": null,
      "justify_content": null,
      "justify_items": null,
      "left": null,
      "margin": null,
      "max_height": null,
      "max_width": null,
      "min_height": null,
      "min_width": null,
      "object_fit": null,
      "object_position": null,
      "order": null,
      "overflow": null,
      "overflow_x": null,
      "overflow_y": null,
      "padding": null,
      "right": null,
      "top": null,
      "visibility": null,
      "width": null
     }
    },
    "fc546c1f05e5456091587903ede5ee34": {
     "model_module": "@jupyter-widgets/base",
     "model_module_version": "1.2.0",
     "model_name": "LayoutModel",
     "state": {
      "_model_module": "@jupyter-widgets/base",
      "_model_module_version": "1.2.0",
      "_model_name": "LayoutModel",
      "_view_count": null,
      "_view_module": "@jupyter-widgets/base",
      "_view_module_version": "1.2.0",
      "_view_name": "LayoutView",
      "align_content": null,
      "align_items": null,
      "align_self": null,
      "border": null,
      "bottom": null,
      "display": null,
      "flex": null,
      "flex_flow": null,
      "grid_area": null,
      "grid_auto_columns": null,
      "grid_auto_flow": null,
      "grid_auto_rows": null,
      "grid_column": null,
      "grid_gap": null,
      "grid_row": null,
      "grid_template_areas": null,
      "grid_template_columns": null,
      "grid_template_rows": null,
      "height": null,
      "justify_content": null,
      "justify_items": null,
      "left": null,
      "margin": null,
      "max_height": null,
      "max_width": null,
      "min_height": null,
      "min_width": null,
      "object_fit": null,
      "object_position": null,
      "order": null,
      "overflow": null,
      "overflow_x": null,
      "overflow_y": null,
      "padding": null,
      "right": null,
      "top": null,
      "visibility": null,
      "width": null
     }
    }
   }
  }
 },
 "nbformat": 4,
 "nbformat_minor": 5
}
